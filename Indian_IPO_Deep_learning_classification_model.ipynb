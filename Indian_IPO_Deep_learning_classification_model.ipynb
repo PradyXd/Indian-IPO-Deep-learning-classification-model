{
  "metadata": {
    "kernelspec": {
      "name": "python3",
      "display_name": "Python 3",
      "language": "python"
    },
    "language_info": {
      "name": "python",
      "version": "3.11.11",
      "mimetype": "text/x-python",
      "codemirror_mode": {
        "name": "ipython",
        "version": 3
      },
      "pygments_lexer": "ipython3",
      "nbconvert_exporter": "python",
      "file_extension": ".py"
    },
    "colab": {
      "provenance": []
    },
    "kaggle": {
      "accelerator": "none",
      "dataSources": [
        {
          "sourceId": 10208619,
          "sourceType": "datasetVersion",
          "datasetId": 6309219
        }
      ],
      "dockerImageVersionId": 31012,
      "isInternetEnabled": true,
      "language": "python",
      "sourceType": "notebook",
      "isGpuEnabled": false
    }
  },
  "nbformat_minor": 0,
  "nbformat": 4,
  "cells": [
    {
      "source": [
        "import kagglehub\n",
        "pastorsoto_indian_market_path = kagglehub.dataset_download('pastorsoto/indian-market')\n",
        "\n",
        "print('Data source import complete.')\n"
      ],
      "metadata": {
        "id": "EvGeRugL4IPT",
        "colab": {
          "base_uri": "https://localhost:8080/"
        },
        "outputId": "e8b2d668-0cd4-4448-db7e-a134434c356a"
      },
      "cell_type": "code",
      "outputs": [
        {
          "output_type": "stream",
          "name": "stdout",
          "text": [
            "Data source import complete.\n"
          ]
        }
      ],
      "execution_count": 83
    },
    {
      "cell_type": "markdown",
      "source": [
        "### Loading the Libraries and the Data"
      ],
      "metadata": {
        "id": "dTdXd8bRK5ul"
      }
    },
    {
      "cell_type": "code",
      "source": [
        "import numpy as np\n",
        "import pandas as pd\n",
        "import seaborn as sns\n",
        "import matplotlib.pyplot as plt\n",
        "\n",
        "import tensorflow as tf\n",
        "from tensorflow import keras\n",
        "from tensorflow.keras import layers\n",
        "from sklearn.model_selection import train_test_split\n",
        "from sklearn.metrics import mean_squared_error\n",
        "from math import sqrt"
      ],
      "metadata": {
        "execution": {
          "iopub.status.busy": "2025-04-13T10:39:20.182792Z",
          "iopub.execute_input": "2025-04-13T10:39:20.183092Z",
          "iopub.status.idle": "2025-04-13T10:39:40.616304Z",
          "shell.execute_reply.started": "2025-04-13T10:39:20.183038Z",
          "shell.execute_reply": "2025-04-13T10:39:40.615306Z"
        },
        "id": "f022OaJIK5ul",
        "trusted": true
      },
      "outputs": [],
      "execution_count": 84
    },
    {
      "cell_type": "code",
      "source": [
        "df = pd.read_csv('/kaggle/input/indian-market/Indian_IPO_Market_Data.csv')\n",
        "print(df.shape)\n",
        "df.head()"
      ],
      "metadata": {
        "colab": {
          "base_uri": "https://localhost:8080/",
          "height": 313
        },
        "execution": {
          "iopub.status.busy": "2025-04-13T10:39:40.618517Z",
          "iopub.execute_input": "2025-04-13T10:39:40.619778Z",
          "iopub.status.idle": "2025-04-13T10:39:40.669423Z",
          "shell.execute_reply.started": "2025-04-13T10:39:40.619727Z",
          "shell.execute_reply": "2025-04-13T10:39:40.668417Z"
        },
        "id": "ZAw9a566K5um",
        "outputId": "4e7a7169-98c4-40e5-85f7-bb63574db515",
        "trusted": true
      },
      "outputs": [
        {
          "output_type": "stream",
          "name": "stdout",
          "text": [
            "(319, 9)\n"
          ]
        },
        {
          "output_type": "execute_result",
          "data": {
            "text/plain": [
              "      Date           IPOName  Issue_Size  Subscription_QIB  Subscription_HNI  \\\n",
              "0  03/02/10    Infinite Comp      189.80             48.44            106.02   \n",
              "1  08/02/10    Jubilant Food      328.70             59.39             51.95   \n",
              "2  15/02/10    Syncom Health       56.25              0.99             16.60   \n",
              "3  15/02/10  Vascon Engineer      199.80              1.12              3.65   \n",
              "4  19/02/10      Thangamayil        0.00              0.52              1.52   \n",
              "\n",
              "   Subscription_RII  Subscription_Total  Issue_Price  Listing_Gains_Percent  \n",
              "0             11.08               43.22          165                  11.82  \n",
              "1              3.79               31.11          145                 -84.21  \n",
              "2              6.25                5.17           75                  17.13  \n",
              "3              0.62                1.22          165                 -11.28  \n",
              "4              2.26                1.12           75                  -5.20  "
            ],
            "text/html": [
              "\n",
              "  <div id=\"df-2c92cebe-f1b5-4991-a768-d93231875cf0\" class=\"colab-df-container\">\n",
              "    <div>\n",
              "<style scoped>\n",
              "    .dataframe tbody tr th:only-of-type {\n",
              "        vertical-align: middle;\n",
              "    }\n",
              "\n",
              "    .dataframe tbody tr th {\n",
              "        vertical-align: top;\n",
              "    }\n",
              "\n",
              "    .dataframe thead th {\n",
              "        text-align: right;\n",
              "    }\n",
              "</style>\n",
              "<table border=\"1\" class=\"dataframe\">\n",
              "  <thead>\n",
              "    <tr style=\"text-align: right;\">\n",
              "      <th></th>\n",
              "      <th>Date</th>\n",
              "      <th>IPOName</th>\n",
              "      <th>Issue_Size</th>\n",
              "      <th>Subscription_QIB</th>\n",
              "      <th>Subscription_HNI</th>\n",
              "      <th>Subscription_RII</th>\n",
              "      <th>Subscription_Total</th>\n",
              "      <th>Issue_Price</th>\n",
              "      <th>Listing_Gains_Percent</th>\n",
              "    </tr>\n",
              "  </thead>\n",
              "  <tbody>\n",
              "    <tr>\n",
              "      <th>0</th>\n",
              "      <td>03/02/10</td>\n",
              "      <td>Infinite Comp</td>\n",
              "      <td>189.80</td>\n",
              "      <td>48.44</td>\n",
              "      <td>106.02</td>\n",
              "      <td>11.08</td>\n",
              "      <td>43.22</td>\n",
              "      <td>165</td>\n",
              "      <td>11.82</td>\n",
              "    </tr>\n",
              "    <tr>\n",
              "      <th>1</th>\n",
              "      <td>08/02/10</td>\n",
              "      <td>Jubilant Food</td>\n",
              "      <td>328.70</td>\n",
              "      <td>59.39</td>\n",
              "      <td>51.95</td>\n",
              "      <td>3.79</td>\n",
              "      <td>31.11</td>\n",
              "      <td>145</td>\n",
              "      <td>-84.21</td>\n",
              "    </tr>\n",
              "    <tr>\n",
              "      <th>2</th>\n",
              "      <td>15/02/10</td>\n",
              "      <td>Syncom Health</td>\n",
              "      <td>56.25</td>\n",
              "      <td>0.99</td>\n",
              "      <td>16.60</td>\n",
              "      <td>6.25</td>\n",
              "      <td>5.17</td>\n",
              "      <td>75</td>\n",
              "      <td>17.13</td>\n",
              "    </tr>\n",
              "    <tr>\n",
              "      <th>3</th>\n",
              "      <td>15/02/10</td>\n",
              "      <td>Vascon Engineer</td>\n",
              "      <td>199.80</td>\n",
              "      <td>1.12</td>\n",
              "      <td>3.65</td>\n",
              "      <td>0.62</td>\n",
              "      <td>1.22</td>\n",
              "      <td>165</td>\n",
              "      <td>-11.28</td>\n",
              "    </tr>\n",
              "    <tr>\n",
              "      <th>4</th>\n",
              "      <td>19/02/10</td>\n",
              "      <td>Thangamayil</td>\n",
              "      <td>0.00</td>\n",
              "      <td>0.52</td>\n",
              "      <td>1.52</td>\n",
              "      <td>2.26</td>\n",
              "      <td>1.12</td>\n",
              "      <td>75</td>\n",
              "      <td>-5.20</td>\n",
              "    </tr>\n",
              "  </tbody>\n",
              "</table>\n",
              "</div>\n",
              "    <div class=\"colab-df-buttons\">\n",
              "\n",
              "  <div class=\"colab-df-container\">\n",
              "    <button class=\"colab-df-convert\" onclick=\"convertToInteractive('df-2c92cebe-f1b5-4991-a768-d93231875cf0')\"\n",
              "            title=\"Convert this dataframe to an interactive table.\"\n",
              "            style=\"display:none;\">\n",
              "\n",
              "  <svg xmlns=\"http://www.w3.org/2000/svg\" height=\"24px\" viewBox=\"0 -960 960 960\">\n",
              "    <path d=\"M120-120v-720h720v720H120Zm60-500h600v-160H180v160Zm220 220h160v-160H400v160Zm0 220h160v-160H400v160ZM180-400h160v-160H180v160Zm440 0h160v-160H620v160ZM180-180h160v-160H180v160Zm440 0h160v-160H620v160Z\"/>\n",
              "  </svg>\n",
              "    </button>\n",
              "\n",
              "  <style>\n",
              "    .colab-df-container {\n",
              "      display:flex;\n",
              "      gap: 12px;\n",
              "    }\n",
              "\n",
              "    .colab-df-convert {\n",
              "      background-color: #E8F0FE;\n",
              "      border: none;\n",
              "      border-radius: 50%;\n",
              "      cursor: pointer;\n",
              "      display: none;\n",
              "      fill: #1967D2;\n",
              "      height: 32px;\n",
              "      padding: 0 0 0 0;\n",
              "      width: 32px;\n",
              "    }\n",
              "\n",
              "    .colab-df-convert:hover {\n",
              "      background-color: #E2EBFA;\n",
              "      box-shadow: 0px 1px 2px rgba(60, 64, 67, 0.3), 0px 1px 3px 1px rgba(60, 64, 67, 0.15);\n",
              "      fill: #174EA6;\n",
              "    }\n",
              "\n",
              "    .colab-df-buttons div {\n",
              "      margin-bottom: 4px;\n",
              "    }\n",
              "\n",
              "    [theme=dark] .colab-df-convert {\n",
              "      background-color: #3B4455;\n",
              "      fill: #D2E3FC;\n",
              "    }\n",
              "\n",
              "    [theme=dark] .colab-df-convert:hover {\n",
              "      background-color: #434B5C;\n",
              "      box-shadow: 0px 1px 3px 1px rgba(0, 0, 0, 0.15);\n",
              "      filter: drop-shadow(0px 1px 2px rgba(0, 0, 0, 0.3));\n",
              "      fill: #FFFFFF;\n",
              "    }\n",
              "  </style>\n",
              "\n",
              "    <script>\n",
              "      const buttonEl =\n",
              "        document.querySelector('#df-2c92cebe-f1b5-4991-a768-d93231875cf0 button.colab-df-convert');\n",
              "      buttonEl.style.display =\n",
              "        google.colab.kernel.accessAllowed ? 'block' : 'none';\n",
              "\n",
              "      async function convertToInteractive(key) {\n",
              "        const element = document.querySelector('#df-2c92cebe-f1b5-4991-a768-d93231875cf0');\n",
              "        const dataTable =\n",
              "          await google.colab.kernel.invokeFunction('convertToInteractive',\n",
              "                                                    [key], {});\n",
              "        if (!dataTable) return;\n",
              "\n",
              "        const docLinkHtml = 'Like what you see? Visit the ' +\n",
              "          '<a target=\"_blank\" href=https://colab.research.google.com/notebooks/data_table.ipynb>data table notebook</a>'\n",
              "          + ' to learn more about interactive tables.';\n",
              "        element.innerHTML = '';\n",
              "        dataTable['output_type'] = 'display_data';\n",
              "        await google.colab.output.renderOutput(dataTable, element);\n",
              "        const docLink = document.createElement('div');\n",
              "        docLink.innerHTML = docLinkHtml;\n",
              "        element.appendChild(docLink);\n",
              "      }\n",
              "    </script>\n",
              "  </div>\n",
              "\n",
              "\n",
              "    <div id=\"df-0b49b5b6-17e5-4d41-b6c4-1ac97fa836db\">\n",
              "      <button class=\"colab-df-quickchart\" onclick=\"quickchart('df-0b49b5b6-17e5-4d41-b6c4-1ac97fa836db')\"\n",
              "                title=\"Suggest charts\"\n",
              "                style=\"display:none;\">\n",
              "\n",
              "<svg xmlns=\"http://www.w3.org/2000/svg\" height=\"24px\"viewBox=\"0 0 24 24\"\n",
              "     width=\"24px\">\n",
              "    <g>\n",
              "        <path d=\"M19 3H5c-1.1 0-2 .9-2 2v14c0 1.1.9 2 2 2h14c1.1 0 2-.9 2-2V5c0-1.1-.9-2-2-2zM9 17H7v-7h2v7zm4 0h-2V7h2v10zm4 0h-2v-4h2v4z\"/>\n",
              "    </g>\n",
              "</svg>\n",
              "      </button>\n",
              "\n",
              "<style>\n",
              "  .colab-df-quickchart {\n",
              "      --bg-color: #E8F0FE;\n",
              "      --fill-color: #1967D2;\n",
              "      --hover-bg-color: #E2EBFA;\n",
              "      --hover-fill-color: #174EA6;\n",
              "      --disabled-fill-color: #AAA;\n",
              "      --disabled-bg-color: #DDD;\n",
              "  }\n",
              "\n",
              "  [theme=dark] .colab-df-quickchart {\n",
              "      --bg-color: #3B4455;\n",
              "      --fill-color: #D2E3FC;\n",
              "      --hover-bg-color: #434B5C;\n",
              "      --hover-fill-color: #FFFFFF;\n",
              "      --disabled-bg-color: #3B4455;\n",
              "      --disabled-fill-color: #666;\n",
              "  }\n",
              "\n",
              "  .colab-df-quickchart {\n",
              "    background-color: var(--bg-color);\n",
              "    border: none;\n",
              "    border-radius: 50%;\n",
              "    cursor: pointer;\n",
              "    display: none;\n",
              "    fill: var(--fill-color);\n",
              "    height: 32px;\n",
              "    padding: 0;\n",
              "    width: 32px;\n",
              "  }\n",
              "\n",
              "  .colab-df-quickchart:hover {\n",
              "    background-color: var(--hover-bg-color);\n",
              "    box-shadow: 0 1px 2px rgba(60, 64, 67, 0.3), 0 1px 3px 1px rgba(60, 64, 67, 0.15);\n",
              "    fill: var(--button-hover-fill-color);\n",
              "  }\n",
              "\n",
              "  .colab-df-quickchart-complete:disabled,\n",
              "  .colab-df-quickchart-complete:disabled:hover {\n",
              "    background-color: var(--disabled-bg-color);\n",
              "    fill: var(--disabled-fill-color);\n",
              "    box-shadow: none;\n",
              "  }\n",
              "\n",
              "  .colab-df-spinner {\n",
              "    border: 2px solid var(--fill-color);\n",
              "    border-color: transparent;\n",
              "    border-bottom-color: var(--fill-color);\n",
              "    animation:\n",
              "      spin 1s steps(1) infinite;\n",
              "  }\n",
              "\n",
              "  @keyframes spin {\n",
              "    0% {\n",
              "      border-color: transparent;\n",
              "      border-bottom-color: var(--fill-color);\n",
              "      border-left-color: var(--fill-color);\n",
              "    }\n",
              "    20% {\n",
              "      border-color: transparent;\n",
              "      border-left-color: var(--fill-color);\n",
              "      border-top-color: var(--fill-color);\n",
              "    }\n",
              "    30% {\n",
              "      border-color: transparent;\n",
              "      border-left-color: var(--fill-color);\n",
              "      border-top-color: var(--fill-color);\n",
              "      border-right-color: var(--fill-color);\n",
              "    }\n",
              "    40% {\n",
              "      border-color: transparent;\n",
              "      border-right-color: var(--fill-color);\n",
              "      border-top-color: var(--fill-color);\n",
              "    }\n",
              "    60% {\n",
              "      border-color: transparent;\n",
              "      border-right-color: var(--fill-color);\n",
              "    }\n",
              "    80% {\n",
              "      border-color: transparent;\n",
              "      border-right-color: var(--fill-color);\n",
              "      border-bottom-color: var(--fill-color);\n",
              "    }\n",
              "    90% {\n",
              "      border-color: transparent;\n",
              "      border-bottom-color: var(--fill-color);\n",
              "    }\n",
              "  }\n",
              "</style>\n",
              "\n",
              "      <script>\n",
              "        async function quickchart(key) {\n",
              "          const quickchartButtonEl =\n",
              "            document.querySelector('#' + key + ' button');\n",
              "          quickchartButtonEl.disabled = true;  // To prevent multiple clicks.\n",
              "          quickchartButtonEl.classList.add('colab-df-spinner');\n",
              "          try {\n",
              "            const charts = await google.colab.kernel.invokeFunction(\n",
              "                'suggestCharts', [key], {});\n",
              "          } catch (error) {\n",
              "            console.error('Error during call to suggestCharts:', error);\n",
              "          }\n",
              "          quickchartButtonEl.classList.remove('colab-df-spinner');\n",
              "          quickchartButtonEl.classList.add('colab-df-quickchart-complete');\n",
              "        }\n",
              "        (() => {\n",
              "          let quickchartButtonEl =\n",
              "            document.querySelector('#df-0b49b5b6-17e5-4d41-b6c4-1ac97fa836db button');\n",
              "          quickchartButtonEl.style.display =\n",
              "            google.colab.kernel.accessAllowed ? 'block' : 'none';\n",
              "        })();\n",
              "      </script>\n",
              "    </div>\n",
              "\n",
              "    </div>\n",
              "  </div>\n"
            ],
            "application/vnd.google.colaboratory.intrinsic+json": {
              "type": "dataframe",
              "variable_name": "df",
              "summary": "{\n  \"name\": \"df\",\n  \"rows\": 319,\n  \"fields\": [\n    {\n      \"column\": \"Date \",\n      \"properties\": {\n        \"dtype\": \"object\",\n        \"num_unique_values\": 287,\n        \"samples\": [\n          \"11/03/10\",\n          \"23/11/21\",\n          \"21/03/17\"\n        ],\n        \"semantic_type\": \"\",\n        \"description\": \"\"\n      }\n    },\n    {\n      \"column\": \"IPOName\",\n      \"properties\": {\n        \"dtype\": \"string\",\n        \"num_unique_values\": 319,\n        \"samples\": [\n          \"Sanghvi Forging\",\n          \"Sterling Wilson\",\n          \"Jaypee Infra\"\n        ],\n        \"semantic_type\": \"\",\n        \"description\": \"\"\n      }\n    },\n    {\n      \"column\": \"Issue_Size\",\n      \"properties\": {\n        \"dtype\": \"number\",\n        \"std\": 2384.6437861648546,\n        \"min\": 0.0,\n        \"max\": 21000.0,\n        \"num_unique_values\": 287,\n        \"samples\": [\n          103.0,\n          1209.0,\n          1243.0\n        ],\n        \"semantic_type\": \"\",\n        \"description\": \"\"\n      }\n    },\n    {\n      \"column\": \"Subscription_QIB\",\n      \"properties\": {\n        \"dtype\": \"number\",\n        \"std\": 40.71678181276687,\n        \"min\": 0.0,\n        \"max\": 215.45,\n        \"num_unique_values\": 275,\n        \"samples\": [\n          20.38,\n          51.62,\n          57.18\n        ],\n        \"semantic_type\": \"\",\n        \"description\": \"\"\n      }\n    },\n    {\n      \"column\": \"Subscription_HNI\",\n      \"properties\": {\n        \"dtype\": \"number\",\n        \"std\": 142.45441592870466,\n        \"min\": 0.0,\n        \"max\": 958.07,\n        \"num_unique_values\": 289,\n        \"samples\": [\n          13.91,\n          10.39,\n          56.3\n        ],\n        \"semantic_type\": \"\",\n        \"description\": \"\"\n      }\n    },\n    {\n      \"column\": \"Subscription_RII\",\n      \"properties\": {\n        \"dtype\": \"number\",\n        \"std\": 14.508670004435576,\n        \"min\": 0.0,\n        \"max\": 119.44,\n        \"num_unique_values\": 279,\n        \"samples\": [\n          6.62,\n          4.24,\n          14.07\n        ],\n        \"semantic_type\": \"\",\n        \"description\": \"\"\n      }\n    },\n    {\n      \"column\": \"Subscription_Total\",\n      \"properties\": {\n        \"dtype\": \"number\",\n        \"std\": 48.77220291371759,\n        \"min\": 0.0,\n        \"max\": 326.49,\n        \"num_unique_values\": 278,\n        \"samples\": [\n          13.69,\n          40.68,\n          26.54\n        ],\n        \"semantic_type\": \"\",\n        \"description\": \"\"\n      }\n    },\n    {\n      \"column\": \"Issue_Price\",\n      \"properties\": {\n        \"dtype\": \"number\",\n        \"std\": 353,\n        \"min\": 0,\n        \"max\": 2150,\n        \"num_unique_values\": 232,\n        \"samples\": [\n          68,\n          138,\n          252\n        ],\n        \"semantic_type\": \"\",\n        \"description\": \"\"\n      }\n    },\n    {\n      \"column\": \"Listing_Gains_Percent\",\n      \"properties\": {\n        \"dtype\": \"number\",\n        \"std\": 47.65094637248467,\n        \"min\": -97.15,\n        \"max\": 270.4,\n        \"num_unique_values\": 312,\n        \"samples\": [\n          21.36,\n          63.62,\n          -9.71\n        ],\n        \"semantic_type\": \"\",\n        \"description\": \"\"\n      }\n    }\n  ]\n}"
            }
          },
          "metadata": {},
          "execution_count": 85
        }
      ],
      "execution_count": 85
    },
    {
      "cell_type": "code",
      "source": [
        "for col in df.columns:\n",
        "  print(col)"
      ],
      "metadata": {
        "colab": {
          "base_uri": "https://localhost:8080/"
        },
        "execution": {
          "iopub.status.busy": "2025-04-13T10:39:40.670231Z",
          "iopub.execute_input": "2025-04-13T10:39:40.67058Z",
          "iopub.status.idle": "2025-04-13T10:39:40.675789Z",
          "shell.execute_reply.started": "2025-04-13T10:39:40.670552Z",
          "shell.execute_reply": "2025-04-13T10:39:40.674821Z"
        },
        "id": "CA00EsP5K5un",
        "outputId": "afa7119e-4d85-41e1-b256-cb514a98a680",
        "trusted": true
      },
      "outputs": [
        {
          "output_type": "stream",
          "name": "stdout",
          "text": [
            "Date \n",
            "IPOName\n",
            "Issue_Size\n",
            "Subscription_QIB\n",
            "Subscription_HNI\n",
            "Subscription_RII\n",
            "Subscription_Total\n",
            "Issue_Price\n",
            "Listing_Gains_Percent\n"
          ]
        }
      ],
      "execution_count": 86
    },
    {
      "cell_type": "code",
      "source": [
        "df.describe(include='all')"
      ],
      "metadata": {
        "colab": {
          "base_uri": "https://localhost:8080/",
          "height": 431
        },
        "execution": {
          "iopub.status.busy": "2025-04-13T10:39:40.676733Z",
          "iopub.execute_input": "2025-04-13T10:39:40.676989Z",
          "iopub.status.idle": "2025-04-13T10:39:40.730172Z",
          "shell.execute_reply.started": "2025-04-13T10:39:40.676962Z",
          "shell.execute_reply": "2025-04-13T10:39:40.729202Z"
        },
        "id": "d8VNWtLDK5un",
        "outputId": "5cfd8d1d-81e8-407b-ad47-c8f08bd687f5",
        "trusted": true
      },
      "outputs": [
        {
          "output_type": "execute_result",
          "data": {
            "text/plain": [
              "           Date           IPOName    Issue_Size  Subscription_QIB  \\\n",
              "count        319              319    319.000000        319.000000   \n",
              "unique       287              319           NaN               NaN   \n",
              "top     16/08/21  Electronics Mar           NaN               NaN   \n",
              "freq           4                1           NaN               NaN   \n",
              "mean         NaN              NaN   1192.859969         25.684138   \n",
              "std          NaN              NaN   2384.643786         40.716782   \n",
              "min          NaN              NaN      0.000000          0.000000   \n",
              "25%          NaN              NaN    169.005000          1.150000   \n",
              "50%          NaN              NaN    496.250000          4.940000   \n",
              "75%          NaN              NaN   1100.000000         34.635000   \n",
              "max          NaN              NaN  21000.000000        215.450000   \n",
              "\n",
              "        Subscription_HNI  Subscription_RII  Subscription_Total  Issue_Price  \\\n",
              "count         319.000000        319.000000          319.000000   319.000000   \n",
              "unique               NaN               NaN                 NaN          NaN   \n",
              "top                  NaN               NaN                 NaN          NaN   \n",
              "freq                 NaN               NaN                 NaN          NaN   \n",
              "mean           70.091379          8.561599           27.447147   375.128527   \n",
              "std           142.454416         14.508670           48.772203   353.897614   \n",
              "min             0.000000          0.000000            0.000000     0.000000   \n",
              "25%             1.255000          1.275000            1.645000   119.000000   \n",
              "50%             5.070000          3.420000            4.930000   250.000000   \n",
              "75%            62.095000          8.605000           33.395000   536.000000   \n",
              "max           958.070000        119.440000          326.490000  2150.000000   \n",
              "\n",
              "        Listing_Gains_Percent  \n",
              "count              319.000000  \n",
              "unique                    NaN  \n",
              "top                       NaN  \n",
              "freq                      NaN  \n",
              "mean                 4.742696  \n",
              "std                 47.650946  \n",
              "min                -97.150000  \n",
              "25%                -11.555000  \n",
              "50%                  1.810000  \n",
              "75%                 25.310000  \n",
              "max                270.400000  "
            ],
            "text/html": [
              "\n",
              "  <div id=\"df-e7904021-15c8-43e7-9a56-e3e60c86e1c9\" class=\"colab-df-container\">\n",
              "    <div>\n",
              "<style scoped>\n",
              "    .dataframe tbody tr th:only-of-type {\n",
              "        vertical-align: middle;\n",
              "    }\n",
              "\n",
              "    .dataframe tbody tr th {\n",
              "        vertical-align: top;\n",
              "    }\n",
              "\n",
              "    .dataframe thead th {\n",
              "        text-align: right;\n",
              "    }\n",
              "</style>\n",
              "<table border=\"1\" class=\"dataframe\">\n",
              "  <thead>\n",
              "    <tr style=\"text-align: right;\">\n",
              "      <th></th>\n",
              "      <th>Date</th>\n",
              "      <th>IPOName</th>\n",
              "      <th>Issue_Size</th>\n",
              "      <th>Subscription_QIB</th>\n",
              "      <th>Subscription_HNI</th>\n",
              "      <th>Subscription_RII</th>\n",
              "      <th>Subscription_Total</th>\n",
              "      <th>Issue_Price</th>\n",
              "      <th>Listing_Gains_Percent</th>\n",
              "    </tr>\n",
              "  </thead>\n",
              "  <tbody>\n",
              "    <tr>\n",
              "      <th>count</th>\n",
              "      <td>319</td>\n",
              "      <td>319</td>\n",
              "      <td>319.000000</td>\n",
              "      <td>319.000000</td>\n",
              "      <td>319.000000</td>\n",
              "      <td>319.000000</td>\n",
              "      <td>319.000000</td>\n",
              "      <td>319.000000</td>\n",
              "      <td>319.000000</td>\n",
              "    </tr>\n",
              "    <tr>\n",
              "      <th>unique</th>\n",
              "      <td>287</td>\n",
              "      <td>319</td>\n",
              "      <td>NaN</td>\n",
              "      <td>NaN</td>\n",
              "      <td>NaN</td>\n",
              "      <td>NaN</td>\n",
              "      <td>NaN</td>\n",
              "      <td>NaN</td>\n",
              "      <td>NaN</td>\n",
              "    </tr>\n",
              "    <tr>\n",
              "      <th>top</th>\n",
              "      <td>16/08/21</td>\n",
              "      <td>Electronics Mar</td>\n",
              "      <td>NaN</td>\n",
              "      <td>NaN</td>\n",
              "      <td>NaN</td>\n",
              "      <td>NaN</td>\n",
              "      <td>NaN</td>\n",
              "      <td>NaN</td>\n",
              "      <td>NaN</td>\n",
              "    </tr>\n",
              "    <tr>\n",
              "      <th>freq</th>\n",
              "      <td>4</td>\n",
              "      <td>1</td>\n",
              "      <td>NaN</td>\n",
              "      <td>NaN</td>\n",
              "      <td>NaN</td>\n",
              "      <td>NaN</td>\n",
              "      <td>NaN</td>\n",
              "      <td>NaN</td>\n",
              "      <td>NaN</td>\n",
              "    </tr>\n",
              "    <tr>\n",
              "      <th>mean</th>\n",
              "      <td>NaN</td>\n",
              "      <td>NaN</td>\n",
              "      <td>1192.859969</td>\n",
              "      <td>25.684138</td>\n",
              "      <td>70.091379</td>\n",
              "      <td>8.561599</td>\n",
              "      <td>27.447147</td>\n",
              "      <td>375.128527</td>\n",
              "      <td>4.742696</td>\n",
              "    </tr>\n",
              "    <tr>\n",
              "      <th>std</th>\n",
              "      <td>NaN</td>\n",
              "      <td>NaN</td>\n",
              "      <td>2384.643786</td>\n",
              "      <td>40.716782</td>\n",
              "      <td>142.454416</td>\n",
              "      <td>14.508670</td>\n",
              "      <td>48.772203</td>\n",
              "      <td>353.897614</td>\n",
              "      <td>47.650946</td>\n",
              "    </tr>\n",
              "    <tr>\n",
              "      <th>min</th>\n",
              "      <td>NaN</td>\n",
              "      <td>NaN</td>\n",
              "      <td>0.000000</td>\n",
              "      <td>0.000000</td>\n",
              "      <td>0.000000</td>\n",
              "      <td>0.000000</td>\n",
              "      <td>0.000000</td>\n",
              "      <td>0.000000</td>\n",
              "      <td>-97.150000</td>\n",
              "    </tr>\n",
              "    <tr>\n",
              "      <th>25%</th>\n",
              "      <td>NaN</td>\n",
              "      <td>NaN</td>\n",
              "      <td>169.005000</td>\n",
              "      <td>1.150000</td>\n",
              "      <td>1.255000</td>\n",
              "      <td>1.275000</td>\n",
              "      <td>1.645000</td>\n",
              "      <td>119.000000</td>\n",
              "      <td>-11.555000</td>\n",
              "    </tr>\n",
              "    <tr>\n",
              "      <th>50%</th>\n",
              "      <td>NaN</td>\n",
              "      <td>NaN</td>\n",
              "      <td>496.250000</td>\n",
              "      <td>4.940000</td>\n",
              "      <td>5.070000</td>\n",
              "      <td>3.420000</td>\n",
              "      <td>4.930000</td>\n",
              "      <td>250.000000</td>\n",
              "      <td>1.810000</td>\n",
              "    </tr>\n",
              "    <tr>\n",
              "      <th>75%</th>\n",
              "      <td>NaN</td>\n",
              "      <td>NaN</td>\n",
              "      <td>1100.000000</td>\n",
              "      <td>34.635000</td>\n",
              "      <td>62.095000</td>\n",
              "      <td>8.605000</td>\n",
              "      <td>33.395000</td>\n",
              "      <td>536.000000</td>\n",
              "      <td>25.310000</td>\n",
              "    </tr>\n",
              "    <tr>\n",
              "      <th>max</th>\n",
              "      <td>NaN</td>\n",
              "      <td>NaN</td>\n",
              "      <td>21000.000000</td>\n",
              "      <td>215.450000</td>\n",
              "      <td>958.070000</td>\n",
              "      <td>119.440000</td>\n",
              "      <td>326.490000</td>\n",
              "      <td>2150.000000</td>\n",
              "      <td>270.400000</td>\n",
              "    </tr>\n",
              "  </tbody>\n",
              "</table>\n",
              "</div>\n",
              "    <div class=\"colab-df-buttons\">\n",
              "\n",
              "  <div class=\"colab-df-container\">\n",
              "    <button class=\"colab-df-convert\" onclick=\"convertToInteractive('df-e7904021-15c8-43e7-9a56-e3e60c86e1c9')\"\n",
              "            title=\"Convert this dataframe to an interactive table.\"\n",
              "            style=\"display:none;\">\n",
              "\n",
              "  <svg xmlns=\"http://www.w3.org/2000/svg\" height=\"24px\" viewBox=\"0 -960 960 960\">\n",
              "    <path d=\"M120-120v-720h720v720H120Zm60-500h600v-160H180v160Zm220 220h160v-160H400v160Zm0 220h160v-160H400v160ZM180-400h160v-160H180v160Zm440 0h160v-160H620v160ZM180-180h160v-160H180v160Zm440 0h160v-160H620v160Z\"/>\n",
              "  </svg>\n",
              "    </button>\n",
              "\n",
              "  <style>\n",
              "    .colab-df-container {\n",
              "      display:flex;\n",
              "      gap: 12px;\n",
              "    }\n",
              "\n",
              "    .colab-df-convert {\n",
              "      background-color: #E8F0FE;\n",
              "      border: none;\n",
              "      border-radius: 50%;\n",
              "      cursor: pointer;\n",
              "      display: none;\n",
              "      fill: #1967D2;\n",
              "      height: 32px;\n",
              "      padding: 0 0 0 0;\n",
              "      width: 32px;\n",
              "    }\n",
              "\n",
              "    .colab-df-convert:hover {\n",
              "      background-color: #E2EBFA;\n",
              "      box-shadow: 0px 1px 2px rgba(60, 64, 67, 0.3), 0px 1px 3px 1px rgba(60, 64, 67, 0.15);\n",
              "      fill: #174EA6;\n",
              "    }\n",
              "\n",
              "    .colab-df-buttons div {\n",
              "      margin-bottom: 4px;\n",
              "    }\n",
              "\n",
              "    [theme=dark] .colab-df-convert {\n",
              "      background-color: #3B4455;\n",
              "      fill: #D2E3FC;\n",
              "    }\n",
              "\n",
              "    [theme=dark] .colab-df-convert:hover {\n",
              "      background-color: #434B5C;\n",
              "      box-shadow: 0px 1px 3px 1px rgba(0, 0, 0, 0.15);\n",
              "      filter: drop-shadow(0px 1px 2px rgba(0, 0, 0, 0.3));\n",
              "      fill: #FFFFFF;\n",
              "    }\n",
              "  </style>\n",
              "\n",
              "    <script>\n",
              "      const buttonEl =\n",
              "        document.querySelector('#df-e7904021-15c8-43e7-9a56-e3e60c86e1c9 button.colab-df-convert');\n",
              "      buttonEl.style.display =\n",
              "        google.colab.kernel.accessAllowed ? 'block' : 'none';\n",
              "\n",
              "      async function convertToInteractive(key) {\n",
              "        const element = document.querySelector('#df-e7904021-15c8-43e7-9a56-e3e60c86e1c9');\n",
              "        const dataTable =\n",
              "          await google.colab.kernel.invokeFunction('convertToInteractive',\n",
              "                                                    [key], {});\n",
              "        if (!dataTable) return;\n",
              "\n",
              "        const docLinkHtml = 'Like what you see? Visit the ' +\n",
              "          '<a target=\"_blank\" href=https://colab.research.google.com/notebooks/data_table.ipynb>data table notebook</a>'\n",
              "          + ' to learn more about interactive tables.';\n",
              "        element.innerHTML = '';\n",
              "        dataTable['output_type'] = 'display_data';\n",
              "        await google.colab.output.renderOutput(dataTable, element);\n",
              "        const docLink = document.createElement('div');\n",
              "        docLink.innerHTML = docLinkHtml;\n",
              "        element.appendChild(docLink);\n",
              "      }\n",
              "    </script>\n",
              "  </div>\n",
              "\n",
              "\n",
              "    <div id=\"df-8f89c7aa-12b6-460d-92da-d0e10b177dfc\">\n",
              "      <button class=\"colab-df-quickchart\" onclick=\"quickchart('df-8f89c7aa-12b6-460d-92da-d0e10b177dfc')\"\n",
              "                title=\"Suggest charts\"\n",
              "                style=\"display:none;\">\n",
              "\n",
              "<svg xmlns=\"http://www.w3.org/2000/svg\" height=\"24px\"viewBox=\"0 0 24 24\"\n",
              "     width=\"24px\">\n",
              "    <g>\n",
              "        <path d=\"M19 3H5c-1.1 0-2 .9-2 2v14c0 1.1.9 2 2 2h14c1.1 0 2-.9 2-2V5c0-1.1-.9-2-2-2zM9 17H7v-7h2v7zm4 0h-2V7h2v10zm4 0h-2v-4h2v4z\"/>\n",
              "    </g>\n",
              "</svg>\n",
              "      </button>\n",
              "\n",
              "<style>\n",
              "  .colab-df-quickchart {\n",
              "      --bg-color: #E8F0FE;\n",
              "      --fill-color: #1967D2;\n",
              "      --hover-bg-color: #E2EBFA;\n",
              "      --hover-fill-color: #174EA6;\n",
              "      --disabled-fill-color: #AAA;\n",
              "      --disabled-bg-color: #DDD;\n",
              "  }\n",
              "\n",
              "  [theme=dark] .colab-df-quickchart {\n",
              "      --bg-color: #3B4455;\n",
              "      --fill-color: #D2E3FC;\n",
              "      --hover-bg-color: #434B5C;\n",
              "      --hover-fill-color: #FFFFFF;\n",
              "      --disabled-bg-color: #3B4455;\n",
              "      --disabled-fill-color: #666;\n",
              "  }\n",
              "\n",
              "  .colab-df-quickchart {\n",
              "    background-color: var(--bg-color);\n",
              "    border: none;\n",
              "    border-radius: 50%;\n",
              "    cursor: pointer;\n",
              "    display: none;\n",
              "    fill: var(--fill-color);\n",
              "    height: 32px;\n",
              "    padding: 0;\n",
              "    width: 32px;\n",
              "  }\n",
              "\n",
              "  .colab-df-quickchart:hover {\n",
              "    background-color: var(--hover-bg-color);\n",
              "    box-shadow: 0 1px 2px rgba(60, 64, 67, 0.3), 0 1px 3px 1px rgba(60, 64, 67, 0.15);\n",
              "    fill: var(--button-hover-fill-color);\n",
              "  }\n",
              "\n",
              "  .colab-df-quickchart-complete:disabled,\n",
              "  .colab-df-quickchart-complete:disabled:hover {\n",
              "    background-color: var(--disabled-bg-color);\n",
              "    fill: var(--disabled-fill-color);\n",
              "    box-shadow: none;\n",
              "  }\n",
              "\n",
              "  .colab-df-spinner {\n",
              "    border: 2px solid var(--fill-color);\n",
              "    border-color: transparent;\n",
              "    border-bottom-color: var(--fill-color);\n",
              "    animation:\n",
              "      spin 1s steps(1) infinite;\n",
              "  }\n",
              "\n",
              "  @keyframes spin {\n",
              "    0% {\n",
              "      border-color: transparent;\n",
              "      border-bottom-color: var(--fill-color);\n",
              "      border-left-color: var(--fill-color);\n",
              "    }\n",
              "    20% {\n",
              "      border-color: transparent;\n",
              "      border-left-color: var(--fill-color);\n",
              "      border-top-color: var(--fill-color);\n",
              "    }\n",
              "    30% {\n",
              "      border-color: transparent;\n",
              "      border-left-color: var(--fill-color);\n",
              "      border-top-color: var(--fill-color);\n",
              "      border-right-color: var(--fill-color);\n",
              "    }\n",
              "    40% {\n",
              "      border-color: transparent;\n",
              "      border-right-color: var(--fill-color);\n",
              "      border-top-color: var(--fill-color);\n",
              "    }\n",
              "    60% {\n",
              "      border-color: transparent;\n",
              "      border-right-color: var(--fill-color);\n",
              "    }\n",
              "    80% {\n",
              "      border-color: transparent;\n",
              "      border-right-color: var(--fill-color);\n",
              "      border-bottom-color: var(--fill-color);\n",
              "    }\n",
              "    90% {\n",
              "      border-color: transparent;\n",
              "      border-bottom-color: var(--fill-color);\n",
              "    }\n",
              "  }\n",
              "</style>\n",
              "\n",
              "      <script>\n",
              "        async function quickchart(key) {\n",
              "          const quickchartButtonEl =\n",
              "            document.querySelector('#' + key + ' button');\n",
              "          quickchartButtonEl.disabled = true;  // To prevent multiple clicks.\n",
              "          quickchartButtonEl.classList.add('colab-df-spinner');\n",
              "          try {\n",
              "            const charts = await google.colab.kernel.invokeFunction(\n",
              "                'suggestCharts', [key], {});\n",
              "          } catch (error) {\n",
              "            console.error('Error during call to suggestCharts:', error);\n",
              "          }\n",
              "          quickchartButtonEl.classList.remove('colab-df-spinner');\n",
              "          quickchartButtonEl.classList.add('colab-df-quickchart-complete');\n",
              "        }\n",
              "        (() => {\n",
              "          let quickchartButtonEl =\n",
              "            document.querySelector('#df-8f89c7aa-12b6-460d-92da-d0e10b177dfc button');\n",
              "          quickchartButtonEl.style.display =\n",
              "            google.colab.kernel.accessAllowed ? 'block' : 'none';\n",
              "        })();\n",
              "      </script>\n",
              "    </div>\n",
              "\n",
              "    </div>\n",
              "  </div>\n"
            ],
            "application/vnd.google.colaboratory.intrinsic+json": {
              "type": "dataframe",
              "summary": "{\n  \"name\": \"df\",\n  \"rows\": 11,\n  \"fields\": [\n    {\n      \"column\": \"Date \",\n      \"properties\": {\n        \"dtype\": \"date\",\n        \"min\": \"1970-01-01 00:00:00.000000004\",\n        \"max\": \"2021-08-16 00:00:00\",\n        \"num_unique_values\": 4,\n        \"samples\": [\n          287,\n          \"4\",\n          \"319\"\n        ],\n        \"semantic_type\": \"\",\n        \"description\": \"\"\n      }\n    },\n    {\n      \"column\": \"IPOName\",\n      \"properties\": {\n        \"dtype\": \"category\",\n        \"num_unique_values\": 3,\n        \"samples\": [\n          \"319\",\n          \"Electronics Mar\",\n          \"1\"\n        ],\n        \"semantic_type\": \"\",\n        \"description\": \"\"\n      }\n    },\n    {\n      \"column\": \"Issue_Size\",\n      \"properties\": {\n        \"dtype\": \"number\",\n        \"std\": 7179.731950395654,\n        \"min\": 0.0,\n        \"max\": 21000.0,\n        \"num_unique_values\": 8,\n        \"samples\": [\n          1192.8599686520379,\n          496.25,\n          319.0\n        ],\n        \"semantic_type\": \"\",\n        \"description\": \"\"\n      }\n    },\n    {\n      \"column\": \"Subscription_QIB\",\n      \"properties\": {\n        \"dtype\": \"number\",\n        \"std\": 119.68415904732683,\n        \"min\": 0.0,\n        \"max\": 319.0,\n        \"num_unique_values\": 8,\n        \"samples\": [\n          25.68413793103449,\n          4.94,\n          319.0\n        ],\n        \"semantic_type\": \"\",\n        \"description\": \"\"\n      }\n    },\n    {\n      \"column\": \"Subscription_HNI\",\n      \"properties\": {\n        \"dtype\": \"number\",\n        \"std\": 326.3026232361266,\n        \"min\": 0.0,\n        \"max\": 958.07,\n        \"num_unique_values\": 8,\n        \"samples\": [\n          70.09137931034483,\n          5.07,\n          319.0\n        ],\n        \"semantic_type\": \"\",\n        \"description\": \"\"\n      }\n    },\n    {\n      \"column\": \"Subscription_RII\",\n      \"properties\": {\n        \"dtype\": \"number\",\n        \"std\": 112.26084752837234,\n        \"min\": 0.0,\n        \"max\": 319.0,\n        \"num_unique_values\": 8,\n        \"samples\": [\n          8.561598746081504,\n          3.42,\n          319.0\n        ],\n        \"semantic_type\": \"\",\n        \"description\": \"\"\n      }\n    },\n    {\n      \"column\": \"Subscription_Total\",\n      \"properties\": {\n        \"dtype\": \"number\",\n        \"std\": 141.47771235347844,\n        \"min\": 0.0,\n        \"max\": 326.49,\n        \"num_unique_values\": 8,\n        \"samples\": [\n          27.447147335423196,\n          4.93,\n          319.0\n        ],\n        \"semantic_type\": \"\",\n        \"description\": \"\"\n      }\n    },\n    {\n      \"column\": \"Issue_Price\",\n      \"properties\": {\n        \"dtype\": \"number\",\n        \"std\": 681.3673221502085,\n        \"min\": 0.0,\n        \"max\": 2150.0,\n        \"num_unique_values\": 8,\n        \"samples\": [\n          375.12852664576803,\n          250.0,\n          319.0\n        ],\n        \"semantic_type\": \"\",\n        \"description\": \"\"\n      }\n    },\n    {\n      \"column\": \"Listing_Gains_Percent\",\n      \"properties\": {\n        \"dtype\": \"number\",\n        \"std\": 145.4827251486592,\n        \"min\": -97.15,\n        \"max\": 319.0,\n        \"num_unique_values\": 8,\n        \"samples\": [\n          4.742695924764891,\n          1.81,\n          319.0\n        ],\n        \"semantic_type\": \"\",\n        \"description\": \"\"\n      }\n    }\n  ]\n}"
            }
          },
          "metadata": {},
          "execution_count": 87
        }
      ],
      "execution_count": 87
    },
    {
      "cell_type": "code",
      "source": [
        "df['Listing_Gains_Percent'].describe()"
      ],
      "metadata": {
        "colab": {
          "base_uri": "https://localhost:8080/",
          "height": 335
        },
        "execution": {
          "iopub.status.busy": "2025-04-13T10:39:40.73099Z",
          "iopub.execute_input": "2025-04-13T10:39:40.731213Z",
          "iopub.status.idle": "2025-04-13T10:39:40.741013Z",
          "shell.execute_reply.started": "2025-04-13T10:39:40.731196Z",
          "shell.execute_reply": "2025-04-13T10:39:40.74024Z"
        },
        "id": "quX0LdyMK5uo",
        "outputId": "6b1205c8-8006-4356-ce0b-55d965f94ef4",
        "trusted": true
      },
      "outputs": [
        {
          "output_type": "execute_result",
          "data": {
            "text/plain": [
              "count    319.000000\n",
              "mean       4.742696\n",
              "std       47.650946\n",
              "min      -97.150000\n",
              "25%      -11.555000\n",
              "50%        1.810000\n",
              "75%       25.310000\n",
              "max      270.400000\n",
              "Name: Listing_Gains_Percent, dtype: float64"
            ],
            "text/html": [
              "<div>\n",
              "<style scoped>\n",
              "    .dataframe tbody tr th:only-of-type {\n",
              "        vertical-align: middle;\n",
              "    }\n",
              "\n",
              "    .dataframe tbody tr th {\n",
              "        vertical-align: top;\n",
              "    }\n",
              "\n",
              "    .dataframe thead th {\n",
              "        text-align: right;\n",
              "    }\n",
              "</style>\n",
              "<table border=\"1\" class=\"dataframe\">\n",
              "  <thead>\n",
              "    <tr style=\"text-align: right;\">\n",
              "      <th></th>\n",
              "      <th>Listing_Gains_Percent</th>\n",
              "    </tr>\n",
              "  </thead>\n",
              "  <tbody>\n",
              "    <tr>\n",
              "      <th>count</th>\n",
              "      <td>319.000000</td>\n",
              "    </tr>\n",
              "    <tr>\n",
              "      <th>mean</th>\n",
              "      <td>4.742696</td>\n",
              "    </tr>\n",
              "    <tr>\n",
              "      <th>std</th>\n",
              "      <td>47.650946</td>\n",
              "    </tr>\n",
              "    <tr>\n",
              "      <th>min</th>\n",
              "      <td>-97.150000</td>\n",
              "    </tr>\n",
              "    <tr>\n",
              "      <th>25%</th>\n",
              "      <td>-11.555000</td>\n",
              "    </tr>\n",
              "    <tr>\n",
              "      <th>50%</th>\n",
              "      <td>1.810000</td>\n",
              "    </tr>\n",
              "    <tr>\n",
              "      <th>75%</th>\n",
              "      <td>25.310000</td>\n",
              "    </tr>\n",
              "    <tr>\n",
              "      <th>max</th>\n",
              "      <td>270.400000</td>\n",
              "    </tr>\n",
              "  </tbody>\n",
              "</table>\n",
              "</div><br><label><b>dtype:</b> float64</label>"
            ]
          },
          "metadata": {},
          "execution_count": 88
        }
      ],
      "execution_count": 88
    },
    {
      "cell_type": "markdown",
      "source": [
        "The `Listing_Gains_Percent` variable interests us. This is the variable that will be used to create the target or outcome variable."
      ],
      "metadata": {
        "id": "7zveNwPwK5uo"
      }
    },
    {
      "cell_type": "markdown",
      "source": [
        "## Exploring the Data"
      ],
      "metadata": {
        "id": "KwApVwu4K5uo"
      }
    },
    {
      "cell_type": "code",
      "source": [
        "df.isnull().sum()"
      ],
      "metadata": {
        "colab": {
          "base_uri": "https://localhost:8080/",
          "height": 366
        },
        "execution": {
          "iopub.status.busy": "2025-04-13T10:39:40.741987Z",
          "iopub.execute_input": "2025-04-13T10:39:40.742854Z",
          "iopub.status.idle": "2025-04-13T10:39:40.761546Z",
          "shell.execute_reply.started": "2025-04-13T10:39:40.74283Z",
          "shell.execute_reply": "2025-04-13T10:39:40.76061Z"
        },
        "id": "555InP1vK5up",
        "outputId": "8ed622b8-970b-4d80-b617-ac9e1944733a",
        "trusted": true
      },
      "outputs": [
        {
          "output_type": "execute_result",
          "data": {
            "text/plain": [
              "Date                     0\n",
              "IPOName                  0\n",
              "Issue_Size               0\n",
              "Subscription_QIB         0\n",
              "Subscription_HNI         0\n",
              "Subscription_RII         0\n",
              "Subscription_Total       0\n",
              "Issue_Price              0\n",
              "Listing_Gains_Percent    0\n",
              "dtype: int64"
            ],
            "text/html": [
              "<div>\n",
              "<style scoped>\n",
              "    .dataframe tbody tr th:only-of-type {\n",
              "        vertical-align: middle;\n",
              "    }\n",
              "\n",
              "    .dataframe tbody tr th {\n",
              "        vertical-align: top;\n",
              "    }\n",
              "\n",
              "    .dataframe thead th {\n",
              "        text-align: right;\n",
              "    }\n",
              "</style>\n",
              "<table border=\"1\" class=\"dataframe\">\n",
              "  <thead>\n",
              "    <tr style=\"text-align: right;\">\n",
              "      <th></th>\n",
              "      <th>0</th>\n",
              "    </tr>\n",
              "  </thead>\n",
              "  <tbody>\n",
              "    <tr>\n",
              "      <th>Date</th>\n",
              "      <td>0</td>\n",
              "    </tr>\n",
              "    <tr>\n",
              "      <th>IPOName</th>\n",
              "      <td>0</td>\n",
              "    </tr>\n",
              "    <tr>\n",
              "      <th>Issue_Size</th>\n",
              "      <td>0</td>\n",
              "    </tr>\n",
              "    <tr>\n",
              "      <th>Subscription_QIB</th>\n",
              "      <td>0</td>\n",
              "    </tr>\n",
              "    <tr>\n",
              "      <th>Subscription_HNI</th>\n",
              "      <td>0</td>\n",
              "    </tr>\n",
              "    <tr>\n",
              "      <th>Subscription_RII</th>\n",
              "      <td>0</td>\n",
              "    </tr>\n",
              "    <tr>\n",
              "      <th>Subscription_Total</th>\n",
              "      <td>0</td>\n",
              "    </tr>\n",
              "    <tr>\n",
              "      <th>Issue_Price</th>\n",
              "      <td>0</td>\n",
              "    </tr>\n",
              "    <tr>\n",
              "      <th>Listing_Gains_Percent</th>\n",
              "      <td>0</td>\n",
              "    </tr>\n",
              "  </tbody>\n",
              "</table>\n",
              "</div><br><label><b>dtype:</b> int64</label>"
            ]
          },
          "metadata": {},
          "execution_count": 89
        }
      ],
      "execution_count": 89
    },
    {
      "cell_type": "code",
      "source": [
        "df['Listing_Gains_Profit'] = np.where(df['Listing_Gains_Percent'] > 0, 1, 0)"
      ],
      "metadata": {
        "execution": {
          "iopub.status.busy": "2025-04-13T10:39:40.764404Z",
          "iopub.execute_input": "2025-04-13T10:39:40.76471Z",
          "iopub.status.idle": "2025-04-13T10:39:40.780019Z",
          "shell.execute_reply.started": "2025-04-13T10:39:40.764687Z",
          "shell.execute_reply": "2025-04-13T10:39:40.778956Z"
        },
        "id": "QqkYBOUNK5up",
        "trusted": true
      },
      "outputs": [],
      "execution_count": 90
    },
    {
      "cell_type": "code",
      "source": [
        "df['Listing_Gains_Profit'].describe()"
      ],
      "metadata": {
        "colab": {
          "base_uri": "https://localhost:8080/",
          "height": 335
        },
        "execution": {
          "iopub.status.busy": "2025-04-13T10:39:40.780925Z",
          "iopub.execute_input": "2025-04-13T10:39:40.781186Z",
          "iopub.status.idle": "2025-04-13T10:39:40.80113Z",
          "shell.execute_reply.started": "2025-04-13T10:39:40.781163Z",
          "shell.execute_reply": "2025-04-13T10:39:40.800382Z"
        },
        "id": "FyUnzaeYK5up",
        "outputId": "7bb1b682-0545-414b-f851-6c14e8476819",
        "trusted": true
      },
      "outputs": [
        {
          "output_type": "execute_result",
          "data": {
            "text/plain": [
              "count    319.000000\n",
              "mean       0.545455\n",
              "std        0.498712\n",
              "min        0.000000\n",
              "25%        0.000000\n",
              "50%        1.000000\n",
              "75%        1.000000\n",
              "max        1.000000\n",
              "Name: Listing_Gains_Profit, dtype: float64"
            ],
            "text/html": [
              "<div>\n",
              "<style scoped>\n",
              "    .dataframe tbody tr th:only-of-type {\n",
              "        vertical-align: middle;\n",
              "    }\n",
              "\n",
              "    .dataframe tbody tr th {\n",
              "        vertical-align: top;\n",
              "    }\n",
              "\n",
              "    .dataframe thead th {\n",
              "        text-align: right;\n",
              "    }\n",
              "</style>\n",
              "<table border=\"1\" class=\"dataframe\">\n",
              "  <thead>\n",
              "    <tr style=\"text-align: right;\">\n",
              "      <th></th>\n",
              "      <th>Listing_Gains_Profit</th>\n",
              "    </tr>\n",
              "  </thead>\n",
              "  <tbody>\n",
              "    <tr>\n",
              "      <th>count</th>\n",
              "      <td>319.000000</td>\n",
              "    </tr>\n",
              "    <tr>\n",
              "      <th>mean</th>\n",
              "      <td>0.545455</td>\n",
              "    </tr>\n",
              "    <tr>\n",
              "      <th>std</th>\n",
              "      <td>0.498712</td>\n",
              "    </tr>\n",
              "    <tr>\n",
              "      <th>min</th>\n",
              "      <td>0.000000</td>\n",
              "    </tr>\n",
              "    <tr>\n",
              "      <th>25%</th>\n",
              "      <td>0.000000</td>\n",
              "    </tr>\n",
              "    <tr>\n",
              "      <th>50%</th>\n",
              "      <td>1.000000</td>\n",
              "    </tr>\n",
              "    <tr>\n",
              "      <th>75%</th>\n",
              "      <td>1.000000</td>\n",
              "    </tr>\n",
              "    <tr>\n",
              "      <th>max</th>\n",
              "      <td>1.000000</td>\n",
              "    </tr>\n",
              "  </tbody>\n",
              "</table>\n",
              "</div><br><label><b>dtype:</b> float64</label>"
            ]
          },
          "metadata": {},
          "execution_count": 91
        }
      ],
      "execution_count": 91
    },
    {
      "cell_type": "code",
      "source": [
        "df['Listing_Gains_Profit'].value_counts(normalize=True)"
      ],
      "metadata": {
        "colab": {
          "base_uri": "https://localhost:8080/",
          "height": 178
        },
        "execution": {
          "iopub.status.busy": "2025-04-13T10:41:46.568033Z",
          "iopub.execute_input": "2025-04-13T10:41:46.5684Z",
          "iopub.status.idle": "2025-04-13T10:41:46.576636Z",
          "shell.execute_reply.started": "2025-04-13T10:41:46.568373Z",
          "shell.execute_reply": "2025-04-13T10:41:46.575692Z"
        },
        "id": "tusoDA3PK5up",
        "outputId": "b939f566-4267-41dc-94b5-9543a0fdf458",
        "trusted": true
      },
      "outputs": [
        {
          "output_type": "execute_result",
          "data": {
            "text/plain": [
              "Listing_Gains_Profit\n",
              "1    0.545455\n",
              "0    0.454545\n",
              "Name: proportion, dtype: float64"
            ],
            "text/html": [
              "<div>\n",
              "<style scoped>\n",
              "    .dataframe tbody tr th:only-of-type {\n",
              "        vertical-align: middle;\n",
              "    }\n",
              "\n",
              "    .dataframe tbody tr th {\n",
              "        vertical-align: top;\n",
              "    }\n",
              "\n",
              "    .dataframe thead th {\n",
              "        text-align: right;\n",
              "    }\n",
              "</style>\n",
              "<table border=\"1\" class=\"dataframe\">\n",
              "  <thead>\n",
              "    <tr style=\"text-align: right;\">\n",
              "      <th></th>\n",
              "      <th>proportion</th>\n",
              "    </tr>\n",
              "    <tr>\n",
              "      <th>Listing_Gains_Profit</th>\n",
              "      <th></th>\n",
              "    </tr>\n",
              "  </thead>\n",
              "  <tbody>\n",
              "    <tr>\n",
              "      <th>1</th>\n",
              "      <td>0.545455</td>\n",
              "    </tr>\n",
              "    <tr>\n",
              "      <th>0</th>\n",
              "      <td>0.454545</td>\n",
              "    </tr>\n",
              "  </tbody>\n",
              "</table>\n",
              "</div><br><label><b>dtype:</b> float64</label>"
            ]
          },
          "metadata": {},
          "execution_count": 128
        }
      ],
      "execution_count": 128
    },
    {
      "cell_type": "code",
      "source": [
        "#df = df.drop(['Date ', 'IPOName', 'Listing_Gains_Percent'], axis=1)\n",
        "df.info()"
      ],
      "metadata": {
        "colab": {
          "base_uri": "https://localhost:8080/"
        },
        "execution": {
          "iopub.status.busy": "2025-04-13T10:42:01.050837Z",
          "iopub.execute_input": "2025-04-13T10:42:01.051142Z",
          "iopub.status.idle": "2025-04-13T10:42:01.062069Z",
          "shell.execute_reply.started": "2025-04-13T10:42:01.051119Z",
          "shell.execute_reply": "2025-04-13T10:42:01.061075Z"
        },
        "id": "M8LYT3OdK5uq",
        "outputId": "a17559b9-eb06-4098-d2c7-8ee261d15011",
        "trusted": true
      },
      "outputs": [
        {
          "output_type": "stream",
          "name": "stdout",
          "text": [
            "<class 'pandas.core.frame.DataFrame'>\n",
            "RangeIndex: 319 entries, 0 to 318\n",
            "Data columns (total 7 columns):\n",
            " #   Column                Non-Null Count  Dtype  \n",
            "---  ------                --------------  -----  \n",
            " 0   Issue_Size            319 non-null    float64\n",
            " 1   Subscription_QIB      319 non-null    float64\n",
            " 2   Subscription_HNI      319 non-null    float64\n",
            " 3   Subscription_RII      319 non-null    float64\n",
            " 4   Subscription_Total    319 non-null    float64\n",
            " 5   Issue_Price           319 non-null    float64\n",
            " 6   Listing_Gains_Profit  319 non-null    int64  \n",
            "dtypes: float64(6), int64(1)\n",
            "memory usage: 17.6 KB\n"
          ]
        }
      ],
      "execution_count": 130
    },
    {
      "cell_type": "markdown",
      "source": [
        "We can see approximately 55% of the IPOs listed in profit, and we can also see that the data is fairly balanced. We have also dropped some of the variables that might not carry predictive power."
      ],
      "metadata": {
        "id": "ReVp20tOK5uq"
      }
    },
    {
      "cell_type": "markdown",
      "source": [
        "## Data Visualization"
      ],
      "metadata": {
        "id": "Rqly_22nK5uq"
      }
    },
    {
      "cell_type": "markdown",
      "source": [
        "Summary Statistics"
      ],
      "metadata": {
        "id": "0QoVhxt5K5uq"
      }
    },
    {
      "cell_type": "code",
      "source": [
        "# visualizing the target variable\n",
        "sns.countplot(x='Listing_Gains_Profit', data=df)\n",
        "plt.title('Distribution of IPO Listing Profit Category')\n",
        "plt.xlabel('Listing Profit (No=0, Yes=1)')\n",
        "plt.ylabel('Frequency')\n",
        "plt.show()"
      ],
      "metadata": {
        "colab": {
          "base_uri": "https://localhost:8080/",
          "height": 472
        },
        "execution": {
          "iopub.status.busy": "2025-04-13T10:39:40.855101Z",
          "iopub.execute_input": "2025-04-13T10:39:40.855428Z",
          "iopub.status.idle": "2025-04-13T10:39:41.104247Z",
          "shell.execute_reply.started": "2025-04-13T10:39:40.855405Z",
          "shell.execute_reply": "2025-04-13T10:39:41.103379Z"
        },
        "id": "MGFC-ZSNK5ur",
        "outputId": "79386ffa-b60e-4388-acfb-2e4c3434b451",
        "trusted": true
      },
      "outputs": [
        {
          "output_type": "display_data",
          "data": {
            "text/plain": [
              "<Figure size 640x480 with 1 Axes>"
            ],
            "image/png": "[encoded data removed]"
          },
          "metadata": {}
        }
      ],
      "execution_count": 132
    },
    {
      "cell_type": "code",
      "source": [
        "plt.figure(figsize=[8,5])\n",
        "sns.histplot(data=df, x='Issue_Price', bins=50).set(title='Distribution of Issue_Price', ylabel='Count')\n",
        "plt.show()"
      ],
      "metadata": {
        "colab": {
          "base_uri": "https://localhost:8080/",
          "height": 487
        },
        "execution": {
          "iopub.status.busy": "2025-04-13T10:39:41.105184Z",
          "iopub.execute_input": "2025-04-13T10:39:41.105508Z",
          "iopub.status.idle": "2025-04-13T10:39:41.386617Z",
          "shell.execute_reply.started": "2025-04-13T10:39:41.105486Z",
          "shell.execute_reply": "2025-04-13T10:39:41.38565Z"
        },
        "id": "u8zD7oyCK5ur",
        "outputId": "c18f6de1-b110-4989-fd0f-500fcdf6fa84",
        "trusted": true
      },
      "outputs": [
        {
          "output_type": "display_data",
          "data": {
            "text/plain": [
              "<Figure size 800x500 with 1 Axes>"
            ],
            "image/png": "[encoded data removed]"
          },
          "metadata": {}
        }
      ],
      "execution_count": 133
    },
    {
      "cell_type": "code",
      "source": [
        "plt.figure(figsize=[8,5])\n",
        "sns.histplot(data=df, x='Issue_Size', bins=50).set(title='Distribution of Issue_Size', ylabel='Count')\n",
        "plt.show()"
      ],
      "metadata": {
        "colab": {
          "base_uri": "https://localhost:8080/",
          "height": 487
        },
        "execution": {
          "iopub.status.busy": "2025-04-13T10:39:41.387366Z",
          "iopub.execute_input": "2025-04-13T10:39:41.387683Z",
          "iopub.status.idle": "2025-04-13T10:39:41.661947Z",
          "shell.execute_reply.started": "2025-04-13T10:39:41.387656Z",
          "shell.execute_reply": "2025-04-13T10:39:41.661058Z"
        },
        "id": "62lZ4aQTK5ur",
        "outputId": "fea8e390-3448-4e85-e312-2a87f758c54a",
        "trusted": true
      },
      "outputs": [
        {
          "output_type": "display_data",
          "data": {
            "text/plain": [
              "<Figure size 800x500 with 1 Axes>"
            ],
            "image/png": "[encoded data removed]"
          },
          "metadata": {}
        }
      ],
      "execution_count": 134
    },
    {
      "cell_type": "code",
      "source": [
        "sns.boxplot(data=df, y='Issue_Size')\n",
        "plt.title('Boxplot of Issue_Size')\n",
        "plt.show()"
      ],
      "metadata": {
        "colab": {
          "base_uri": "https://localhost:8080/",
          "height": 433
        },
        "execution": {
          "iopub.status.busy": "2025-04-13T10:39:41.662905Z",
          "iopub.execute_input": "2025-04-13T10:39:41.663133Z",
          "iopub.status.idle": "2025-04-13T10:39:41.791507Z",
          "shell.execute_reply.started": "2025-04-13T10:39:41.663117Z",
          "shell.execute_reply": "2025-04-13T10:39:41.790529Z"
        },
        "id": "WrkZRIztK5ur",
        "outputId": "1eadb83a-8b61-40c1-d915-8c4d33aed933",
        "trusted": true
      },
      "outputs": [
        {
          "output_type": "display_data",
          "data": {
            "text/plain": [
              "<Figure size 640x480 with 1 Axes>"
            ],
            "image/png": "[encoded data removed]"
          },
          "metadata": {}
        }
      ],
      "execution_count": 135
    },
    {
      "cell_type": "code",
      "source": [
        "sns.boxplot(data=df, x='Listing_Gains_Profit', y='Issue_Price')\n",
        "plt.title('Boxplot of Issue_Price with respect to Listing Gains Type')\n",
        "plt.xlabel('Listing Profit (No=0, Yes=1)')\n",
        "plt.show()"
      ],
      "metadata": {
        "colab": {
          "base_uri": "https://localhost:8080/",
          "height": 472
        },
        "execution": {
          "iopub.status.busy": "2025-04-13T10:39:41.792712Z",
          "iopub.execute_input": "2025-04-13T10:39:41.792939Z",
          "iopub.status.idle": "2025-04-13T10:39:41.945472Z",
          "shell.execute_reply.started": "2025-04-13T10:39:41.792922Z",
          "shell.execute_reply": "2025-04-13T10:39:41.944158Z"
        },
        "id": "UEK5vEBYK5us",
        "outputId": "d968b3aa-0029-489d-f598-7a67a99da37e",
        "trusted": true
      },
      "outputs": [
        {
          "output_type": "display_data",
          "data": {
            "text/plain": [
              "<Figure size 640x480 with 1 Axes>"
            ],
            "image/png": "[encoded data removed]"
          },
          "metadata": {}
        }
      ],
      "execution_count": 136
    },
    {
      "cell_type": "code",
      "source": [
        "print(df.skew())"
      ],
      "metadata": {
        "colab": {
          "base_uri": "https://localhost:8080/"
        },
        "execution": {
          "iopub.status.busy": "2025-04-13T10:39:41.946213Z",
          "iopub.execute_input": "2025-04-13T10:39:41.946577Z",
          "iopub.status.idle": "2025-04-13T10:39:41.954514Z",
          "shell.execute_reply.started": "2025-04-13T10:39:41.946548Z",
          "shell.execute_reply": "2025-04-13T10:39:41.95361Z"
        },
        "id": "5Tas_DpEK5us",
        "outputId": "35675b2c-4f8f-461b-dbf8-e30436611fe4",
        "trusted": true
      },
      "outputs": [
        {
          "output_type": "stream",
          "name": "stdout",
          "text": [
            "Issue_Size              1.224620\n",
            "Subscription_QIB        1.262734\n",
            "Subscription_HNI        1.181636\n",
            "Subscription_RII        1.129171\n",
            "Subscription_Total      1.293880\n",
            "Issue_Price             1.696881\n",
            "Listing_Gains_Profit   -0.183438\n",
            "dtype: float64\n"
          ]
        }
      ],
      "execution_count": 137
    },
    {
      "cell_type": "code",
      "source": [
        "sns.boxplot(data=df, y='Subscription_QIB')\n",
        "plt.title('Boxplot of Subscription_QIB')\n",
        "plt.show()"
      ],
      "metadata": {
        "colab": {
          "base_uri": "https://localhost:8080/",
          "height": 433
        },
        "execution": {
          "iopub.status.busy": "2025-04-13T10:39:41.955412Z",
          "iopub.execute_input": "2025-04-13T10:39:41.955717Z",
          "iopub.status.idle": "2025-04-13T10:39:42.099049Z",
          "shell.execute_reply.started": "2025-04-13T10:39:41.955692Z",
          "shell.execute_reply": "2025-04-13T10:39:42.098198Z"
        },
        "id": "9OclMZRSK5us",
        "outputId": "ca70120b-c9b5-4fa5-a752-e0722352e284",
        "trusted": true
      },
      "outputs": [
        {
          "output_type": "display_data",
          "data": {
            "text/plain": [
              "<Figure size 640x480 with 1 Axes>"
            ],
            "image/png": "[encoded data removed]"
          },
          "metadata": {}
        }
      ],
      "execution_count": 138
    },
    {
      "cell_type": "code",
      "source": [
        "sns.scatterplot(data=df, x='Subscription_RII', y='Subscription_Total')\n",
        "plt.title('Scatterplot between Retail and Total IPO Subscription')\n",
        "plt.show()"
      ],
      "metadata": {
        "colab": {
          "base_uri": "https://localhost:8080/",
          "height": 472
        },
        "execution": {
          "iopub.status.busy": "2025-04-13T10:39:42.099909Z",
          "iopub.execute_input": "2025-04-13T10:39:42.100157Z",
          "iopub.status.idle": "2025-04-13T10:39:42.316181Z",
          "shell.execute_reply.started": "2025-04-13T10:39:42.100138Z",
          "shell.execute_reply": "2025-04-13T10:39:42.315169Z"
        },
        "id": "xFoR7F-lK5us",
        "outputId": "88e060cc-7979-494c-bf1b-745f5e0f617a",
        "trusted": true
      },
      "outputs": [
        {
          "output_type": "display_data",
          "data": {
            "text/plain": [
              "<Figure size 640x480 with 1 Axes>"
            ],
            "image/png": "[encoded data removed]"
          },
          "metadata": {}
        }
      ],
      "execution_count": 139
    },
    {
      "cell_type": "markdown",
      "source": [
        "Here are some of the findings that we can draw from the visualizations above:\n",
        "\n",
        "1. The histogram and the boxplots show that outliers are present in the data and might need outlier treatment.\n",
        "\n",
        "2. The boxplot of `Issue_Price`, with respect to `Listing_Gains_Profit`, shows that there are more outliers for IPOs that listed a loss than there are outliers for IPOs that listed a profit.\n",
        "\n",
        "3. We also observed a correlation between Retail and Total IPO Subscription via a scatterplot."
      ],
      "metadata": {
        "id": "zS9z1_A-K5us"
      }
    },
    {
      "cell_type": "markdown",
      "source": [
        "## Outlier Treatment\n",
        "\n",
        "Since there are outliers in the data, we need to treat them. However, feel free to use a different approach or choose to work with outliers."
      ],
      "metadata": {
        "id": "T-PN0gKiK5ut"
      }
    },
    {
      "cell_type": "code",
      "source": [
        "sns.boxplot(data=df, y='Issue_Size')\n",
        "plt.title('Boxplot of Issue_Size')\n",
        "plt.show()"
      ],
      "metadata": {
        "colab": {
          "base_uri": "https://localhost:8080/",
          "height": 433
        },
        "execution": {
          "iopub.status.busy": "2025-04-13T10:39:42.317135Z",
          "iopub.execute_input": "2025-04-13T10:39:42.317437Z",
          "iopub.status.idle": "2025-04-13T10:39:42.449216Z",
          "shell.execute_reply.started": "2025-04-13T10:39:42.317406Z",
          "shell.execute_reply": "2025-04-13T10:39:42.44833Z"
        },
        "id": "HuG-Jcs2K5ut",
        "outputId": "08deef60-d0d9-4ffe-b9c1-844c675f59ed",
        "trusted": true
      },
      "outputs": [
        {
          "output_type": "display_data",
          "data": {
            "text/plain": [
              "<Figure size 640x480 with 1 Axes>"
            ],
            "image/png": "[encoded data removed]"
          },
          "metadata": {}
        }
      ],
      "execution_count": 140
    },
    {
      "cell_type": "code",
      "source": [
        "q1 = df['Issue_Size'].quantile(q=0.25)\n",
        "q3 = df['Issue_Size'].quantile(q=0.75)\n",
        "iqr = q3 - q1\n",
        "lower = (q1 - 1.5 * iqr)\n",
        "upper = (q3 + 1.5 * iqr)\n",
        "print('IQR = ', iqr, '\\nlower = ', lower, '\\nupper = ', upper, sep='')"
      ],
      "metadata": {
        "colab": {
          "base_uri": "https://localhost:8080/"
        },
        "execution": {
          "iopub.status.busy": "2025-04-13T10:39:42.450416Z",
          "iopub.execute_input": "2025-04-13T10:39:42.450721Z",
          "iopub.status.idle": "2025-04-13T10:39:42.459472Z",
          "shell.execute_reply.started": "2025-04-13T10:39:42.450691Z",
          "shell.execute_reply": "2025-04-13T10:39:42.458595Z"
        },
        "id": "VXcqCGqCK5ut",
        "outputId": "9a32bf11-b431-4166-f815-66e483d2711f",
        "trusted": true
      },
      "outputs": [
        {
          "output_type": "stream",
          "name": "stdout",
          "text": [
            "IQR = 0.37292120845546295\n",
            "lower = -0.49168483382185196\n",
            "upper = 0.9999999999999998\n"
          ]
        }
      ],
      "execution_count": 141
    },
    {
      "cell_type": "code",
      "source": [
        "df['Issue_Size'] = df['Issue_Size'].clip(lower, upper)\n",
        "df['Issue_Size'].describe()"
      ],
      "metadata": {
        "colab": {
          "base_uri": "https://localhost:8080/",
          "height": 335
        },
        "execution": {
          "iopub.status.busy": "2025-04-13T10:39:42.460578Z",
          "iopub.execute_input": "2025-04-13T10:39:42.460913Z",
          "iopub.status.idle": "2025-04-13T10:39:42.489926Z",
          "shell.execute_reply.started": "2025-04-13T10:39:42.460891Z",
          "shell.execute_reply": "2025-04-13T10:39:42.489008Z"
        },
        "id": "MyxUXuWCK5ut",
        "outputId": "4d352135-125c-41bd-d8f1-c0bd72647d29",
        "trusted": true
      },
      "outputs": [
        {
          "output_type": "execute_result",
          "data": {
            "text/plain": [
              "count    319.000000\n",
              "mean       0.305854\n",
              "std        0.308308\n",
              "min        0.000000\n",
              "25%        0.067697\n",
              "50%        0.198779\n",
              "75%        0.440618\n",
              "max        1.000000\n",
              "Name: Issue_Size, dtype: float64"
            ],
            "text/html": [
              "<div>\n",
              "<style scoped>\n",
              "    .dataframe tbody tr th:only-of-type {\n",
              "        vertical-align: middle;\n",
              "    }\n",
              "\n",
              "    .dataframe tbody tr th {\n",
              "        vertical-align: top;\n",
              "    }\n",
              "\n",
              "    .dataframe thead th {\n",
              "        text-align: right;\n",
              "    }\n",
              "</style>\n",
              "<table border=\"1\" class=\"dataframe\">\n",
              "  <thead>\n",
              "    <tr style=\"text-align: right;\">\n",
              "      <th></th>\n",
              "      <th>Issue_Size</th>\n",
              "    </tr>\n",
              "  </thead>\n",
              "  <tbody>\n",
              "    <tr>\n",
              "      <th>count</th>\n",
              "      <td>319.000000</td>\n",
              "    </tr>\n",
              "    <tr>\n",
              "      <th>mean</th>\n",
              "      <td>0.305854</td>\n",
              "    </tr>\n",
              "    <tr>\n",
              "      <th>std</th>\n",
              "      <td>0.308308</td>\n",
              "    </tr>\n",
              "    <tr>\n",
              "      <th>min</th>\n",
              "      <td>0.000000</td>\n",
              "    </tr>\n",
              "    <tr>\n",
              "      <th>25%</th>\n",
              "      <td>0.067697</td>\n",
              "    </tr>\n",
              "    <tr>\n",
              "      <th>50%</th>\n",
              "      <td>0.198779</td>\n",
              "    </tr>\n",
              "    <tr>\n",
              "      <th>75%</th>\n",
              "      <td>0.440618</td>\n",
              "    </tr>\n",
              "    <tr>\n",
              "      <th>max</th>\n",
              "      <td>1.000000</td>\n",
              "    </tr>\n",
              "  </tbody>\n",
              "</table>\n",
              "</div><br><label><b>dtype:</b> float64</label>"
            ]
          },
          "metadata": {},
          "execution_count": 142
        }
      ],
      "execution_count": 142
    },
    {
      "cell_type": "code",
      "source": [
        "q1 = df['Subscription_QIB'].quantile(q=0.25)\n",
        "q3 = df['Subscription_QIB'].quantile(q=0.75)\n",
        "iqr = q3 - q1\n",
        "lower = (q1 - 1.5 * iqr)\n",
        "upper = (q3 + 1.5 * iqr)\n",
        "print('IQR = ', iqr, '\\nlower = ', lower, '\\nupper = ', upper, sep='')"
      ],
      "metadata": {
        "colab": {
          "base_uri": "https://localhost:8080/"
        },
        "execution": {
          "iopub.status.busy": "2025-04-13T10:39:42.494179Z",
          "iopub.execute_input": "2025-04-13T10:39:42.494478Z",
          "iopub.status.idle": "2025-04-13T10:39:42.508822Z",
          "shell.execute_reply.started": "2025-04-13T10:39:42.494458Z",
          "shell.execute_reply": "2025-04-13T10:39:42.507811Z"
        },
        "id": "2no3iuXXK5ut",
        "outputId": "c6e40071-fad7-4ef6-bc97-b6fc73c75e03",
        "trusted": true
      },
      "outputs": [
        {
          "output_type": "stream",
          "name": "stdout",
          "text": [
            "IQR = 0.39457946678450434\n",
            "lower = -0.5783178671380174\n",
            "upper = 1.0\n"
          ]
        }
      ],
      "execution_count": 143
    },
    {
      "cell_type": "code",
      "source": [
        "df['Subscription_QIB'] = df['Subscription_QIB'].clip(lower, upper)\n",
        "df['Subscription_QIB'].describe()"
      ],
      "metadata": {
        "colab": {
          "base_uri": "https://localhost:8080/",
          "height": 335
        },
        "execution": {
          "iopub.status.busy": "2025-04-13T10:39:42.509714Z",
          "iopub.execute_input": "2025-04-13T10:39:42.50995Z",
          "iopub.status.idle": "2025-04-13T10:39:42.531795Z",
          "shell.execute_reply.started": "2025-04-13T10:39:42.509934Z",
          "shell.execute_reply": "2025-04-13T10:39:42.53093Z"
        },
        "id": "KTRUl5bdK5ut",
        "outputId": "c018b959-5941-4746-b197-fbd57f5778af",
        "trusted": true
      },
      "outputs": [
        {
          "output_type": "execute_result",
          "data": {
            "text/plain": [
              "count    319.000000\n",
              "mean       0.253601\n",
              "std        0.342961\n",
              "min        0.000000\n",
              "25%        0.013551\n",
              "50%        0.058212\n",
              "75%        0.408131\n",
              "max        1.000000\n",
              "Name: Subscription_QIB, dtype: float64"
            ],
            "text/html": [
              "<div>\n",
              "<style scoped>\n",
              "    .dataframe tbody tr th:only-of-type {\n",
              "        vertical-align: middle;\n",
              "    }\n",
              "\n",
              "    .dataframe tbody tr th {\n",
              "        vertical-align: top;\n",
              "    }\n",
              "\n",
              "    .dataframe thead th {\n",
              "        text-align: right;\n",
              "    }\n",
              "</style>\n",
              "<table border=\"1\" class=\"dataframe\">\n",
              "  <thead>\n",
              "    <tr style=\"text-align: right;\">\n",
              "      <th></th>\n",
              "      <th>Subscription_QIB</th>\n",
              "    </tr>\n",
              "  </thead>\n",
              "  <tbody>\n",
              "    <tr>\n",
              "      <th>count</th>\n",
              "      <td>319.000000</td>\n",
              "    </tr>\n",
              "    <tr>\n",
              "      <th>mean</th>\n",
              "      <td>0.253601</td>\n",
              "    </tr>\n",
              "    <tr>\n",
              "      <th>std</th>\n",
              "      <td>0.342961</td>\n",
              "    </tr>\n",
              "    <tr>\n",
              "      <th>min</th>\n",
              "      <td>0.000000</td>\n",
              "    </tr>\n",
              "    <tr>\n",
              "      <th>25%</th>\n",
              "      <td>0.013551</td>\n",
              "    </tr>\n",
              "    <tr>\n",
              "      <th>50%</th>\n",
              "      <td>0.058212</td>\n",
              "    </tr>\n",
              "    <tr>\n",
              "      <th>75%</th>\n",
              "      <td>0.408131</td>\n",
              "    </tr>\n",
              "    <tr>\n",
              "      <th>max</th>\n",
              "      <td>1.000000</td>\n",
              "    </tr>\n",
              "  </tbody>\n",
              "</table>\n",
              "</div><br><label><b>dtype:</b> float64</label>"
            ]
          },
          "metadata": {},
          "execution_count": 144
        }
      ],
      "execution_count": 144
    },
    {
      "cell_type": "code",
      "source": [
        "q1 = df['Subscription_HNI'].quantile(q=0.25)\n",
        "q3 = df['Subscription_HNI'].quantile(q=0.75)\n",
        "iqr = q3 - q1\n",
        "lower = (q1 - 1.5 * iqr)\n",
        "upper = (q3 + 1.5 * iqr)\n",
        "print('IQR = ', iqr, '\\nlower = ', lower, '\\nupper = ', upper, sep='')"
      ],
      "metadata": {
        "colab": {
          "base_uri": "https://localhost:8080/"
        },
        "execution": {
          "iopub.status.busy": "2025-04-13T10:39:42.532672Z",
          "iopub.execute_input": "2025-04-13T10:39:42.532982Z",
          "iopub.status.idle": "2025-04-13T10:39:42.551894Z",
          "shell.execute_reply.started": "2025-04-13T10:39:42.532956Z",
          "shell.execute_reply": "2025-04-13T10:39:42.550451Z"
        },
        "id": "RCU2kxX-K5uu",
        "outputId": "dc07130e-51b3-4f9b-cd14-a3f5690037a1",
        "trusted": true
      },
      "outputs": [
        {
          "output_type": "stream",
          "name": "stdout",
          "text": [
            "IQR = 0.39672654950930847\n",
            "lower = -0.5869061980372339\n",
            "upper = 1.0\n"
          ]
        }
      ],
      "execution_count": 145
    },
    {
      "cell_type": "code",
      "source": [
        "df['Subscription_HNI'] = df['Subscription_HNI'].clip(lower, upper)\n",
        "df['Subscription_HNI'].describe()"
      ],
      "metadata": {
        "colab": {
          "base_uri": "https://localhost:8080/",
          "height": 335
        },
        "execution": {
          "iopub.status.busy": "2025-04-13T10:39:42.553026Z",
          "iopub.execute_input": "2025-04-13T10:39:42.553436Z",
          "iopub.status.idle": "2025-04-13T10:39:42.575888Z",
          "shell.execute_reply.started": "2025-04-13T10:39:42.553407Z",
          "shell.execute_reply": "2025-04-13T10:39:42.574886Z"
        },
        "id": "7Bi4KyUOK5uu",
        "outputId": "da3ebb5c-dba2-4da6-a070-f0c63eafa808",
        "trusted": true
      },
      "outputs": [
        {
          "output_type": "execute_result",
          "data": {
            "text/plain": [
              "count    319.000000\n",
              "mean       0.263157\n",
              "std        0.374477\n",
              "min        0.000000\n",
              "25%        0.008184\n",
              "50%        0.033061\n",
              "75%        0.404910\n",
              "max        1.000000\n",
              "Name: Subscription_HNI, dtype: float64"
            ],
            "text/html": [
              "<div>\n",
              "<style scoped>\n",
              "    .dataframe tbody tr th:only-of-type {\n",
              "        vertical-align: middle;\n",
              "    }\n",
              "\n",
              "    .dataframe tbody tr th {\n",
              "        vertical-align: top;\n",
              "    }\n",
              "\n",
              "    .dataframe thead th {\n",
              "        text-align: right;\n",
              "    }\n",
              "</style>\n",
              "<table border=\"1\" class=\"dataframe\">\n",
              "  <thead>\n",
              "    <tr style=\"text-align: right;\">\n",
              "      <th></th>\n",
              "      <th>Subscription_HNI</th>\n",
              "    </tr>\n",
              "  </thead>\n",
              "  <tbody>\n",
              "    <tr>\n",
              "      <th>count</th>\n",
              "      <td>319.000000</td>\n",
              "    </tr>\n",
              "    <tr>\n",
              "      <th>mean</th>\n",
              "      <td>0.263157</td>\n",
              "    </tr>\n",
              "    <tr>\n",
              "      <th>std</th>\n",
              "      <td>0.374477</td>\n",
              "    </tr>\n",
              "    <tr>\n",
              "      <th>min</th>\n",
              "      <td>0.000000</td>\n",
              "    </tr>\n",
              "    <tr>\n",
              "      <th>25%</th>\n",
              "      <td>0.008184</td>\n",
              "    </tr>\n",
              "    <tr>\n",
              "      <th>50%</th>\n",
              "      <td>0.033061</td>\n",
              "    </tr>\n",
              "    <tr>\n",
              "      <th>75%</th>\n",
              "      <td>0.404910</td>\n",
              "    </tr>\n",
              "    <tr>\n",
              "      <th>max</th>\n",
              "      <td>1.000000</td>\n",
              "    </tr>\n",
              "  </tbody>\n",
              "</table>\n",
              "</div><br><label><b>dtype:</b> float64</label>"
            ]
          },
          "metadata": {},
          "execution_count": 146
        }
      ],
      "execution_count": 146
    },
    {
      "cell_type": "code",
      "source": [
        "q1 = df['Subscription_RII'].quantile(q=0.25)\n",
        "q3 = df['Subscription_RII'].quantile(q=0.75)\n",
        "iqr = q3 - q1\n",
        "lower = (q1 - 1.5 * iqr)\n",
        "upper = (q3 + 1.5 * iqr)\n",
        "print('IQR = ', iqr, '\\nlower = ', lower, '\\nupper = ', upper, sep='')"
      ],
      "metadata": {
        "colab": {
          "base_uri": "https://localhost:8080/"
        },
        "execution": {
          "iopub.status.busy": "2025-04-13T10:39:42.577202Z",
          "iopub.execute_input": "2025-04-13T10:39:42.577587Z",
          "iopub.status.idle": "2025-04-13T10:39:42.594963Z",
          "shell.execute_reply.started": "2025-04-13T10:39:42.577562Z",
          "shell.execute_reply": "2025-04-13T10:39:42.594146Z"
        },
        "id": "ynAHmlw4K5uu",
        "outputId": "4ad2e13b-b46e-4ff4-de92-60e72cd8cedd",
        "trusted": true
      },
      "outputs": [
        {
          "output_type": "stream",
          "name": "stdout",
          "text": [
            "IQR = 0.3739795918367347\n",
            "lower = -0.49591836734693884\n",
            "upper = 1.0\n"
          ]
        }
      ],
      "execution_count": 147
    },
    {
      "cell_type": "code",
      "source": [
        "df['Subscription_RII'] = df['Subscription_RII'].clip(lower, upper)\n",
        "df['Subscription_RII'].describe()"
      ],
      "metadata": {
        "colab": {
          "base_uri": "https://localhost:8080/",
          "height": 335
        },
        "execution": {
          "iopub.status.busy": "2025-04-13T10:39:42.59592Z",
          "iopub.execute_input": "2025-04-13T10:39:42.596243Z",
          "iopub.status.idle": "2025-04-13T10:39:42.619758Z",
          "shell.execute_reply.started": "2025-04-13T10:39:42.596219Z",
          "shell.execute_reply": "2025-04-13T10:39:42.618601Z"
        },
        "id": "IjQZoL6KK5uu",
        "outputId": "a7dd080d-9f9d-43ea-c236-3806047e31cb",
        "trusted": true
      },
      "outputs": [
        {
          "output_type": "execute_result",
          "data": {
            "text/plain": [
              "count    319.000000\n",
              "mean       0.309232\n",
              "std        0.315147\n",
              "min        0.000000\n",
              "25%        0.065051\n",
              "50%        0.174490\n",
              "75%        0.439031\n",
              "max        1.000000\n",
              "Name: Subscription_RII, dtype: float64"
            ],
            "text/html": [
              "<div>\n",
              "<style scoped>\n",
              "    .dataframe tbody tr th:only-of-type {\n",
              "        vertical-align: middle;\n",
              "    }\n",
              "\n",
              "    .dataframe tbody tr th {\n",
              "        vertical-align: top;\n",
              "    }\n",
              "\n",
              "    .dataframe thead th {\n",
              "        text-align: right;\n",
              "    }\n",
              "</style>\n",
              "<table border=\"1\" class=\"dataframe\">\n",
              "  <thead>\n",
              "    <tr style=\"text-align: right;\">\n",
              "      <th></th>\n",
              "      <th>Subscription_RII</th>\n",
              "    </tr>\n",
              "  </thead>\n",
              "  <tbody>\n",
              "    <tr>\n",
              "      <th>count</th>\n",
              "      <td>319.000000</td>\n",
              "    </tr>\n",
              "    <tr>\n",
              "      <th>mean</th>\n",
              "      <td>0.309232</td>\n",
              "    </tr>\n",
              "    <tr>\n",
              "      <th>std</th>\n",
              "      <td>0.315147</td>\n",
              "    </tr>\n",
              "    <tr>\n",
              "      <th>min</th>\n",
              "      <td>0.000000</td>\n",
              "    </tr>\n",
              "    <tr>\n",
              "      <th>25%</th>\n",
              "      <td>0.065051</td>\n",
              "    </tr>\n",
              "    <tr>\n",
              "      <th>50%</th>\n",
              "      <td>0.174490</td>\n",
              "    </tr>\n",
              "    <tr>\n",
              "      <th>75%</th>\n",
              "      <td>0.439031</td>\n",
              "    </tr>\n",
              "    <tr>\n",
              "      <th>max</th>\n",
              "      <td>1.000000</td>\n",
              "    </tr>\n",
              "  </tbody>\n",
              "</table>\n",
              "</div><br><label><b>dtype:</b> float64</label>"
            ]
          },
          "metadata": {},
          "execution_count": 148
        }
      ],
      "execution_count": 148
    },
    {
      "cell_type": "code",
      "source": [
        "q1 = df['Subscription_Total'].quantile(q=0.25)\n",
        "q3 = df['Subscription_Total'].quantile(q=0.75)\n",
        "iqr = q3 - q1\n",
        "lower = (q1 - 1.5 * iqr)\n",
        "upper = (q3 + 1.5 * iqr)\n",
        "print('IQR = ', iqr, '\\nlower = ', lower, '\\nupper = ', upper, sep='')"
      ],
      "metadata": {
        "colab": {
          "base_uri": "https://localhost:8080/"
        },
        "execution": {
          "iopub.status.busy": "2025-04-13T10:39:42.620789Z",
          "iopub.execute_input": "2025-04-13T10:39:42.621057Z",
          "iopub.status.idle": "2025-04-13T10:39:42.638391Z",
          "shell.execute_reply.started": "2025-04-13T10:39:42.621038Z",
          "shell.execute_reply": "2025-04-13T10:39:42.637335Z"
        },
        "id": "jDf0sDipK5uu",
        "outputId": "bf5c4d8f-70be-4d70-8a98-32a8704bcd54",
        "trusted": true
      },
      "outputs": [
        {
          "output_type": "stream",
          "name": "stdout",
          "text": [
            "IQR = 0.3918785485065417\n",
            "lower = -0.5675141940261665\n",
            "upper = 1.0000000000000002\n"
          ]
        }
      ],
      "execution_count": 149
    },
    {
      "cell_type": "code",
      "source": [
        "df['Subscription_Total'] = df['Subscription_Total'].clip(lower, upper)\n",
        "df['Subscription_Total'].describe()"
      ],
      "metadata": {
        "colab": {
          "base_uri": "https://localhost:8080/",
          "height": 335
        },
        "execution": {
          "iopub.status.busy": "2025-04-13T10:39:42.639323Z",
          "iopub.execute_input": "2025-04-13T10:39:42.639709Z",
          "iopub.status.idle": "2025-04-13T10:39:42.661274Z",
          "shell.execute_reply.started": "2025-04-13T10:39:42.639685Z",
          "shell.execute_reply": "2025-04-13T10:39:42.660497Z"
        },
        "id": "nrK_ia3IK5uu",
        "outputId": "83e7b639-84be-4d9b-8651-43530bf684e5",
        "trusted": true
      },
      "outputs": [
        {
          "output_type": "execute_result",
          "data": {
            "text/plain": [
              "count    319.000000\n",
              "mean       0.252489\n",
              "std        0.335939\n",
              "min        0.000000\n",
              "25%        0.020304\n",
              "50%        0.060849\n",
              "75%        0.412182\n",
              "max        1.000000\n",
              "Name: Subscription_Total, dtype: float64"
            ],
            "text/html": [
              "<div>\n",
              "<style scoped>\n",
              "    .dataframe tbody tr th:only-of-type {\n",
              "        vertical-align: middle;\n",
              "    }\n",
              "\n",
              "    .dataframe tbody tr th {\n",
              "        vertical-align: top;\n",
              "    }\n",
              "\n",
              "    .dataframe thead th {\n",
              "        text-align: right;\n",
              "    }\n",
              "</style>\n",
              "<table border=\"1\" class=\"dataframe\">\n",
              "  <thead>\n",
              "    <tr style=\"text-align: right;\">\n",
              "      <th></th>\n",
              "      <th>Subscription_Total</th>\n",
              "    </tr>\n",
              "  </thead>\n",
              "  <tbody>\n",
              "    <tr>\n",
              "      <th>count</th>\n",
              "      <td>319.000000</td>\n",
              "    </tr>\n",
              "    <tr>\n",
              "      <th>mean</th>\n",
              "      <td>0.252489</td>\n",
              "    </tr>\n",
              "    <tr>\n",
              "      <th>std</th>\n",
              "      <td>0.335939</td>\n",
              "    </tr>\n",
              "    <tr>\n",
              "      <th>min</th>\n",
              "      <td>0.000000</td>\n",
              "    </tr>\n",
              "    <tr>\n",
              "      <th>25%</th>\n",
              "      <td>0.020304</td>\n",
              "    </tr>\n",
              "    <tr>\n",
              "      <th>50%</th>\n",
              "      <td>0.060849</td>\n",
              "    </tr>\n",
              "    <tr>\n",
              "      <th>75%</th>\n",
              "      <td>0.412182</td>\n",
              "    </tr>\n",
              "    <tr>\n",
              "      <th>max</th>\n",
              "      <td>1.000000</td>\n",
              "    </tr>\n",
              "  </tbody>\n",
              "</table>\n",
              "</div><br><label><b>dtype:</b> float64</label>"
            ]
          },
          "metadata": {},
          "execution_count": 150
        }
      ],
      "execution_count": 150
    },
    {
      "cell_type": "markdown",
      "source": [
        "There are different approaches to outlier treatment, but the one we've used here is outlier identification using the interquartile menthod. Once we identified the outliers, we clipped the variable values between the upper and lower bounds. This is only one appoach — feel free to experiment with other methods."
      ],
      "metadata": {
        "id": "CqBFYEsEK5uv"
      }
    },
    {
      "cell_type": "markdown",
      "source": [
        "## Setting the Target and Predictor Variables"
      ],
      "metadata": {
        "id": "0FdzVKR3K5uv"
      }
    },
    {
      "cell_type": "code",
      "source": [
        "target_variable = ['Listing_Gains_Profit']\n",
        "predictors = list(set(list(df.columns)) - set(target_variable))\n",
        "df[predictors] = df[predictors]/df[predictors].max()\n",
        "df.describe()"
      ],
      "metadata": {
        "colab": {
          "base_uri": "https://localhost:8080/",
          "height": 320
        },
        "execution": {
          "iopub.status.busy": "2025-04-13T10:39:42.662206Z",
          "iopub.execute_input": "2025-04-13T10:39:42.662546Z",
          "iopub.status.idle": "2025-04-13T10:39:42.701143Z",
          "shell.execute_reply.started": "2025-04-13T10:39:42.662516Z",
          "shell.execute_reply": "2025-04-13T10:39:42.700214Z"
        },
        "id": "lnCJqqTzK5uv",
        "outputId": "3b7f8f1e-f290-4d61-9a5a-96e4ff78f7ff",
        "trusted": true
      },
      "outputs": [
        {
          "output_type": "execute_result",
          "data": {
            "text/plain": [
              "       Issue_Size  Subscription_QIB  Subscription_HNI  Subscription_RII  \\\n",
              "count  319.000000        319.000000        319.000000        319.000000   \n",
              "mean     0.305854          0.253601          0.263157          0.309232   \n",
              "std      0.308308          0.342961          0.374477          0.315147   \n",
              "min      0.000000          0.000000          0.000000          0.000000   \n",
              "25%      0.067697          0.013551          0.008184          0.065051   \n",
              "50%      0.198779          0.058212          0.033061          0.174490   \n",
              "75%      0.440618          0.408131          0.404910          0.439031   \n",
              "max      1.000000          1.000000          1.000000          1.000000   \n",
              "\n",
              "       Subscription_Total  Issue_Price  Listing_Gains_Profit  \n",
              "count          319.000000   319.000000            319.000000  \n",
              "mean             0.252489     0.174478              0.545455  \n",
              "std              0.335939     0.164604              0.498712  \n",
              "min              0.000000     0.000000              0.000000  \n",
              "25%              0.020304     0.055349              0.000000  \n",
              "50%              0.060849     0.116279              1.000000  \n",
              "75%              0.412182     0.249302              1.000000  \n",
              "max              1.000000     1.000000              1.000000  "
            ],
            "text/html": [
              "\n",
              "  <div id=\"df-4b99852a-04e5-4a33-b8ae-f83e2e310f9c\" class=\"colab-df-container\">\n",
              "    <div>\n",
              "<style scoped>\n",
              "    .dataframe tbody tr th:only-of-type {\n",
              "        vertical-align: middle;\n",
              "    }\n",
              "\n",
              "    .dataframe tbody tr th {\n",
              "        vertical-align: top;\n",
              "    }\n",
              "\n",
              "    .dataframe thead th {\n",
              "        text-align: right;\n",
              "    }\n",
              "</style>\n",
              "<table border=\"1\" class=\"dataframe\">\n",
              "  <thead>\n",
              "    <tr style=\"text-align: right;\">\n",
              "      <th></th>\n",
              "      <th>Issue_Size</th>\n",
              "      <th>Subscription_QIB</th>\n",
              "      <th>Subscription_HNI</th>\n",
              "      <th>Subscription_RII</th>\n",
              "      <th>Subscription_Total</th>\n",
              "      <th>Issue_Price</th>\n",
              "      <th>Listing_Gains_Profit</th>\n",
              "    </tr>\n",
              "  </thead>\n",
              "  <tbody>\n",
              "    <tr>\n",
              "      <th>count</th>\n",
              "      <td>319.000000</td>\n",
              "      <td>319.000000</td>\n",
              "      <td>319.000000</td>\n",
              "      <td>319.000000</td>\n",
              "      <td>319.000000</td>\n",
              "      <td>319.000000</td>\n",
              "      <td>319.000000</td>\n",
              "    </tr>\n",
              "    <tr>\n",
              "      <th>mean</th>\n",
              "      <td>0.305854</td>\n",
              "      <td>0.253601</td>\n",
              "      <td>0.263157</td>\n",
              "      <td>0.309232</td>\n",
              "      <td>0.252489</td>\n",
              "      <td>0.174478</td>\n",
              "      <td>0.545455</td>\n",
              "    </tr>\n",
              "    <tr>\n",
              "      <th>std</th>\n",
              "      <td>0.308308</td>\n",
              "      <td>0.342961</td>\n",
              "      <td>0.374477</td>\n",
              "      <td>0.315147</td>\n",
              "      <td>0.335939</td>\n",
              "      <td>0.164604</td>\n",
              "      <td>0.498712</td>\n",
              "    </tr>\n",
              "    <tr>\n",
              "      <th>min</th>\n",
              "      <td>0.000000</td>\n",
              "      <td>0.000000</td>\n",
              "      <td>0.000000</td>\n",
              "      <td>0.000000</td>\n",
              "      <td>0.000000</td>\n",
              "      <td>0.000000</td>\n",
              "      <td>0.000000</td>\n",
              "    </tr>\n",
              "    <tr>\n",
              "      <th>25%</th>\n",
              "      <td>0.067697</td>\n",
              "      <td>0.013551</td>\n",
              "      <td>0.008184</td>\n",
              "      <td>0.065051</td>\n",
              "      <td>0.020304</td>\n",
              "      <td>0.055349</td>\n",
              "      <td>0.000000</td>\n",
              "    </tr>\n",
              "    <tr>\n",
              "      <th>50%</th>\n",
              "      <td>0.198779</td>\n",
              "      <td>0.058212</td>\n",
              "      <td>0.033061</td>\n",
              "      <td>0.174490</td>\n",
              "      <td>0.060849</td>\n",
              "      <td>0.116279</td>\n",
              "      <td>1.000000</td>\n",
              "    </tr>\n",
              "    <tr>\n",
              "      <th>75%</th>\n",
              "      <td>0.440618</td>\n",
              "      <td>0.408131</td>\n",
              "      <td>0.404910</td>\n",
              "      <td>0.439031</td>\n",
              "      <td>0.412182</td>\n",
              "      <td>0.249302</td>\n",
              "      <td>1.000000</td>\n",
              "    </tr>\n",
              "    <tr>\n",
              "      <th>max</th>\n",
              "      <td>1.000000</td>\n",
              "      <td>1.000000</td>\n",
              "      <td>1.000000</td>\n",
              "      <td>1.000000</td>\n",
              "      <td>1.000000</td>\n",
              "      <td>1.000000</td>\n",
              "      <td>1.000000</td>\n",
              "    </tr>\n",
              "  </tbody>\n",
              "</table>\n",
              "</div>\n",
              "    <div class=\"colab-df-buttons\">\n",
              "\n",
              "  <div class=\"colab-df-container\">\n",
              "    <button class=\"colab-df-convert\" onclick=\"convertToInteractive('df-4b99852a-04e5-4a33-b8ae-f83e2e310f9c')\"\n",
              "            title=\"Convert this dataframe to an interactive table.\"\n",
              "            style=\"display:none;\">\n",
              "\n",
              "  <svg xmlns=\"http://www.w3.org/2000/svg\" height=\"24px\" viewBox=\"0 -960 960 960\">\n",
              "    <path d=\"M120-120v-720h720v720H120Zm60-500h600v-160H180v160Zm220 220h160v-160H400v160Zm0 220h160v-160H400v160ZM180-400h160v-160H180v160Zm440 0h160v-160H620v160ZM180-180h160v-160H180v160Zm440 0h160v-160H620v160Z\"/>\n",
              "  </svg>\n",
              "    </button>\n",
              "\n",
              "  <style>\n",
              "    .colab-df-container {\n",
              "      display:flex;\n",
              "      gap: 12px;\n",
              "    }\n",
              "\n",
              "    .colab-df-convert {\n",
              "      background-color: #E8F0FE;\n",
              "      border: none;\n",
              "      border-radius: 50%;\n",
              "      cursor: pointer;\n",
              "      display: none;\n",
              "      fill: #1967D2;\n",
              "      height: 32px;\n",
              "      padding: 0 0 0 0;\n",
              "      width: 32px;\n",
              "    }\n",
              "\n",
              "    .colab-df-convert:hover {\n",
              "      background-color: #E2EBFA;\n",
              "      box-shadow: 0px 1px 2px rgba(60, 64, 67, 0.3), 0px 1px 3px 1px rgba(60, 64, 67, 0.15);\n",
              "      fill: #174EA6;\n",
              "    }\n",
              "\n",
              "    .colab-df-buttons div {\n",
              "      margin-bottom: 4px;\n",
              "    }\n",
              "\n",
              "    [theme=dark] .colab-df-convert {\n",
              "      background-color: #3B4455;\n",
              "      fill: #D2E3FC;\n",
              "    }\n",
              "\n",
              "    [theme=dark] .colab-df-convert:hover {\n",
              "      background-color: #434B5C;\n",
              "      box-shadow: 0px 1px 3px 1px rgba(0, 0, 0, 0.15);\n",
              "      filter: drop-shadow(0px 1px 2px rgba(0, 0, 0, 0.3));\n",
              "      fill: #FFFFFF;\n",
              "    }\n",
              "  </style>\n",
              "\n",
              "    <script>\n",
              "      const buttonEl =\n",
              "        document.querySelector('#df-4b99852a-04e5-4a33-b8ae-f83e2e310f9c button.colab-df-convert');\n",
              "      buttonEl.style.display =\n",
              "        google.colab.kernel.accessAllowed ? 'block' : 'none';\n",
              "\n",
              "      async function convertToInteractive(key) {\n",
              "        const element = document.querySelector('#df-4b99852a-04e5-4a33-b8ae-f83e2e310f9c');\n",
              "        const dataTable =\n",
              "          await google.colab.kernel.invokeFunction('convertToInteractive',\n",
              "                                                    [key], {});\n",
              "        if (!dataTable) return;\n",
              "\n",
              "        const docLinkHtml = 'Like what you see? Visit the ' +\n",
              "          '<a target=\"_blank\" href=https://colab.research.google.com/notebooks/data_table.ipynb>data table notebook</a>'\n",
              "          + ' to learn more about interactive tables.';\n",
              "        element.innerHTML = '';\n",
              "        dataTable['output_type'] = 'display_data';\n",
              "        await google.colab.output.renderOutput(dataTable, element);\n",
              "        const docLink = document.createElement('div');\n",
              "        docLink.innerHTML = docLinkHtml;\n",
              "        element.appendChild(docLink);\n",
              "      }\n",
              "    </script>\n",
              "  </div>\n",
              "\n",
              "\n",
              "    <div id=\"df-4b498c4f-fd27-44f1-8db5-30e2a132da41\">\n",
              "      <button class=\"colab-df-quickchart\" onclick=\"quickchart('df-4b498c4f-fd27-44f1-8db5-30e2a132da41')\"\n",
              "                title=\"Suggest charts\"\n",
              "                style=\"display:none;\">\n",
              "\n",
              "<svg xmlns=\"http://www.w3.org/2000/svg\" height=\"24px\"viewBox=\"0 0 24 24\"\n",
              "     width=\"24px\">\n",
              "    <g>\n",
              "        <path d=\"M19 3H5c-1.1 0-2 .9-2 2v14c0 1.1.9 2 2 2h14c1.1 0 2-.9 2-2V5c0-1.1-.9-2-2-2zM9 17H7v-7h2v7zm4 0h-2V7h2v10zm4 0h-2v-4h2v4z\"/>\n",
              "    </g>\n",
              "</svg>\n",
              "      </button>\n",
              "\n",
              "<style>\n",
              "  .colab-df-quickchart {\n",
              "      --bg-color: #E8F0FE;\n",
              "      --fill-color: #1967D2;\n",
              "      --hover-bg-color: #E2EBFA;\n",
              "      --hover-fill-color: #174EA6;\n",
              "      --disabled-fill-color: #AAA;\n",
              "      --disabled-bg-color: #DDD;\n",
              "  }\n",
              "\n",
              "  [theme=dark] .colab-df-quickchart {\n",
              "      --bg-color: #3B4455;\n",
              "      --fill-color: #D2E3FC;\n",
              "      --hover-bg-color: #434B5C;\n",
              "      --hover-fill-color: #FFFFFF;\n",
              "      --disabled-bg-color: #3B4455;\n",
              "      --disabled-fill-color: #666;\n",
              "  }\n",
              "\n",
              "  .colab-df-quickchart {\n",
              "    background-color: var(--bg-color);\n",
              "    border: none;\n",
              "    border-radius: 50%;\n",
              "    cursor: pointer;\n",
              "    display: none;\n",
              "    fill: var(--fill-color);\n",
              "    height: 32px;\n",
              "    padding: 0;\n",
              "    width: 32px;\n",
              "  }\n",
              "\n",
              "  .colab-df-quickchart:hover {\n",
              "    background-color: var(--hover-bg-color);\n",
              "    box-shadow: 0 1px 2px rgba(60, 64, 67, 0.3), 0 1px 3px 1px rgba(60, 64, 67, 0.15);\n",
              "    fill: var(--button-hover-fill-color);\n",
              "  }\n",
              "\n",
              "  .colab-df-quickchart-complete:disabled,\n",
              "  .colab-df-quickchart-complete:disabled:hover {\n",
              "    background-color: var(--disabled-bg-color);\n",
              "    fill: var(--disabled-fill-color);\n",
              "    box-shadow: none;\n",
              "  }\n",
              "\n",
              "  .colab-df-spinner {\n",
              "    border: 2px solid var(--fill-color);\n",
              "    border-color: transparent;\n",
              "    border-bottom-color: var(--fill-color);\n",
              "    animation:\n",
              "      spin 1s steps(1) infinite;\n",
              "  }\n",
              "\n",
              "  @keyframes spin {\n",
              "    0% {\n",
              "      border-color: transparent;\n",
              "      border-bottom-color: var(--fill-color);\n",
              "      border-left-color: var(--fill-color);\n",
              "    }\n",
              "    20% {\n",
              "      border-color: transparent;\n",
              "      border-left-color: var(--fill-color);\n",
              "      border-top-color: var(--fill-color);\n",
              "    }\n",
              "    30% {\n",
              "      border-color: transparent;\n",
              "      border-left-color: var(--fill-color);\n",
              "      border-top-color: var(--fill-color);\n",
              "      border-right-color: var(--fill-color);\n",
              "    }\n",
              "    40% {\n",
              "      border-color: transparent;\n",
              "      border-right-color: var(--fill-color);\n",
              "      border-top-color: var(--fill-color);\n",
              "    }\n",
              "    60% {\n",
              "      border-color: transparent;\n",
              "      border-right-color: var(--fill-color);\n",
              "    }\n",
              "    80% {\n",
              "      border-color: transparent;\n",
              "      border-right-color: var(--fill-color);\n",
              "      border-bottom-color: var(--fill-color);\n",
              "    }\n",
              "    90% {\n",
              "      border-color: transparent;\n",
              "      border-bottom-color: var(--fill-color);\n",
              "    }\n",
              "  }\n",
              "</style>\n",
              "\n",
              "      <script>\n",
              "        async function quickchart(key) {\n",
              "          const quickchartButtonEl =\n",
              "            document.querySelector('#' + key + ' button');\n",
              "          quickchartButtonEl.disabled = true;  // To prevent multiple clicks.\n",
              "          quickchartButtonEl.classList.add('colab-df-spinner');\n",
              "          try {\n",
              "            const charts = await google.colab.kernel.invokeFunction(\n",
              "                'suggestCharts', [key], {});\n",
              "          } catch (error) {\n",
              "            console.error('Error during call to suggestCharts:', error);\n",
              "          }\n",
              "          quickchartButtonEl.classList.remove('colab-df-spinner');\n",
              "          quickchartButtonEl.classList.add('colab-df-quickchart-complete');\n",
              "        }\n",
              "        (() => {\n",
              "          let quickchartButtonEl =\n",
              "            document.querySelector('#df-4b498c4f-fd27-44f1-8db5-30e2a132da41 button');\n",
              "          quickchartButtonEl.style.display =\n",
              "            google.colab.kernel.accessAllowed ? 'block' : 'none';\n",
              "        })();\n",
              "      </script>\n",
              "    </div>\n",
              "\n",
              "    </div>\n",
              "  </div>\n"
            ],
            "application/vnd.google.colaboratory.intrinsic+json": {
              "type": "dataframe",
              "summary": "{\n  \"name\": \"df\",\n  \"rows\": 8,\n  \"fields\": [\n    {\n      \"column\": \"Issue_Size\",\n      \"properties\": {\n        \"dtype\": \"number\",\n        \"std\": 112.66670705909848,\n        \"min\": 0.0,\n        \"max\": 319.0,\n        \"num_unique_values\": 8,\n        \"samples\": [\n          0.30585360790970295,\n          0.19877888677814978,\n          319.0\n        ],\n        \"semantic_type\": \"\",\n        \"description\": \"\"\n      }\n    },\n    {\n      \"column\": \"Subscription_QIB\",\n      \"properties\": {\n        \"dtype\": \"number\",\n        \"std\": 112.67912138240045,\n        \"min\": 0.0,\n        \"max\": 319.0,\n        \"num_unique_values\": 8,\n        \"samples\": [\n          0.25360062908328096,\n          0.05821181322727942,\n          319.0\n        ],\n        \"semantic_type\": \"\",\n        \"description\": \"\"\n      }\n    },\n    {\n      \"column\": \"Subscription_HNI\",\n      \"properties\": {\n        \"dtype\": \"number\",\n        \"std\": 112.67876255216011,\n        \"min\": 0.0,\n        \"max\": 319.0,\n        \"num_unique_values\": 8,\n        \"samples\": [\n          0.26315689956172544,\n          0.03306054579244238,\n          319.0\n        ],\n        \"semantic_type\": \"\",\n        \"description\": \"\"\n      }\n    },\n    {\n      \"column\": \"Subscription_RII\",\n      \"properties\": {\n        \"dtype\": \"number\",\n        \"std\": 112.6676364656876,\n        \"min\": 0.0,\n        \"max\": 319.0,\n        \"num_unique_values\": 8,\n        \"samples\": [\n          0.3092316550444629,\n          0.17448979591836733,\n          319.0\n        ],\n        \"semantic_type\": \"\",\n        \"description\": \"\"\n      }\n    },\n    {\n      \"column\": \"Subscription_Total\",\n      \"properties\": {\n        \"dtype\": \"number\",\n        \"std\": 112.67885043666324,\n        \"min\": 0.0,\n        \"max\": 319.0,\n        \"num_unique_values\": 8,\n        \"samples\": [\n          0.25248883939798916,\n          0.060849173043692924,\n          319.0\n        ],\n        \"semantic_type\": \"\",\n        \"description\": \"\"\n      }\n    },\n    {\n      \"column\": \"Issue_Price\",\n      \"properties\": {\n        \"dtype\": \"number\",\n        \"std\": 112.6950772774634,\n        \"min\": 0.0,\n        \"max\": 319.0,\n        \"num_unique_values\": 8,\n        \"samples\": [\n          0.17447838448640374,\n          0.11627906976744186,\n          319.0\n        ],\n        \"semantic_type\": \"\",\n        \"description\": \"\"\n      }\n    },\n    {\n      \"column\": \"Listing_Gains_Profit\",\n      \"properties\": {\n        \"dtype\": \"number\",\n        \"std\": 112.58003790992647,\n        \"min\": 0.0,\n        \"max\": 319.0,\n        \"num_unique_values\": 5,\n        \"samples\": [\n          0.5454545454545454,\n          1.0,\n          0.49871189137651684\n        ],\n        \"semantic_type\": \"\",\n        \"description\": \"\"\n      }\n    }\n  ]\n}"
            }
          },
          "metadata": {},
          "execution_count": 151
        }
      ],
      "execution_count": 151
    },
    {
      "cell_type": "markdown",
      "source": [
        "We have created an object of the dependent variable called `target_variable` and also a list of all the features, excluding the target variable `Listing_Gains_Profit`. During data exploration, we observed that the distribution of the variables differed significantly. This could influence the modeling process, so to prevent this, we performed normalization by scaling the predictors. You can see that the normalized values of the predictors lie between 0 and 1."
      ],
      "metadata": {
        "id": "qB4LgEa5K5uv"
      }
    },
    {
      "cell_type": "markdown",
      "source": [
        "## Validation- Holdout Approach"
      ],
      "metadata": {
        "id": "Re0qt2A7K5uv"
      }
    },
    {
      "cell_type": "code",
      "source": [
        "X = df[predictors].values\n",
        "y = df[target_variable].values\n",
        "\n",
        "X_train, X_test, y_train, y_test = train_test_split(X, y, test_size=0.30, random_state=100)\n",
        "print(X_train.shape); print(X_test.shape)"
      ],
      "metadata": {
        "colab": {
          "base_uri": "https://localhost:8080/"
        },
        "execution": {
          "iopub.status.busy": "2025-04-13T11:06:47.293305Z",
          "iopub.execute_input": "2025-04-13T11:06:47.293628Z",
          "iopub.status.idle": "2025-04-13T11:06:47.302849Z",
          "shell.execute_reply.started": "2025-04-13T11:06:47.293607Z",
          "shell.execute_reply": "2025-04-13T11:06:47.301976Z"
        },
        "id": "79ia8fAdK5uv",
        "outputId": "93242527-1002-4df8-9164-6a8d880d662a",
        "trusted": true
      },
      "outputs": [
        {
          "output_type": "stream",
          "name": "stdout",
          "text": [
            "(223, 6)\n",
            "(96, 6)\n"
          ]
        }
      ],
      "execution_count": 152
    },
    {
      "cell_type": "markdown",
      "source": [
        "We will use the hold out validation approach to model evaluation. In this approach, we will divide the data in the 70:30 ratio, where we will use 70% of the data for training the model, while we will use the other 30% of the data to test the model. Feel free to use a different train-to-test ratio."
      ],
      "metadata": {
        "id": "4yRccKTCK5uv"
      }
    },
    {
      "cell_type": "markdown",
      "source": [
        "## Define the Deep Learning Classification Model"
      ],
      "metadata": {
        "id": "hbdwpVyOK5uv"
      }
    },
    {
      "cell_type": "code",
      "source": [
        "tf.random.set_seed(100)\n",
        "\n",
        "model = tf.keras.Sequential()\n",
        "\n",
        "# 4 hidden layer with ReLU\n",
        "\n",
        "model.add(tf.keras.layers.Dense(64, input_shape =(X_train.shape[1],), activation = 'relu'))\n",
        "#Dropout\n",
        "model.add(tf.keras.layers.Dropout(0.3))\n",
        "\n",
        "model.add(tf.keras.layers.Dense(32, activation= 'relu'))\n",
        "model.add(tf.keras.layers.Dense(16, activation= 'relu'))\n",
        "model.add(tf.keras.layers.Dense(8, activation= 'relu'))\n",
        "\n",
        "# 1 output node with  sigmoid\n",
        "model.add(tf.keras.layers.Dense(1, activation='sigmoid'))"
      ],
      "metadata": {
        "execution": {
          "iopub.status.busy": "2025-04-13T11:06:52.096177Z",
          "iopub.execute_input": "2025-04-13T11:06:52.096511Z",
          "iopub.status.idle": "2025-04-13T11:06:52.176187Z",
          "shell.execute_reply.started": "2025-04-13T11:06:52.096489Z",
          "shell.execute_reply": "2025-04-13T11:06:52.175184Z"
        },
        "id": "5fE0bP4rK5uv",
        "trusted": true,
        "outputId": "8b927336-36af-42b1-ba9c-1e2e17389b08",
        "colab": {
          "base_uri": "https://localhost:8080/"
        }
      },
      "outputs": [
        {
          "output_type": "stream",
          "name": "stderr",
          "text": [
            "/usr/local/lib/python3.11/dist-packages/keras/src/layers/core/dense.py:87: UserWarning: Do not pass an `input_shape`/`input_dim` argument to a layer. When using Sequential models, prefer using an `Input(shape)` object as the first layer in the model instead.\n",
            "  super().__init__(activity_regularizer=activity_regularizer, **kwargs)\n"
          ]
        }
      ],
      "execution_count": 179
    },
    {
      "cell_type": "markdown",
      "source": [
        " we have defined the model by instantiating the sequential model class in TensorFlow's Keras. The model architecture is comprised of four hidden layers with `relu` as the activation function. The output layer uses a `sigmoid` activation function, which is a good choice for a binary classification model. Feel free to experiment with different model architectures, activation functions, and the number of nodes in each layer!"
      ],
      "metadata": {
        "id": "hUY4nTU8K5uw"
      }
    },
    {
      "cell_type": "markdown",
      "source": [
        "## Compile and Train the Model"
      ],
      "metadata": {
        "id": "_8zUg4DyK5uw"
      }
    },
    {
      "cell_type": "code",
      "source": [
        "model.compile(optimizer=tf.keras.optimizers.Adam(0.001),\n",
        "              loss=tf.keras.losses.BinaryCrossentropy(),\n",
        "              metrics=['accuracy'])"
      ],
      "metadata": {
        "execution": {
          "iopub.status.busy": "2025-04-13T11:06:28.643134Z",
          "iopub.execute_input": "2025-04-13T11:06:28.643847Z",
          "iopub.status.idle": "2025-04-13T11:06:28.659163Z",
          "shell.execute_reply.started": "2025-04-13T11:06:28.643814Z",
          "shell.execute_reply": "2025-04-13T11:06:28.658343Z"
        },
        "id": "RG0Ssv5dK5uw",
        "trusted": true
      },
      "outputs": [],
      "execution_count": 180
    },
    {
      "cell_type": "code",
      "source": [
        "print(model.summary())"
      ],
      "metadata": {
        "colab": {
          "base_uri": "https://localhost:8080/",
          "height": 339
        },
        "execution": {
          "iopub.status.busy": "2025-04-13T10:39:42.863684Z",
          "iopub.execute_input": "2025-04-13T10:39:42.863954Z",
          "iopub.status.idle": "2025-04-13T10:39:42.888222Z",
          "shell.execute_reply.started": "2025-04-13T10:39:42.863933Z",
          "shell.execute_reply": "2025-04-13T10:39:42.887416Z"
        },
        "id": "IPz2XmGoK5uw",
        "outputId": "8bec6e52-5e47-405b-9c38-bac322e7efc9",
        "trusted": true
      },
      "outputs": [
        {
          "output_type": "display_data",
          "data": {
            "text/plain": [
              "\u001b[1mModel: \"sequential_3\"\u001b[0m\n"
            ],
            "text/html": [
              "<pre style=\"white-space:pre;overflow-x:auto;line-height:normal;font-family:Menlo,'DejaVu Sans Mono',consolas,'Courier New',monospace\"><span style=\"font-weight: bold\">Model: \"sequential_3\"</span>\n",
              "</pre>\n"
            ]
          },
          "metadata": {}
        },
        {
          "output_type": "display_data",
          "data": {
            "text/plain": [
              "┏━━━━━━━━━━━━━━━━━━━━━━━━━━━━━━━━━┳━━━━━━━━━━━━━━━━━━━━━━━━┳━━━━━━━━━━━━━━━┓\n",
              "┃\u001b[1m \u001b[0m\u001b[1mLayer (type)                   \u001b[0m\u001b[1m \u001b[0m┃\u001b[1m \u001b[0m\u001b[1mOutput Shape          \u001b[0m\u001b[1m \u001b[0m┃\u001b[1m \u001b[0m\u001b[1m      Param #\u001b[0m\u001b[1m \u001b[0m┃\n",
              "┡━━━━━━━━━━━━━━━━━━━━━━━━━━━━━━━━━╇━━━━━━━━━━━━━━━━━━━━━━━━╇━━━━━━━━━━━━━━━┩\n",
              "│ dense_15 (\u001b[38;5;33mDense\u001b[0m)                │ (\u001b[38;5;45mNone\u001b[0m, \u001b[38;5;34m64\u001b[0m)             │           \u001b[38;5;34m448\u001b[0m │\n",
              "├─────────────────────────────────┼────────────────────────┼───────────────┤\n",
              "│ dropout (\u001b[38;5;33mDropout\u001b[0m)               │ (\u001b[38;5;45mNone\u001b[0m, \u001b[38;5;34m64\u001b[0m)             │             \u001b[38;5;34m0\u001b[0m │\n",
              "├─────────────────────────────────┼────────────────────────┼───────────────┤\n",
              "│ dense_16 (\u001b[38;5;33mDense\u001b[0m)                │ (\u001b[38;5;45mNone\u001b[0m, \u001b[38;5;34m32\u001b[0m)             │         \u001b[38;5;34m2,080\u001b[0m │\n",
              "├─────────────────────────────────┼────────────────────────┼───────────────┤\n",
              "│ dense_17 (\u001b[38;5;33mDense\u001b[0m)                │ (\u001b[38;5;45mNone\u001b[0m, \u001b[38;5;34m16\u001b[0m)             │           \u001b[38;5;34m528\u001b[0m │\n",
              "├─────────────────────────────────┼────────────────────────┼───────────────┤\n",
              "│ dense_18 (\u001b[38;5;33mDense\u001b[0m)                │ (\u001b[38;5;45mNone\u001b[0m, \u001b[38;5;34m8\u001b[0m)              │           \u001b[38;5;34m136\u001b[0m │\n",
              "├─────────────────────────────────┼────────────────────────┼───────────────┤\n",
              "│ dense_19 (\u001b[38;5;33mDense\u001b[0m)                │ (\u001b[38;5;45mNone\u001b[0m, \u001b[38;5;34m1\u001b[0m)              │             \u001b[38;5;34m9\u001b[0m │\n",
              "└─────────────────────────────────┴────────────────────────┴───────────────┘\n"
            ],
            "text/html": [
              "<pre style=\"white-space:pre;overflow-x:auto;line-height:normal;font-family:Menlo,'DejaVu Sans Mono',consolas,'Courier New',monospace\">┏━━━━━━━━━━━━━━━━━━━━━━━━━━━━━━━━━┳━━━━━━━━━━━━━━━━━━━━━━━━┳━━━━━━━━━━━━━━━┓\n",
              "┃<span style=\"font-weight: bold\"> Layer (type)                    </span>┃<span style=\"font-weight: bold\"> Output Shape           </span>┃<span style=\"font-weight: bold\">       Param # </span>┃\n",
              "┡━━━━━━━━━━━━━━━━━━━━━━━━━━━━━━━━━╇━━━━━━━━━━━━━━━━━━━━━━━━╇━━━━━━━━━━━━━━━┩\n",
              "│ dense_15 (<span style=\"color: #0087ff; text-decoration-color: #0087ff\">Dense</span>)                │ (<span style=\"color: #00d7ff; text-decoration-color: #00d7ff\">None</span>, <span style=\"color: #00af00; text-decoration-color: #00af00\">64</span>)             │           <span style=\"color: #00af00; text-decoration-color: #00af00\">448</span> │\n",
              "├─────────────────────────────────┼────────────────────────┼───────────────┤\n",
              "│ dropout (<span style=\"color: #0087ff; text-decoration-color: #0087ff\">Dropout</span>)               │ (<span style=\"color: #00d7ff; text-decoration-color: #00d7ff\">None</span>, <span style=\"color: #00af00; text-decoration-color: #00af00\">64</span>)             │             <span style=\"color: #00af00; text-decoration-color: #00af00\">0</span> │\n",
              "├─────────────────────────────────┼────────────────────────┼───────────────┤\n",
              "│ dense_16 (<span style=\"color: #0087ff; text-decoration-color: #0087ff\">Dense</span>)                │ (<span style=\"color: #00d7ff; text-decoration-color: #00d7ff\">None</span>, <span style=\"color: #00af00; text-decoration-color: #00af00\">32</span>)             │         <span style=\"color: #00af00; text-decoration-color: #00af00\">2,080</span> │\n",
              "├─────────────────────────────────┼────────────────────────┼───────────────┤\n",
              "│ dense_17 (<span style=\"color: #0087ff; text-decoration-color: #0087ff\">Dense</span>)                │ (<span style=\"color: #00d7ff; text-decoration-color: #00d7ff\">None</span>, <span style=\"color: #00af00; text-decoration-color: #00af00\">16</span>)             │           <span style=\"color: #00af00; text-decoration-color: #00af00\">528</span> │\n",
              "├─────────────────────────────────┼────────────────────────┼───────────────┤\n",
              "│ dense_18 (<span style=\"color: #0087ff; text-decoration-color: #0087ff\">Dense</span>)                │ (<span style=\"color: #00d7ff; text-decoration-color: #00d7ff\">None</span>, <span style=\"color: #00af00; text-decoration-color: #00af00\">8</span>)              │           <span style=\"color: #00af00; text-decoration-color: #00af00\">136</span> │\n",
              "├─────────────────────────────────┼────────────────────────┼───────────────┤\n",
              "│ dense_19 (<span style=\"color: #0087ff; text-decoration-color: #0087ff\">Dense</span>)                │ (<span style=\"color: #00d7ff; text-decoration-color: #00d7ff\">None</span>, <span style=\"color: #00af00; text-decoration-color: #00af00\">1</span>)              │             <span style=\"color: #00af00; text-decoration-color: #00af00\">9</span> │\n",
              "└─────────────────────────────────┴────────────────────────┴───────────────┘\n",
              "</pre>\n"
            ]
          },
          "metadata": {}
        },
        {
          "output_type": "display_data",
          "data": {
            "text/plain": [
              "\u001b[1m Total params: \u001b[0m\u001b[38;5;34m3,201\u001b[0m (12.50 KB)\n"
            ],
            "text/html": [
              "<pre style=\"white-space:pre;overflow-x:auto;line-height:normal;font-family:Menlo,'DejaVu Sans Mono',consolas,'Courier New',monospace\"><span style=\"font-weight: bold\"> Total params: </span><span style=\"color: #00af00; text-decoration-color: #00af00\">3,201</span> (12.50 KB)\n",
              "</pre>\n"
            ]
          },
          "metadata": {}
        },
        {
          "output_type": "display_data",
          "data": {
            "text/plain": [
              "\u001b[1m Trainable params: \u001b[0m\u001b[38;5;34m3,201\u001b[0m (12.50 KB)\n"
            ],
            "text/html": [
              "<pre style=\"white-space:pre;overflow-x:auto;line-height:normal;font-family:Menlo,'DejaVu Sans Mono',consolas,'Courier New',monospace\"><span style=\"font-weight: bold\"> Trainable params: </span><span style=\"color: #00af00; text-decoration-color: #00af00\">3,201</span> (12.50 KB)\n",
              "</pre>\n"
            ]
          },
          "metadata": {}
        },
        {
          "output_type": "display_data",
          "data": {
            "text/plain": [
              "\u001b[1m Non-trainable params: \u001b[0m\u001b[38;5;34m0\u001b[0m (0.00 B)\n"
            ],
            "text/html": [
              "<pre style=\"white-space:pre;overflow-x:auto;line-height:normal;font-family:Menlo,'DejaVu Sans Mono',consolas,'Courier New',monospace\"><span style=\"font-weight: bold\"> Non-trainable params: </span><span style=\"color: #00af00; text-decoration-color: #00af00\">0</span> (0.00 B)\n",
              "</pre>\n"
            ]
          },
          "metadata": {}
        },
        {
          "output_type": "stream",
          "name": "stdout",
          "text": [
            "None\n"
          ]
        }
      ],
      "execution_count": 181
    },
    {
      "cell_type": "code",
      "source": [
        "model.fit(X_train, y_train, epochs=250)"
      ],
      "metadata": {
        "colab": {
          "base_uri": "https://localhost:8080/"
        },
        "execution": {
          "iopub.status.busy": "2025-04-13T10:39:42.889098Z",
          "iopub.execute_input": "2025-04-13T10:39:42.88971Z",
          "iopub.status.idle": "2025-04-13T10:39:56.232005Z",
          "shell.execute_reply.started": "2025-04-13T10:39:42.889681Z",
          "shell.execute_reply": "2025-04-13T10:39:56.230983Z"
        },
        "id": "2hFSDV0oK5uw",
        "outputId": "9f7b5e35-e9b1-4c2d-9398-4cdc22aec6e4",
        "trusted": true,
        "collapsed": true,
        "jupyter": {
          "outputs_hidden": true
        }
      },
      "outputs": [
        {
          "output_type": "stream",
          "name": "stdout",
          "text": [
            "Epoch 1/250\n",
            "\u001b[1m7/7\u001b[0m \u001b[32m━━━━━━━━━━━━━━━━━━━━\u001b[0m\u001b[37m\u001b[0m \u001b[1m1s\u001b[0m 5ms/step - accuracy: 0.4590 - loss: 0.6955\n",
            "Epoch 2/250\n",
            "\u001b[1m7/7\u001b[0m \u001b[32m━━━━━━━━━━━━━━━━━━━━\u001b[0m\u001b[37m\u001b[0m \u001b[1m0s\u001b[0m 5ms/step - accuracy: 0.5405 - loss: 0.6920 \n",
            "Epoch 3/250\n",
            "\u001b[1m7/7\u001b[0m \u001b[32m━━━━━━━━━━━━━━━━━━━━\u001b[0m\u001b[37m\u001b[0m \u001b[1m0s\u001b[0m 4ms/step - accuracy: 0.5332 - loss: 0.6875 \n",
            "Epoch 4/250\n",
            "\u001b[1m7/7\u001b[0m \u001b[32m━━━━━━━━━━━━━━━━━━━━\u001b[0m\u001b[37m\u001b[0m \u001b[1m0s\u001b[0m 4ms/step - accuracy: 0.5414 - loss: 0.6832 \n",
            "Epoch 5/250\n",
            "\u001b[1m7/7\u001b[0m \u001b[32m━━━━━━━━━━━━━━━━━━━━\u001b[0m\u001b[37m\u001b[0m \u001b[1m0s\u001b[0m 4ms/step - accuracy: 0.5240 - loss: 0.6766 \n",
            "Epoch 6/250\n",
            "\u001b[1m7/7\u001b[0m \u001b[32m━━━━━━━━━━━━━━━━━━━━\u001b[0m\u001b[37m\u001b[0m \u001b[1m0s\u001b[0m 4ms/step - accuracy: 0.5240 - loss: 0.6705 \n",
            "Epoch 7/250\n",
            "\u001b[1m7/7\u001b[0m \u001b[32m━━━━━━━━━━━━━━━━━━━━\u001b[0m\u001b[37m\u001b[0m \u001b[1m0s\u001b[0m 4ms/step - accuracy: 0.5240 - loss: 0.6621 \n",
            "Epoch 8/250\n",
            "\u001b[1m7/7\u001b[0m \u001b[32m━━━━━━━━━━━━━━━━━━━━\u001b[0m\u001b[37m\u001b[0m \u001b[1m0s\u001b[0m 4ms/step - accuracy: 0.5240 - loss: 0.6557 \n",
            "Epoch 9/250\n",
            "\u001b[1m7/7\u001b[0m \u001b[32m━━━━━━━━━━━━━━━━━━━━\u001b[0m\u001b[37m\u001b[0m \u001b[1m0s\u001b[0m 4ms/step - accuracy: 0.5155 - loss: 0.6546 \n",
            "Epoch 10/250\n",
            "\u001b[1m7/7\u001b[0m \u001b[32m━━━━━━━━━━━━━━━━━━━━\u001b[0m\u001b[37m\u001b[0m \u001b[1m0s\u001b[0m 4ms/step - accuracy: 0.5044 - loss: 0.6488 \n",
            "Epoch 11/250\n",
            "\u001b[1m7/7\u001b[0m \u001b[32m━━━━━━━━━━━━━━━━━━━━\u001b[0m\u001b[37m\u001b[0m \u001b[1m0s\u001b[0m 4ms/step - accuracy: 0.5981 - loss: 0.6468 \n",
            "Epoch 12/250\n",
            "\u001b[1m7/7\u001b[0m \u001b[32m━━━━━━━━━━━━━━━━━━━━\u001b[0m\u001b[37m\u001b[0m \u001b[1m0s\u001b[0m 5ms/step - accuracy: 0.6213 - loss: 0.6468 \n",
            "Epoch 13/250\n",
            "\u001b[1m7/7\u001b[0m \u001b[32m━━━━━━━━━━━━━━━━━━━━\u001b[0m\u001b[37m\u001b[0m \u001b[1m0s\u001b[0m 4ms/step - accuracy: 0.6259 - loss: 0.6357 \n",
            "Epoch 14/250\n",
            "\u001b[1m7/7\u001b[0m \u001b[32m━━━━━━━━━━━━━━━━━━━━\u001b[0m\u001b[37m\u001b[0m \u001b[1m0s\u001b[0m 4ms/step - accuracy: 0.6308 - loss: 0.6336 \n",
            "Epoch 15/250\n",
            "\u001b[1m7/7\u001b[0m \u001b[32m━━━━━━━━━━━━━━━━━━━━\u001b[0m\u001b[37m\u001b[0m \u001b[1m0s\u001b[0m 4ms/step - accuracy: 0.6352 - loss: 0.6308 \n",
            "Epoch 16/250\n",
            "\u001b[1m7/7\u001b[0m \u001b[32m━━━━━━━━━━━━━━━━━━━━\u001b[0m\u001b[37m\u001b[0m \u001b[1m0s\u001b[0m 4ms/step - accuracy: 0.6605 - loss: 0.6330 \n",
            "Epoch 17/250\n",
            "\u001b[1m7/7\u001b[0m \u001b[32m━━━━━━━━━━━━━━━━━━━━\u001b[0m\u001b[37m\u001b[0m \u001b[1m0s\u001b[0m 4ms/step - accuracy: 0.6328 - loss: 0.6280 \n",
            "Epoch 18/250\n",
            "\u001b[1m7/7\u001b[0m \u001b[32m━━━━━━━━━━━━━━━━━━━━\u001b[0m\u001b[37m\u001b[0m \u001b[1m0s\u001b[0m 4ms/step - accuracy: 0.6061 - loss: 0.6300 \n",
            "Epoch 19/250\n",
            "\u001b[1m7/7\u001b[0m \u001b[32m━━━━━━━━━━━━━━━━━━━━\u001b[0m\u001b[37m\u001b[0m \u001b[1m0s\u001b[0m 4ms/step - accuracy: 0.6547 - loss: 0.6200 \n",
            "Epoch 20/250\n",
            "\u001b[1m7/7\u001b[0m \u001b[32m━━━━━━━━━━━━━━━━━━━━\u001b[0m\u001b[37m\u001b[0m \u001b[1m0s\u001b[0m 4ms/step - accuracy: 0.6150 - loss: 0.6277 \n",
            "Epoch 21/250\n",
            "\u001b[1m7/7\u001b[0m \u001b[32m━━━━━━━━━━━━━━━━━━━━\u001b[0m\u001b[37m\u001b[0m \u001b[1m0s\u001b[0m 4ms/step - accuracy: 0.6013 - loss: 0.6238 \n",
            "Epoch 22/250\n",
            "\u001b[1m7/7\u001b[0m \u001b[32m━━━━━━━━━━━━━━━━━━━━\u001b[0m\u001b[37m\u001b[0m \u001b[1m0s\u001b[0m 7ms/step - accuracy: 0.6104 - loss: 0.6334 \n",
            "Epoch 23/250\n",
            "\u001b[1m7/7\u001b[0m \u001b[32m━━━━━━━━━━━━━━━━━━━━\u001b[0m\u001b[37m\u001b[0m \u001b[1m0s\u001b[0m 4ms/step - accuracy: 0.6579 - loss: 0.6200 \n",
            "Epoch 24/250\n",
            "\u001b[1m7/7\u001b[0m \u001b[32m━━━━━━━━━━━━━━━━━━━━\u001b[0m\u001b[37m\u001b[0m \u001b[1m0s\u001b[0m 4ms/step - accuracy: 0.6070 - loss: 0.6224 \n",
            "Epoch 25/250\n",
            "\u001b[1m7/7\u001b[0m \u001b[32m━━━━━━━━━━━━━━━━━━━━\u001b[0m\u001b[37m\u001b[0m \u001b[1m0s\u001b[0m 4ms/step - accuracy: 0.6639 - loss: 0.6167 \n",
            "Epoch 26/250\n",
            "\u001b[1m7/7\u001b[0m \u001b[32m━━━━━━━━━━━━━━━━━━━━\u001b[0m\u001b[37m\u001b[0m \u001b[1m0s\u001b[0m 4ms/step - accuracy: 0.6538 - loss: 0.6280 \n",
            "Epoch 27/250\n",
            "\u001b[1m7/7\u001b[0m \u001b[32m━━━━━━━━━━━━━━━━━━━━\u001b[0m\u001b[37m\u001b[0m \u001b[1m0s\u001b[0m 6ms/step - accuracy: 0.6228 - loss: 0.6251 \n",
            "Epoch 28/250\n",
            "\u001b[1m7/7\u001b[0m \u001b[32m━━━━━━━━━━━━━━━━━━━━\u001b[0m\u001b[37m\u001b[0m \u001b[1m0s\u001b[0m 6ms/step - accuracy: 0.6347 - loss: 0.6159  \n",
            "Epoch 29/250\n",
            "\u001b[1m7/7\u001b[0m \u001b[32m━━━━━━━━━━━━━━━━━━━━\u001b[0m\u001b[37m\u001b[0m \u001b[1m0s\u001b[0m 6ms/step - accuracy: 0.6526 - loss: 0.6312 \n",
            "Epoch 30/250\n",
            "\u001b[1m7/7\u001b[0m \u001b[32m━━━━━━━━━━━━━━━━━━━━\u001b[0m\u001b[37m\u001b[0m \u001b[1m0s\u001b[0m 6ms/step - accuracy: 0.6139 - loss: 0.6223 \n",
            "Epoch 31/250\n",
            "\u001b[1m7/7\u001b[0m \u001b[32m━━━━━━━━━━━━━━━━━━━━\u001b[0m\u001b[37m\u001b[0m \u001b[1m0s\u001b[0m 5ms/step - accuracy: 0.6565 - loss: 0.6208 \n",
            "Epoch 32/250\n",
            "\u001b[1m7/7\u001b[0m \u001b[32m━━━━━━━━━━━━━━━━━━━━\u001b[0m\u001b[37m\u001b[0m \u001b[1m0s\u001b[0m 5ms/step - accuracy: 0.6611 - loss: 0.6211 \n",
            "Epoch 33/250\n",
            "\u001b[1m7/7\u001b[0m \u001b[32m━━━━━━━━━━━━━━━━━━━━\u001b[0m\u001b[37m\u001b[0m \u001b[1m0s\u001b[0m 5ms/step - accuracy: 0.6251 - loss: 0.6262 \n",
            "Epoch 34/250\n",
            "\u001b[1m7/7\u001b[0m \u001b[32m━━━━━━━━━━━━━━━━━━━━\u001b[0m\u001b[37m\u001b[0m \u001b[1m0s\u001b[0m 5ms/step - accuracy: 0.6141 - loss: 0.6171 \n",
            "Epoch 35/250\n",
            "\u001b[1m7/7\u001b[0m \u001b[32m━━━━━━━━━━━━━━━━━━━━\u001b[0m\u001b[37m\u001b[0m \u001b[1m0s\u001b[0m 6ms/step - accuracy: 0.6523 - loss: 0.6328 \n",
            "Epoch 36/250\n",
            "\u001b[1m7/7\u001b[0m \u001b[32m━━━━━━━━━━━━━━━━━━━━\u001b[0m\u001b[37m\u001b[0m \u001b[1m0s\u001b[0m 5ms/step - accuracy: 0.6439 - loss: 0.6179 \n",
            "Epoch 37/250\n",
            "\u001b[1m7/7\u001b[0m \u001b[32m━━━━━━━━━━━━━━━━━━━━\u001b[0m\u001b[37m\u001b[0m \u001b[1m0s\u001b[0m 6ms/step - accuracy: 0.6332 - loss: 0.6175 \n",
            "Epoch 38/250\n",
            "\u001b[1m7/7\u001b[0m \u001b[32m━━━━━━━━━━━━━━━━━━━━\u001b[0m\u001b[37m\u001b[0m \u001b[1m0s\u001b[0m 6ms/step - accuracy: 0.6528 - loss: 0.6094  \n",
            "Epoch 39/250\n",
            "\u001b[1m7/7\u001b[0m \u001b[32m━━━━━━━━━━━━━━━━━━━━\u001b[0m\u001b[37m\u001b[0m \u001b[1m0s\u001b[0m 6ms/step - accuracy: 0.6544 - loss: 0.6185 \n",
            "Epoch 40/250\n",
            "\u001b[1m7/7\u001b[0m \u001b[32m━━━━━━━━━━━━━━━━━━━━\u001b[0m\u001b[37m\u001b[0m \u001b[1m0s\u001b[0m 7ms/step - accuracy: 0.6759 - loss: 0.6170  \n",
            "Epoch 41/250\n",
            "\u001b[1m7/7\u001b[0m \u001b[32m━━━━━━━━━━━━━━━━━━━━\u001b[0m\u001b[37m\u001b[0m \u001b[1m0s\u001b[0m 7ms/step - accuracy: 0.6454 - loss: 0.6209 \n",
            "Epoch 42/250\n",
            "\u001b[1m7/7\u001b[0m \u001b[32m━━━━━━━━━━━━━━━━━━━━\u001b[0m\u001b[37m\u001b[0m \u001b[1m0s\u001b[0m 4ms/step - accuracy: 0.6356 - loss: 0.6249 \n",
            "Epoch 43/250\n",
            "\u001b[1m7/7\u001b[0m \u001b[32m━━━━━━━━━━━━━━━━━━━━\u001b[0m\u001b[37m\u001b[0m \u001b[1m0s\u001b[0m 4ms/step - accuracy: 0.6574 - loss: 0.6120 \n",
            "Epoch 44/250\n",
            "\u001b[1m7/7\u001b[0m \u001b[32m━━━━━━━━━━━━━━━━━━━━\u001b[0m\u001b[37m\u001b[0m \u001b[1m0s\u001b[0m 4ms/step - accuracy: 0.6592 - loss: 0.6170 \n",
            "Epoch 45/250\n",
            "\u001b[1m7/7\u001b[0m \u001b[32m━━━━━━━━━━━━━━━━━━━━\u001b[0m\u001b[37m\u001b[0m \u001b[1m0s\u001b[0m 4ms/step - accuracy: 0.6372 - loss: 0.6136 \n",
            "Epoch 46/250\n",
            "\u001b[1m7/7\u001b[0m \u001b[32m━━━━━━━━━━━━━━━━━━━━\u001b[0m\u001b[37m\u001b[0m \u001b[1m0s\u001b[0m 4ms/step - accuracy: 0.6392 - loss: 0.6062 \n",
            "Epoch 47/250\n",
            "\u001b[1m7/7\u001b[0m \u001b[32m━━━━━━━━━━━━━━━━━━━━\u001b[0m\u001b[37m\u001b[0m \u001b[1m0s\u001b[0m 4ms/step - accuracy: 0.6048 - loss: 0.6202 \n",
            "Epoch 48/250\n",
            "\u001b[1m7/7\u001b[0m \u001b[32m━━━━━━━━━━━━━━━━━━━━\u001b[0m\u001b[37m\u001b[0m \u001b[1m0s\u001b[0m 4ms/step - accuracy: 0.6161 - loss: 0.6156 \n",
            "Epoch 49/250\n",
            "\u001b[1m7/7\u001b[0m \u001b[32m━━━━━━━━━━━━━━━━━━━━\u001b[0m\u001b[37m\u001b[0m \u001b[1m0s\u001b[0m 4ms/step - accuracy: 0.6286 - loss: 0.6230 \n",
            "Epoch 50/250\n",
            "\u001b[1m7/7\u001b[0m \u001b[32m━━━━━━━━━━━━━━━━━━━━\u001b[0m\u001b[37m\u001b[0m \u001b[1m0s\u001b[0m 4ms/step - accuracy: 0.6558 - loss: 0.6118 \n",
            "Epoch 51/250\n",
            "\u001b[1m7/7\u001b[0m \u001b[32m━━━━━━━━━━━━━━━━━━━━\u001b[0m\u001b[37m\u001b[0m \u001b[1m0s\u001b[0m 4ms/step - accuracy: 0.6238 - loss: 0.6061 \n",
            "Epoch 52/250\n",
            "\u001b[1m7/7\u001b[0m \u001b[32m━━━━━━━━━━━━━━━━━━━━\u001b[0m\u001b[37m\u001b[0m \u001b[1m0s\u001b[0m 4ms/step - accuracy: 0.6483 - loss: 0.6144 \n",
            "Epoch 53/250\n",
            "\u001b[1m7/7\u001b[0m \u001b[32m━━━━━━━━━━━━━━━━━━━━\u001b[0m\u001b[37m\u001b[0m \u001b[1m0s\u001b[0m 4ms/step - accuracy: 0.6443 - loss: 0.5997 \n",
            "Epoch 54/250\n",
            "\u001b[1m7/7\u001b[0m \u001b[32m━━━━━━━━━━━━━━━━━━━━\u001b[0m\u001b[37m\u001b[0m \u001b[1m0s\u001b[0m 4ms/step - accuracy: 0.6375 - loss: 0.6105 \n",
            "Epoch 55/250\n",
            "\u001b[1m7/7\u001b[0m \u001b[32m━━━━━━━━━━━━━━━━━━━━\u001b[0m\u001b[37m\u001b[0m \u001b[1m0s\u001b[0m 4ms/step - accuracy: 0.6436 - loss: 0.6024 \n",
            "Epoch 56/250\n",
            "\u001b[1m7/7\u001b[0m \u001b[32m━━━━━━━━━━━━━━━━━━━━\u001b[0m\u001b[37m\u001b[0m \u001b[1m0s\u001b[0m 4ms/step - accuracy: 0.6726 - loss: 0.6087 \n",
            "Epoch 57/250\n",
            "\u001b[1m7/7\u001b[0m \u001b[32m━━━━━━━━━━━━━━━━━━━━\u001b[0m\u001b[37m\u001b[0m \u001b[1m0s\u001b[0m 5ms/step - accuracy: 0.6263 - loss: 0.6243 \n",
            "Epoch 58/250\n",
            "\u001b[1m7/7\u001b[0m \u001b[32m━━━━━━━━━━━━━━━━━━━━\u001b[0m\u001b[37m\u001b[0m \u001b[1m0s\u001b[0m 6ms/step - accuracy: 0.6331 - loss: 0.6121 \n",
            "Epoch 59/250\n",
            "\u001b[1m7/7\u001b[0m \u001b[32m━━━━━━━━━━━━━━━━━━━━\u001b[0m\u001b[37m\u001b[0m \u001b[1m0s\u001b[0m 4ms/step - accuracy: 0.6576 - loss: 0.6013 \n",
            "Epoch 60/250\n",
            "\u001b[1m7/7\u001b[0m \u001b[32m━━━━━━━━━━━━━━━━━━━━\u001b[0m\u001b[37m\u001b[0m \u001b[1m0s\u001b[0m 4ms/step - accuracy: 0.6340 - loss: 0.6213 \n",
            "Epoch 61/250\n",
            "\u001b[1m7/7\u001b[0m \u001b[32m━━━━━━━━━━━━━━━━━━━━\u001b[0m\u001b[37m\u001b[0m \u001b[1m0s\u001b[0m 4ms/step - accuracy: 0.6542 - loss: 0.6087 \n",
            "Epoch 62/250\n",
            "\u001b[1m7/7\u001b[0m \u001b[32m━━━━━━━━━━━━━━━━━━━━\u001b[0m\u001b[37m\u001b[0m \u001b[1m0s\u001b[0m 4ms/step - accuracy: 0.6456 - loss: 0.6171 \n",
            "Epoch 63/250\n",
            "\u001b[1m7/7\u001b[0m \u001b[32m━━━━━━━━━━━━━━━━━━━━\u001b[0m\u001b[37m\u001b[0m \u001b[1m0s\u001b[0m 4ms/step - accuracy: 0.6324 - loss: 0.6104 \n",
            "Epoch 64/250\n",
            "\u001b[1m7/7\u001b[0m \u001b[32m━━━━━━━━━━━━━━━━━━━━\u001b[0m\u001b[37m\u001b[0m \u001b[1m0s\u001b[0m 4ms/step - accuracy: 0.6489 - loss: 0.6179 \n",
            "Epoch 65/250\n",
            "\u001b[1m7/7\u001b[0m \u001b[32m━━━━━━━━━━━━━━━━━━━━\u001b[0m\u001b[37m\u001b[0m \u001b[1m0s\u001b[0m 4ms/step - accuracy: 0.6621 - loss: 0.6083 \n",
            "Epoch 66/250\n",
            "\u001b[1m7/7\u001b[0m \u001b[32m━━━━━━━━━━━━━━━━━━━━\u001b[0m\u001b[37m\u001b[0m \u001b[1m0s\u001b[0m 5ms/step - accuracy: 0.6664 - loss: 0.5919 \n",
            "Epoch 67/250\n",
            "\u001b[1m7/7\u001b[0m \u001b[32m━━━━━━━━━━━━━━━━━━━━\u001b[0m\u001b[37m\u001b[0m \u001b[1m0s\u001b[0m 4ms/step - accuracy: 0.6764 - loss: 0.6003 \n",
            "Epoch 68/250\n",
            "\u001b[1m7/7\u001b[0m \u001b[32m━━━━━━━━━━━━━━━━━━━━\u001b[0m\u001b[37m\u001b[0m \u001b[1m0s\u001b[0m 4ms/step - accuracy: 0.6315 - loss: 0.5969 \n",
            "Epoch 69/250\n",
            "\u001b[1m7/7\u001b[0m \u001b[32m━━━━━━━━━━━━━━━━━━━━\u001b[0m\u001b[37m\u001b[0m \u001b[1m0s\u001b[0m 4ms/step - accuracy: 0.6335 - loss: 0.6098 \n",
            "Epoch 70/250\n",
            "\u001b[1m7/7\u001b[0m \u001b[32m━━━━━━━━━━━━━━━━━━━━\u001b[0m\u001b[37m\u001b[0m \u001b[1m0s\u001b[0m 4ms/step - accuracy: 0.6714 - loss: 0.5840 \n",
            "Epoch 71/250\n",
            "\u001b[1m7/7\u001b[0m \u001b[32m━━━━━━━━━━━━━━━━━━━━\u001b[0m\u001b[37m\u001b[0m \u001b[1m0s\u001b[0m 4ms/step - accuracy: 0.6577 - loss: 0.5993 \n",
            "Epoch 72/250\n",
            "\u001b[1m7/7\u001b[0m \u001b[32m━━━━━━━━━━━━━━━━━━━━\u001b[0m\u001b[37m\u001b[0m \u001b[1m0s\u001b[0m 4ms/step - accuracy: 0.6779 - loss: 0.5897 \n",
            "Epoch 73/250\n",
            "\u001b[1m7/7\u001b[0m \u001b[32m━━━━━━━━━━━━━━━━━━━━\u001b[0m\u001b[37m\u001b[0m \u001b[1m0s\u001b[0m 4ms/step - accuracy: 0.6728 - loss: 0.6011 \n",
            "Epoch 74/250\n",
            "\u001b[1m7/7\u001b[0m \u001b[32m━━━━━━━━━━━━━━━━━━━━\u001b[0m\u001b[37m\u001b[0m \u001b[1m0s\u001b[0m 4ms/step - accuracy: 0.6544 - loss: 0.5990 \n",
            "Epoch 75/250\n",
            "\u001b[1m7/7\u001b[0m \u001b[32m━━━━━━━━━━━━━━━━━━━━\u001b[0m\u001b[37m\u001b[0m \u001b[1m0s\u001b[0m 4ms/step - accuracy: 0.6320 - loss: 0.6041 \n",
            "Epoch 76/250\n",
            "\u001b[1m7/7\u001b[0m \u001b[32m━━━━━━━━━━━━━━━━━━━━\u001b[0m\u001b[37m\u001b[0m \u001b[1m0s\u001b[0m 6ms/step - accuracy: 0.6620 - loss: 0.6020 \n",
            "Epoch 77/250\n",
            "\u001b[1m7/7\u001b[0m \u001b[32m━━━━━━━━━━━━━━━━━━━━\u001b[0m\u001b[37m\u001b[0m \u001b[1m0s\u001b[0m 4ms/step - accuracy: 0.6732 - loss: 0.5873 \n",
            "Epoch 78/250\n",
            "\u001b[1m7/7\u001b[0m \u001b[32m━━━━━━━━━━━━━━━━━━━━\u001b[0m\u001b[37m\u001b[0m \u001b[1m0s\u001b[0m 4ms/step - accuracy: 0.6494 - loss: 0.6011 \n",
            "Epoch 79/250\n",
            "\u001b[1m7/7\u001b[0m \u001b[32m━━━━━━━━━━━━━━━━━━━━\u001b[0m\u001b[37m\u001b[0m \u001b[1m0s\u001b[0m 5ms/step - accuracy: 0.6549 - loss: 0.6106 \n",
            "Epoch 80/250\n",
            "\u001b[1m7/7\u001b[0m \u001b[32m━━━━━━━━━━━━━━━━━━━━\u001b[0m\u001b[37m\u001b[0m \u001b[1m0s\u001b[0m 4ms/step - accuracy: 0.6454 - loss: 0.6094 \n",
            "Epoch 81/250\n",
            "\u001b[1m7/7\u001b[0m \u001b[32m━━━━━━━━━━━━━━━━━━━━\u001b[0m\u001b[37m\u001b[0m \u001b[1m0s\u001b[0m 4ms/step - accuracy: 0.6145 - loss: 0.5935 \n",
            "Epoch 82/250\n",
            "\u001b[1m7/7\u001b[0m \u001b[32m━━━━━━━━━━━━━━━━━━━━\u001b[0m\u001b[37m\u001b[0m \u001b[1m0s\u001b[0m 4ms/step - accuracy: 0.6434 - loss: 0.6086 \n",
            "Epoch 83/250\n",
            "\u001b[1m7/7\u001b[0m \u001b[32m━━━━━━━━━━━━━━━━━━━━\u001b[0m\u001b[37m\u001b[0m \u001b[1m0s\u001b[0m 4ms/step - accuracy: 0.6403 - loss: 0.5950 \n",
            "Epoch 84/250\n",
            "\u001b[1m7/7\u001b[0m \u001b[32m━━━━━━━━━━━━━━━━━━━━\u001b[0m\u001b[37m\u001b[0m \u001b[1m0s\u001b[0m 4ms/step - accuracy: 0.6233 - loss: 0.6181 \n",
            "Epoch 85/250\n",
            "\u001b[1m7/7\u001b[0m \u001b[32m━━━━━━━━━━━━━━━━━━━━\u001b[0m\u001b[37m\u001b[0m \u001b[1m0s\u001b[0m 4ms/step - accuracy: 0.6787 - loss: 0.5713 \n",
            "Epoch 86/250\n",
            "\u001b[1m7/7\u001b[0m \u001b[32m━━━━━━━━━━━━━━━━━━━━\u001b[0m\u001b[37m\u001b[0m \u001b[1m0s\u001b[0m 4ms/step - accuracy: 0.6819 - loss: 0.5892 \n",
            "Epoch 87/250\n",
            "\u001b[1m7/7\u001b[0m \u001b[32m━━━━━━━━━━━━━━━━━━━━\u001b[0m\u001b[37m\u001b[0m \u001b[1m0s\u001b[0m 4ms/step - accuracy: 0.6656 - loss: 0.5903 \n",
            "Epoch 88/250\n",
            "\u001b[1m7/7\u001b[0m \u001b[32m━━━━━━━━━━━━━━━━━━━━\u001b[0m\u001b[37m\u001b[0m \u001b[1m0s\u001b[0m 4ms/step - accuracy: 0.6706 - loss: 0.5926 \n",
            "Epoch 89/250\n",
            "\u001b[1m7/7\u001b[0m \u001b[32m━━━━━━━━━━━━━━━━━━━━\u001b[0m\u001b[37m\u001b[0m \u001b[1m0s\u001b[0m 4ms/step - accuracy: 0.6751 - loss: 0.5969 \n",
            "Epoch 90/250\n",
            "\u001b[1m7/7\u001b[0m \u001b[32m━━━━━━━━━━━━━━━━━━━━\u001b[0m\u001b[37m\u001b[0m \u001b[1m0s\u001b[0m 4ms/step - accuracy: 0.6588 - loss: 0.5782 \n",
            "Epoch 91/250\n",
            "\u001b[1m7/7\u001b[0m \u001b[32m━━━━━━━━━━━━━━━━━━━━\u001b[0m\u001b[37m\u001b[0m \u001b[1m0s\u001b[0m 4ms/step - accuracy: 0.6775 - loss: 0.5856 \n",
            "Epoch 92/250\n",
            "\u001b[1m7/7\u001b[0m \u001b[32m━━━━━━━━━━━━━━━━━━━━\u001b[0m\u001b[37m\u001b[0m \u001b[1m0s\u001b[0m 4ms/step - accuracy: 0.6628 - loss: 0.5874 \n",
            "Epoch 93/250\n",
            "\u001b[1m7/7\u001b[0m \u001b[32m━━━━━━━━━━━━━━━━━━━━\u001b[0m\u001b[37m\u001b[0m \u001b[1m0s\u001b[0m 4ms/step - accuracy: 0.6225 - loss: 0.6115 \n",
            "Epoch 94/250\n",
            "\u001b[1m7/7\u001b[0m \u001b[32m━━━━━━━━━━━━━━━━━━━━\u001b[0m\u001b[37m\u001b[0m \u001b[1m0s\u001b[0m 6ms/step - accuracy: 0.6482 - loss: 0.6177 \n",
            "Epoch 95/250\n",
            "\u001b[1m7/7\u001b[0m \u001b[32m━━━━━━━━━━━━━━━━━━━━\u001b[0m\u001b[37m\u001b[0m \u001b[1m0s\u001b[0m 4ms/step - accuracy: 0.6715 - loss: 0.5812 \n",
            "Epoch 96/250\n",
            "\u001b[1m7/7\u001b[0m \u001b[32m━━━━━━━━━━━━━━━━━━━━\u001b[0m\u001b[37m\u001b[0m \u001b[1m0s\u001b[0m 4ms/step - accuracy: 0.6545 - loss: 0.5907 \n",
            "Epoch 97/250\n",
            "\u001b[1m7/7\u001b[0m \u001b[32m━━━━━━━━━━━━━━━━━━━━\u001b[0m\u001b[37m\u001b[0m \u001b[1m0s\u001b[0m 4ms/step - accuracy: 0.6765 - loss: 0.5947 \n",
            "Epoch 98/250\n",
            "\u001b[1m7/7\u001b[0m \u001b[32m━━━━━━━━━━━━━━━━━━━━\u001b[0m\u001b[37m\u001b[0m \u001b[1m0s\u001b[0m 4ms/step - accuracy: 0.6364 - loss: 0.5975 \n",
            "Epoch 99/250\n",
            "\u001b[1m7/7\u001b[0m \u001b[32m━━━━━━━━━━━━━━━━━━━━\u001b[0m\u001b[37m\u001b[0m \u001b[1m0s\u001b[0m 4ms/step - accuracy: 0.6642 - loss: 0.5868 \n",
            "Epoch 100/250\n",
            "\u001b[1m7/7\u001b[0m \u001b[32m━━━━━━━━━━━━━━━━━━━━\u001b[0m\u001b[37m\u001b[0m \u001b[1m0s\u001b[0m 4ms/step - accuracy: 0.6471 - loss: 0.5931 \n",
            "Epoch 101/250\n",
            "\u001b[1m7/7\u001b[0m \u001b[32m━━━━━━━━━━━━━━━━━━━━\u001b[0m\u001b[37m\u001b[0m \u001b[1m0s\u001b[0m 4ms/step - accuracy: 0.6717 - loss: 0.5917 \n",
            "Epoch 102/250\n",
            "\u001b[1m7/7\u001b[0m \u001b[32m━━━━━━━━━━━━━━━━━━━━\u001b[0m\u001b[37m\u001b[0m \u001b[1m0s\u001b[0m 4ms/step - accuracy: 0.6717 - loss: 0.6006 \n",
            "Epoch 103/250\n",
            "\u001b[1m7/7\u001b[0m \u001b[32m━━━━━━━━━━━━━━━━━━━━\u001b[0m\u001b[37m\u001b[0m \u001b[1m0s\u001b[0m 5ms/step - accuracy: 0.6525 - loss: 0.5915 \n",
            "Epoch 104/250\n",
            "\u001b[1m7/7\u001b[0m \u001b[32m━━━━━━━━━━━━━━━━━━━━\u001b[0m\u001b[37m\u001b[0m \u001b[1m0s\u001b[0m 4ms/step - accuracy: 0.6528 - loss: 0.5957 \n",
            "Epoch 105/250\n",
            "\u001b[1m7/7\u001b[0m \u001b[32m━━━━━━━━━━━━━━━━━━━━\u001b[0m\u001b[37m\u001b[0m \u001b[1m0s\u001b[0m 4ms/step - accuracy: 0.6460 - loss: 0.6004 \n",
            "Epoch 106/250\n",
            "\u001b[1m7/7\u001b[0m \u001b[32m━━━━━━━━━━━━━━━━━━━━\u001b[0m\u001b[37m\u001b[0m \u001b[1m0s\u001b[0m 4ms/step - accuracy: 0.6860 - loss: 0.5970 \n",
            "Epoch 107/250\n",
            "\u001b[1m7/7\u001b[0m \u001b[32m━━━━━━━━━━━━━━━━━━━━\u001b[0m\u001b[37m\u001b[0m \u001b[1m0s\u001b[0m 4ms/step - accuracy: 0.6642 - loss: 0.5924 \n",
            "Epoch 108/250\n",
            "\u001b[1m7/7\u001b[0m \u001b[32m━━━━━━━━━━━━━━━━━━━━\u001b[0m\u001b[37m\u001b[0m \u001b[1m0s\u001b[0m 5ms/step - accuracy: 0.6754 - loss: 0.5875 \n",
            "Epoch 109/250\n",
            "\u001b[1m7/7\u001b[0m \u001b[32m━━━━━━━━━━━━━━━━━━━━\u001b[0m\u001b[37m\u001b[0m \u001b[1m0s\u001b[0m 4ms/step - accuracy: 0.6632 - loss: 0.5808 \n",
            "Epoch 110/250\n",
            "\u001b[1m7/7\u001b[0m \u001b[32m━━━━━━━━━━━━━━━━━━━━\u001b[0m\u001b[37m\u001b[0m \u001b[1m0s\u001b[0m 4ms/step - accuracy: 0.6842 - loss: 0.5986 \n",
            "Epoch 111/250\n",
            "\u001b[1m7/7\u001b[0m \u001b[32m━━━━━━━━━━━━━━━━━━━━\u001b[0m\u001b[37m\u001b[0m \u001b[1m0s\u001b[0m 4ms/step - accuracy: 0.6619 - loss: 0.5875 \n",
            "Epoch 112/250\n",
            "\u001b[1m7/7\u001b[0m \u001b[32m━━━━━━━━━━━━━━━━━━━━\u001b[0m\u001b[37m\u001b[0m \u001b[1m0s\u001b[0m 4ms/step - accuracy: 0.6683 - loss: 0.5714 \n",
            "Epoch 113/250\n",
            "\u001b[1m7/7\u001b[0m \u001b[32m━━━━━━━━━━━━━━━━━━━━\u001b[0m\u001b[37m\u001b[0m \u001b[1m0s\u001b[0m 4ms/step - accuracy: 0.6708 - loss: 0.6026 \n",
            "Epoch 114/250\n",
            "\u001b[1m7/7\u001b[0m \u001b[32m━━━━━━━━━━━━━━━━━━━━\u001b[0m\u001b[37m\u001b[0m \u001b[1m0s\u001b[0m 4ms/step - accuracy: 0.6780 - loss: 0.5800 \n",
            "Epoch 115/250\n",
            "\u001b[1m7/7\u001b[0m \u001b[32m━━━━━━━━━━━━━━━━━━━━\u001b[0m\u001b[37m\u001b[0m \u001b[1m0s\u001b[0m 4ms/step - accuracy: 0.6674 - loss: 0.5813 \n",
            "Epoch 116/250\n",
            "\u001b[1m7/7\u001b[0m \u001b[32m━━━━━━━━━━━━━━━━━━━━\u001b[0m\u001b[37m\u001b[0m \u001b[1m0s\u001b[0m 4ms/step - accuracy: 0.6456 - loss: 0.6016 \n",
            "Epoch 117/250\n",
            "\u001b[1m7/7\u001b[0m \u001b[32m━━━━━━━━━━━━━━━━━━━━\u001b[0m\u001b[37m\u001b[0m \u001b[1m0s\u001b[0m 4ms/step - accuracy: 0.6739 - loss: 0.5778 \n",
            "Epoch 118/250\n",
            "\u001b[1m7/7\u001b[0m \u001b[32m━━━━━━━━━━━━━━━━━━━━\u001b[0m\u001b[37m\u001b[0m \u001b[1m0s\u001b[0m 4ms/step - accuracy: 0.7013 - loss: 0.5732 \n",
            "Epoch 119/250\n",
            "\u001b[1m7/7\u001b[0m \u001b[32m━━━━━━━━━━━━━━━━━━━━\u001b[0m\u001b[37m\u001b[0m \u001b[1m0s\u001b[0m 4ms/step - accuracy: 0.6612 - loss: 0.5784 \n",
            "Epoch 120/250\n",
            "\u001b[1m7/7\u001b[0m \u001b[32m━━━━━━━━━━━━━━━━━━━━\u001b[0m\u001b[37m\u001b[0m \u001b[1m0s\u001b[0m 4ms/step - accuracy: 0.6953 - loss: 0.5694 \n",
            "Epoch 121/250\n",
            "\u001b[1m7/7\u001b[0m \u001b[32m━━━━━━━━━━━━━━━━━━━━\u001b[0m\u001b[37m\u001b[0m \u001b[1m0s\u001b[0m 4ms/step - accuracy: 0.6766 - loss: 0.5897 \n",
            "Epoch 122/250\n",
            "\u001b[1m7/7\u001b[0m \u001b[32m━━━━━━━━━━━━━━━━━━━━\u001b[0m\u001b[37m\u001b[0m \u001b[1m0s\u001b[0m 4ms/step - accuracy: 0.6752 - loss: 0.5909 \n",
            "Epoch 123/250\n",
            "\u001b[1m7/7\u001b[0m \u001b[32m━━━━━━━━━━━━━━━━━━━━\u001b[0m\u001b[37m\u001b[0m \u001b[1m0s\u001b[0m 4ms/step - accuracy: 0.6565 - loss: 0.5946 \n",
            "Epoch 124/250\n",
            "\u001b[1m7/7\u001b[0m \u001b[32m━━━━━━━━━━━━━━━━━━━━\u001b[0m\u001b[37m\u001b[0m \u001b[1m0s\u001b[0m 4ms/step - accuracy: 0.6679 - loss: 0.5817 \n",
            "Epoch 125/250\n",
            "\u001b[1m7/7\u001b[0m \u001b[32m━━━━━━━━━━━━━━━━━━━━\u001b[0m\u001b[37m\u001b[0m \u001b[1m0s\u001b[0m 4ms/step - accuracy: 0.6999 - loss: 0.5791 \n",
            "Epoch 126/250\n",
            "\u001b[1m7/7\u001b[0m \u001b[32m━━━━━━━━━━━━━━━━━━━━\u001b[0m\u001b[37m\u001b[0m \u001b[1m0s\u001b[0m 5ms/step - accuracy: 0.7226 - loss: 0.5474 \n",
            "Epoch 127/250\n",
            "\u001b[1m7/7\u001b[0m \u001b[32m━━━━━━━━━━━━━━━━━━━━\u001b[0m\u001b[37m\u001b[0m \u001b[1m0s\u001b[0m 4ms/step - accuracy: 0.6983 - loss: 0.5641 \n",
            "Epoch 128/250\n",
            "\u001b[1m7/7\u001b[0m \u001b[32m━━━━━━━━━━━━━━━━━━━━\u001b[0m\u001b[37m\u001b[0m \u001b[1m0s\u001b[0m 4ms/step - accuracy: 0.6799 - loss: 0.5738 \n",
            "Epoch 129/250\n",
            "\u001b[1m7/7\u001b[0m \u001b[32m━━━━━━━━━━━━━━━━━━━━\u001b[0m\u001b[37m\u001b[0m \u001b[1m0s\u001b[0m 4ms/step - accuracy: 0.7120 - loss: 0.5826 \n",
            "Epoch 130/250\n",
            "\u001b[1m7/7\u001b[0m \u001b[32m━━━━━━━━━━━━━━━━━━━━\u001b[0m\u001b[37m\u001b[0m \u001b[1m0s\u001b[0m 4ms/step - accuracy: 0.6566 - loss: 0.5883 \n",
            "Epoch 131/250\n",
            "\u001b[1m7/7\u001b[0m \u001b[32m━━━━━━━━━━━━━━━━━━━━\u001b[0m\u001b[37m\u001b[0m \u001b[1m0s\u001b[0m 5ms/step - accuracy: 0.6700 - loss: 0.5762 \n",
            "Epoch 132/250\n",
            "\u001b[1m7/7\u001b[0m \u001b[32m━━━━━━━━━━━━━━━━━━━━\u001b[0m\u001b[37m\u001b[0m \u001b[1m0s\u001b[0m 4ms/step - accuracy: 0.6788 - loss: 0.5754 \n",
            "Epoch 133/250\n",
            "\u001b[1m7/7\u001b[0m \u001b[32m━━━━━━━━━━━━━━━━━━━━\u001b[0m\u001b[37m\u001b[0m \u001b[1m0s\u001b[0m 4ms/step - accuracy: 0.7118 - loss: 0.5604 \n",
            "Epoch 134/250\n",
            "\u001b[1m7/7\u001b[0m \u001b[32m━━━━━━━━━━━━━━━━━━━━\u001b[0m\u001b[37m\u001b[0m \u001b[1m0s\u001b[0m 4ms/step - accuracy: 0.6733 - loss: 0.5831 \n",
            "Epoch 135/250\n",
            "\u001b[1m7/7\u001b[0m \u001b[32m━━━━━━━━━━━━━━━━━━━━\u001b[0m\u001b[37m\u001b[0m \u001b[1m0s\u001b[0m 4ms/step - accuracy: 0.6551 - loss: 0.6021 \n",
            "Epoch 136/250\n",
            "\u001b[1m7/7\u001b[0m \u001b[32m━━━━━━━━━━━━━━━━━━━━\u001b[0m\u001b[37m\u001b[0m \u001b[1m0s\u001b[0m 4ms/step - accuracy: 0.6933 - loss: 0.5723 \n",
            "Epoch 137/250\n",
            "\u001b[1m7/7\u001b[0m \u001b[32m━━━━━━━━━━━━━━━━━━━━\u001b[0m\u001b[37m\u001b[0m \u001b[1m0s\u001b[0m 4ms/step - accuracy: 0.6708 - loss: 0.5841 \n",
            "Epoch 138/250\n",
            "\u001b[1m7/7\u001b[0m \u001b[32m━━━━━━━━━━━━━━━━━━━━\u001b[0m\u001b[37m\u001b[0m \u001b[1m0s\u001b[0m 4ms/step - accuracy: 0.6673 - loss: 0.5812 \n",
            "Epoch 139/250\n",
            "\u001b[1m7/7\u001b[0m \u001b[32m━━━━━━━━━━━━━━━━━━━━\u001b[0m\u001b[37m\u001b[0m \u001b[1m0s\u001b[0m 4ms/step - accuracy: 0.6648 - loss: 0.5836 \n",
            "Epoch 140/250\n",
            "\u001b[1m7/7\u001b[0m \u001b[32m━━━━━━━━━━━━━━━━━━━━\u001b[0m\u001b[37m\u001b[0m \u001b[1m0s\u001b[0m 5ms/step - accuracy: 0.6974 - loss: 0.5803 \n",
            "Epoch 141/250\n",
            "\u001b[1m7/7\u001b[0m \u001b[32m━━━━━━━━━━━━━━━━━━━━\u001b[0m\u001b[37m\u001b[0m \u001b[1m0s\u001b[0m 4ms/step - accuracy: 0.6682 - loss: 0.5767 \n",
            "Epoch 142/250\n",
            "\u001b[1m7/7\u001b[0m \u001b[32m━━━━━━━━━━━━━━━━━━━━\u001b[0m\u001b[37m\u001b[0m \u001b[1m0s\u001b[0m 4ms/step - accuracy: 0.6849 - loss: 0.5919 \n",
            "Epoch 143/250\n",
            "\u001b[1m7/7\u001b[0m \u001b[32m━━━━━━━━━━━━━━━━━━━━\u001b[0m\u001b[37m\u001b[0m \u001b[1m0s\u001b[0m 4ms/step - accuracy: 0.6923 - loss: 0.5573 \n",
            "Epoch 144/250\n",
            "\u001b[1m7/7\u001b[0m \u001b[32m━━━━━━━━━━━━━━━━━━━━\u001b[0m\u001b[37m\u001b[0m \u001b[1m0s\u001b[0m 5ms/step - accuracy: 0.6924 - loss: 0.5562 \n",
            "Epoch 145/250\n",
            "\u001b[1m7/7\u001b[0m \u001b[32m━━━━━━━━━━━━━━━━━━━━\u001b[0m\u001b[37m\u001b[0m \u001b[1m0s\u001b[0m 5ms/step - accuracy: 0.7001 - loss: 0.5641 \n",
            "Epoch 146/250\n",
            "\u001b[1m7/7\u001b[0m \u001b[32m━━━━━━━━━━━━━━━━━━━━\u001b[0m\u001b[37m\u001b[0m \u001b[1m0s\u001b[0m 4ms/step - accuracy: 0.6586 - loss: 0.5780 \n",
            "Epoch 147/250\n",
            "\u001b[1m7/7\u001b[0m \u001b[32m━━━━━━━━━━━━━━━━━━━━\u001b[0m\u001b[37m\u001b[0m \u001b[1m0s\u001b[0m 4ms/step - accuracy: 0.6791 - loss: 0.5822 \n",
            "Epoch 148/250\n",
            "\u001b[1m7/7\u001b[0m \u001b[32m━━━━━━━━━━━━━━━━━━━━\u001b[0m\u001b[37m\u001b[0m \u001b[1m0s\u001b[0m 4ms/step - accuracy: 0.6854 - loss: 0.5698 \n",
            "Epoch 149/250\n",
            "\u001b[1m7/7\u001b[0m \u001b[32m━━━━━━━━━━━━━━━━━━━━\u001b[0m\u001b[37m\u001b[0m \u001b[1m0s\u001b[0m 5ms/step - accuracy: 0.6898 - loss: 0.5831 \n",
            "Epoch 150/250\n",
            "\u001b[1m7/7\u001b[0m \u001b[32m━━━━━━━━━━━━━━━━━━━━\u001b[0m\u001b[37m\u001b[0m \u001b[1m0s\u001b[0m 4ms/step - accuracy: 0.6584 - loss: 0.5723 \n",
            "Epoch 151/250\n",
            "\u001b[1m7/7\u001b[0m \u001b[32m━━━━━━━━━━━━━━━━━━━━\u001b[0m\u001b[37m\u001b[0m \u001b[1m0s\u001b[0m 4ms/step - accuracy: 0.7055 - loss: 0.5623 \n",
            "Epoch 152/250\n",
            "\u001b[1m7/7\u001b[0m \u001b[32m━━━━━━━━━━━━━━━━━━━━\u001b[0m\u001b[37m\u001b[0m \u001b[1m0s\u001b[0m 5ms/step - accuracy: 0.7073 - loss: 0.5554 \n",
            "Epoch 153/250\n",
            "\u001b[1m7/7\u001b[0m \u001b[32m━━━━━━━━━━━━━━━━━━━━\u001b[0m\u001b[37m\u001b[0m \u001b[1m0s\u001b[0m 4ms/step - accuracy: 0.6715 - loss: 0.5766 \n",
            "Epoch 154/250\n",
            "\u001b[1m7/7\u001b[0m \u001b[32m━━━━━━━━━━━━━━━━━━━━\u001b[0m\u001b[37m\u001b[0m \u001b[1m0s\u001b[0m 4ms/step - accuracy: 0.6787 - loss: 0.5904 \n",
            "Epoch 155/250\n",
            "\u001b[1m7/7\u001b[0m \u001b[32m━━━━━━━━━━━━━━━━━━━━\u001b[0m\u001b[37m\u001b[0m \u001b[1m0s\u001b[0m 5ms/step - accuracy: 0.7261 - loss: 0.5587 \n",
            "Epoch 156/250\n",
            "\u001b[1m7/7\u001b[0m \u001b[32m━━━━━━━━━━━━━━━━━━━━\u001b[0m\u001b[37m\u001b[0m \u001b[1m0s\u001b[0m 5ms/step - accuracy: 0.6748 - loss: 0.5746 \n",
            "Epoch 157/250\n",
            "\u001b[1m7/7\u001b[0m \u001b[32m━━━━━━━━━━━━━━━━━━━━\u001b[0m\u001b[37m\u001b[0m \u001b[1m0s\u001b[0m 4ms/step - accuracy: 0.6897 - loss: 0.5574 \n",
            "Epoch 158/250\n",
            "\u001b[1m7/7\u001b[0m \u001b[32m━━━━━━━━━━━━━━━━━━━━\u001b[0m\u001b[37m\u001b[0m \u001b[1m0s\u001b[0m 5ms/step - accuracy: 0.6598 - loss: 0.5712 \n",
            "Epoch 159/250\n",
            "\u001b[1m7/7\u001b[0m \u001b[32m━━━━━━━━━━━━━━━━━━━━\u001b[0m\u001b[37m\u001b[0m \u001b[1m0s\u001b[0m 5ms/step - accuracy: 0.7003 - loss: 0.5466 \n",
            "Epoch 160/250\n",
            "\u001b[1m7/7\u001b[0m \u001b[32m━━━━━━━━━━━━━━━━━━━━\u001b[0m\u001b[37m\u001b[0m \u001b[1m0s\u001b[0m 4ms/step - accuracy: 0.6922 - loss: 0.5595 \n",
            "Epoch 161/250\n",
            "\u001b[1m7/7\u001b[0m \u001b[32m━━━━━━━━━━━━━━━━━━━━\u001b[0m\u001b[37m\u001b[0m \u001b[1m0s\u001b[0m 4ms/step - accuracy: 0.6971 - loss: 0.5768 \n",
            "Epoch 162/250\n",
            "\u001b[1m7/7\u001b[0m \u001b[32m━━━━━━━━━━━━━━━━━━━━\u001b[0m\u001b[37m\u001b[0m \u001b[1m0s\u001b[0m 4ms/step - accuracy: 0.6680 - loss: 0.5782 \n",
            "Epoch 163/250\n",
            "\u001b[1m7/7\u001b[0m \u001b[32m━━━━━━━━━━━━━━━━━━━━\u001b[0m\u001b[37m\u001b[0m \u001b[1m0s\u001b[0m 4ms/step - accuracy: 0.6975 - loss: 0.5459 \n",
            "Epoch 164/250\n",
            "\u001b[1m7/7\u001b[0m \u001b[32m━━━━━━━━━━━━━━━━━━━━\u001b[0m\u001b[37m\u001b[0m \u001b[1m0s\u001b[0m 5ms/step - accuracy: 0.6537 - loss: 0.5693 \n",
            "Epoch 165/250\n",
            "\u001b[1m7/7\u001b[0m \u001b[32m━━━━━━━━━━━━━━━━━━━━\u001b[0m\u001b[37m\u001b[0m \u001b[1m0s\u001b[0m 4ms/step - accuracy: 0.6837 - loss: 0.5578 \n",
            "Epoch 166/250\n",
            "\u001b[1m7/7\u001b[0m \u001b[32m━━━━━━━━━━━━━━━━━━━━\u001b[0m\u001b[37m\u001b[0m \u001b[1m0s\u001b[0m 6ms/step - accuracy: 0.6542 - loss: 0.5753 \n",
            "Epoch 167/250\n",
            "\u001b[1m7/7\u001b[0m \u001b[32m━━━━━━━━━━━━━━━━━━━━\u001b[0m\u001b[37m\u001b[0m \u001b[1m0s\u001b[0m 4ms/step - accuracy: 0.6887 - loss: 0.5675 \n",
            "Epoch 168/250\n",
            "\u001b[1m7/7\u001b[0m \u001b[32m━━━━━━━━━━━━━━━━━━━━\u001b[0m\u001b[37m\u001b[0m \u001b[1m0s\u001b[0m 51ms/step - accuracy: 0.7095 - loss: 0.5474 \n",
            "Epoch 169/250\n",
            "\u001b[1m7/7\u001b[0m \u001b[32m━━━━━━━━━━━━━━━━━━━━\u001b[0m\u001b[37m\u001b[0m \u001b[1m0s\u001b[0m 5ms/step - accuracy: 0.6686 - loss: 0.5740  \n",
            "Epoch 170/250\n",
            "\u001b[1m7/7\u001b[0m \u001b[32m━━━━━━━━━━━━━━━━━━━━\u001b[0m\u001b[37m\u001b[0m \u001b[1m0s\u001b[0m 5ms/step - accuracy: 0.6954 - loss: 0.5528 \n",
            "Epoch 171/250\n",
            "\u001b[1m7/7\u001b[0m \u001b[32m━━━━━━━━━━━━━━━━━━━━\u001b[0m\u001b[37m\u001b[0m \u001b[1m0s\u001b[0m 5ms/step - accuracy: 0.6772 - loss: 0.5862 \n",
            "Epoch 172/250\n",
            "\u001b[1m7/7\u001b[0m \u001b[32m━━━━━━━━━━━━━━━━━━━━\u001b[0m\u001b[37m\u001b[0m \u001b[1m0s\u001b[0m 5ms/step - accuracy: 0.6988 - loss: 0.5720 \n",
            "Epoch 173/250\n",
            "\u001b[1m7/7\u001b[0m \u001b[32m━━━━━━━━━━━━━━━━━━━━\u001b[0m\u001b[37m\u001b[0m \u001b[1m0s\u001b[0m 4ms/step - accuracy: 0.6602 - loss: 0.5856 \n",
            "Epoch 174/250\n",
            "\u001b[1m7/7\u001b[0m \u001b[32m━━━━━━━━━━━━━━━━━━━━\u001b[0m\u001b[37m\u001b[0m \u001b[1m0s\u001b[0m 7ms/step - accuracy: 0.6529 - loss: 0.5947 \n",
            "Epoch 175/250\n",
            "\u001b[1m7/7\u001b[0m \u001b[32m━━━━━━━━━━━━━━━━━━━━\u001b[0m\u001b[37m\u001b[0m \u001b[1m0s\u001b[0m 4ms/step - accuracy: 0.6960 - loss: 0.5659 \n",
            "Epoch 176/250\n",
            "\u001b[1m7/7\u001b[0m \u001b[32m━━━━━━━━━━━━━━━━━━━━\u001b[0m\u001b[37m\u001b[0m \u001b[1m0s\u001b[0m 5ms/step - accuracy: 0.6826 - loss: 0.5771 \n",
            "Epoch 177/250\n",
            "\u001b[1m7/7\u001b[0m \u001b[32m━━━━━━━━━━━━━━━━━━━━\u001b[0m\u001b[37m\u001b[0m \u001b[1m0s\u001b[0m 5ms/step - accuracy: 0.6838 - loss: 0.5567 \n",
            "Epoch 178/250\n",
            "\u001b[1m7/7\u001b[0m \u001b[32m━━━━━━━━━━━━━━━━━━━━\u001b[0m\u001b[37m\u001b[0m \u001b[1m0s\u001b[0m 5ms/step - accuracy: 0.6703 - loss: 0.5619 \n",
            "Epoch 179/250\n",
            "\u001b[1m7/7\u001b[0m \u001b[32m━━━━━━━━━━━━━━━━━━━━\u001b[0m\u001b[37m\u001b[0m \u001b[1m0s\u001b[0m 5ms/step - accuracy: 0.6761 - loss: 0.5480 \n",
            "Epoch 180/250\n",
            "\u001b[1m7/7\u001b[0m \u001b[32m━━━━━━━━━━━━━━━━━━━━\u001b[0m\u001b[37m\u001b[0m \u001b[1m0s\u001b[0m 4ms/step - accuracy: 0.6714 - loss: 0.5612 \n",
            "Epoch 181/250\n",
            "\u001b[1m7/7\u001b[0m \u001b[32m━━━━━━━━━━━━━━━━━━━━\u001b[0m\u001b[37m\u001b[0m \u001b[1m0s\u001b[0m 4ms/step - accuracy: 0.7038 - loss: 0.5510 \n",
            "Epoch 182/250\n",
            "\u001b[1m7/7\u001b[0m \u001b[32m━━━━━━━━━━━━━━━━━━━━\u001b[0m\u001b[37m\u001b[0m \u001b[1m0s\u001b[0m 4ms/step - accuracy: 0.6644 - loss: 0.5897 \n",
            "Epoch 183/250\n",
            "\u001b[1m7/7\u001b[0m \u001b[32m━━━━━━━━━━━━━━━━━━━━\u001b[0m\u001b[37m\u001b[0m \u001b[1m0s\u001b[0m 4ms/step - accuracy: 0.6983 - loss: 0.5510 \n",
            "Epoch 184/250\n",
            "\u001b[1m7/7\u001b[0m \u001b[32m━━━━━━━━━━━━━━━━━━━━\u001b[0m\u001b[37m\u001b[0m \u001b[1m0s\u001b[0m 5ms/step - accuracy: 0.6720 - loss: 0.5744 \n",
            "Epoch 185/250\n",
            "\u001b[1m7/7\u001b[0m \u001b[32m━━━━━━━━━━━━━━━━━━━━\u001b[0m\u001b[37m\u001b[0m \u001b[1m0s\u001b[0m 4ms/step - accuracy: 0.7101 - loss: 0.5545 \n",
            "Epoch 186/250\n",
            "\u001b[1m7/7\u001b[0m \u001b[32m━━━━━━━━━━━━━━━━━━━━\u001b[0m\u001b[37m\u001b[0m \u001b[1m0s\u001b[0m 4ms/step - accuracy: 0.6535 - loss: 0.5655 \n",
            "Epoch 187/250\n",
            "\u001b[1m7/7\u001b[0m \u001b[32m━━━━━━━━━━━━━━━━━━━━\u001b[0m\u001b[37m\u001b[0m \u001b[1m0s\u001b[0m 4ms/step - accuracy: 0.6925 - loss: 0.5633 \n",
            "Epoch 188/250\n",
            "\u001b[1m7/7\u001b[0m \u001b[32m━━━━━━━━━━━━━━━━━━━━\u001b[0m\u001b[37m\u001b[0m \u001b[1m0s\u001b[0m 4ms/step - accuracy: 0.6711 - loss: 0.5571 \n",
            "Epoch 189/250\n",
            "\u001b[1m7/7\u001b[0m \u001b[32m━━━━━━━━━━━━━━━━━━━━\u001b[0m\u001b[37m\u001b[0m \u001b[1m0s\u001b[0m 4ms/step - accuracy: 0.7004 - loss: 0.5464 \n",
            "Epoch 190/250\n",
            "\u001b[1m7/7\u001b[0m \u001b[32m━━━━━━━━━━━━━━━━━━━━\u001b[0m\u001b[37m\u001b[0m \u001b[1m0s\u001b[0m 4ms/step - accuracy: 0.7163 - loss: 0.5432 \n",
            "Epoch 191/250\n",
            "\u001b[1m7/7\u001b[0m \u001b[32m━━━━━━━━━━━━━━━━━━━━\u001b[0m\u001b[37m\u001b[0m \u001b[1m0s\u001b[0m 5ms/step - accuracy: 0.6878 - loss: 0.5572 \n",
            "Epoch 192/250\n",
            "\u001b[1m7/7\u001b[0m \u001b[32m━━━━━━━━━━━━━━━━━━━━\u001b[0m\u001b[37m\u001b[0m \u001b[1m0s\u001b[0m 4ms/step - accuracy: 0.7074 - loss: 0.5365 \n",
            "Epoch 193/250\n",
            "\u001b[1m7/7\u001b[0m \u001b[32m━━━━━━━━━━━━━━━━━━━━\u001b[0m\u001b[37m\u001b[0m \u001b[1m0s\u001b[0m 4ms/step - accuracy: 0.6940 - loss: 0.5527 \n",
            "Epoch 194/250\n",
            "\u001b[1m7/7\u001b[0m \u001b[32m━━━━━━━━━━━━━━━━━━━━\u001b[0m\u001b[37m\u001b[0m \u001b[1m0s\u001b[0m 4ms/step - accuracy: 0.6941 - loss: 0.5443 \n",
            "Epoch 195/250\n",
            "\u001b[1m7/7\u001b[0m \u001b[32m━━━━━━━━━━━━━━━━━━━━\u001b[0m\u001b[37m\u001b[0m \u001b[1m0s\u001b[0m 4ms/step - accuracy: 0.6813 - loss: 0.5588 \n",
            "Epoch 196/250\n",
            "\u001b[1m7/7\u001b[0m \u001b[32m━━━━━━━━━━━━━━━━━━━━\u001b[0m\u001b[37m\u001b[0m \u001b[1m0s\u001b[0m 4ms/step - accuracy: 0.6858 - loss: 0.5449 \n",
            "Epoch 197/250\n",
            "\u001b[1m7/7\u001b[0m \u001b[32m━━━━━━━━━━━━━━━━━━━━\u001b[0m\u001b[37m\u001b[0m \u001b[1m0s\u001b[0m 4ms/step - accuracy: 0.6994 - loss: 0.5382 \n",
            "Epoch 198/250\n",
            "\u001b[1m7/7\u001b[0m \u001b[32m━━━━━━━━━━━━━━━━━━━━\u001b[0m\u001b[37m\u001b[0m \u001b[1m0s\u001b[0m 4ms/step - accuracy: 0.6854 - loss: 0.5621 \n",
            "Epoch 199/250\n",
            "\u001b[1m7/7\u001b[0m \u001b[32m━━━━━━━━━━━━━━━━━━━━\u001b[0m\u001b[37m\u001b[0m \u001b[1m0s\u001b[0m 4ms/step - accuracy: 0.6887 - loss: 0.5488 \n",
            "Epoch 200/250\n",
            "\u001b[1m7/7\u001b[0m \u001b[32m━━━━━━━━━━━━━━━━━━━━\u001b[0m\u001b[37m\u001b[0m \u001b[1m0s\u001b[0m 5ms/step - accuracy: 0.6751 - loss: 0.5776 \n",
            "Epoch 201/250\n",
            "\u001b[1m7/7\u001b[0m \u001b[32m━━━━━━━━━━━━━━━━━━━━\u001b[0m\u001b[37m\u001b[0m \u001b[1m0s\u001b[0m 4ms/step - accuracy: 0.6838 - loss: 0.5428 \n",
            "Epoch 202/250\n",
            "\u001b[1m7/7\u001b[0m \u001b[32m━━━━━━━━━━━━━━━━━━━━\u001b[0m\u001b[37m\u001b[0m \u001b[1m0s\u001b[0m 4ms/step - accuracy: 0.7029 - loss: 0.5519 \n",
            "Epoch 203/250\n",
            "\u001b[1m7/7\u001b[0m \u001b[32m━━━━━━━━━━━━━━━━━━━━\u001b[0m\u001b[37m\u001b[0m \u001b[1m0s\u001b[0m 4ms/step - accuracy: 0.7046 - loss: 0.5361 \n",
            "Epoch 204/250\n",
            "\u001b[1m7/7\u001b[0m \u001b[32m━━━━━━━━━━━━━━━━━━━━\u001b[0m\u001b[37m\u001b[0m \u001b[1m0s\u001b[0m 5ms/step - accuracy: 0.6729 - loss: 0.5581 \n",
            "Epoch 205/250\n",
            "\u001b[1m7/7\u001b[0m \u001b[32m━━━━━━━━━━━━━━━━━━━━\u001b[0m\u001b[37m\u001b[0m \u001b[1m0s\u001b[0m 5ms/step - accuracy: 0.6863 - loss: 0.5611 \n",
            "Epoch 206/250\n",
            "\u001b[1m7/7\u001b[0m \u001b[32m━━━━━━━━━━━━━━━━━━━━\u001b[0m\u001b[37m\u001b[0m \u001b[1m0s\u001b[0m 5ms/step - accuracy: 0.7058 - loss: 0.5393 \n",
            "Epoch 207/250\n",
            "\u001b[1m7/7\u001b[0m \u001b[32m━━━━━━━━━━━━━━━━━━━━\u001b[0m\u001b[37m\u001b[0m \u001b[1m0s\u001b[0m 7ms/step - accuracy: 0.6879 - loss: 0.5465 \n",
            "Epoch 208/250\n",
            "\u001b[1m7/7\u001b[0m \u001b[32m━━━━━━━━━━━━━━━━━━━━\u001b[0m\u001b[37m\u001b[0m \u001b[1m0s\u001b[0m 8ms/step - accuracy: 0.6755 - loss: 0.5665 \n",
            "Epoch 209/250\n",
            "\u001b[1m7/7\u001b[0m \u001b[32m━━━━━━━━━━━━━━━━━━━━\u001b[0m\u001b[37m\u001b[0m \u001b[1m0s\u001b[0m 5ms/step - accuracy: 0.7019 - loss: 0.5574 \n",
            "Epoch 210/250\n",
            "\u001b[1m7/7\u001b[0m \u001b[32m━━━━━━━━━━━━━━━━━━━━\u001b[0m\u001b[37m\u001b[0m \u001b[1m0s\u001b[0m 5ms/step - accuracy: 0.6915 - loss: 0.5542 \n",
            "Epoch 211/250\n",
            "\u001b[1m7/7\u001b[0m \u001b[32m━━━━━━━━━━━━━━━━━━━━\u001b[0m\u001b[37m\u001b[0m \u001b[1m0s\u001b[0m 6ms/step - accuracy: 0.6861 - loss: 0.5532 \n",
            "Epoch 212/250\n",
            "\u001b[1m7/7\u001b[0m \u001b[32m━━━━━━━━━━━━━━━━━━━━\u001b[0m\u001b[37m\u001b[0m \u001b[1m0s\u001b[0m 7ms/step - accuracy: 0.7009 - loss: 0.5372 \n",
            "Epoch 213/250\n",
            "\u001b[1m7/7\u001b[0m \u001b[32m━━━━━━━━━━━━━━━━━━━━\u001b[0m\u001b[37m\u001b[0m \u001b[1m0s\u001b[0m 6ms/step - accuracy: 0.6900 - loss: 0.5293 \n",
            "Epoch 214/250\n",
            "\u001b[1m7/7\u001b[0m \u001b[32m━━━━━━━━━━━━━━━━━━━━\u001b[0m\u001b[37m\u001b[0m \u001b[1m0s\u001b[0m 8ms/step - accuracy: 0.6990 - loss: 0.5486  \n",
            "Epoch 215/250\n",
            "\u001b[1m7/7\u001b[0m \u001b[32m━━━━━━━━━━━━━━━━━━━━\u001b[0m\u001b[37m\u001b[0m \u001b[1m0s\u001b[0m 7ms/step - accuracy: 0.7149 - loss: 0.5455 \n",
            "Epoch 216/250\n",
            "\u001b[1m7/7\u001b[0m \u001b[32m━━━━━━━━━━━━━━━━━━━━\u001b[0m\u001b[37m\u001b[0m \u001b[1m0s\u001b[0m 6ms/step - accuracy: 0.6814 - loss: 0.5542 \n",
            "Epoch 217/250\n",
            "\u001b[1m7/7\u001b[0m \u001b[32m━━━━━━━━━━━━━━━━━━━━\u001b[0m\u001b[37m\u001b[0m \u001b[1m0s\u001b[0m 8ms/step - accuracy: 0.7079 - loss: 0.5288 \n",
            "Epoch 218/250\n",
            "\u001b[1m7/7\u001b[0m \u001b[32m━━━━━━━━━━━━━━━━━━━━\u001b[0m\u001b[37m\u001b[0m \u001b[1m0s\u001b[0m 4ms/step - accuracy: 0.6977 - loss: 0.5298 \n",
            "Epoch 219/250\n",
            "\u001b[1m7/7\u001b[0m \u001b[32m━━━━━━━━━━━━━━━━━━━━\u001b[0m\u001b[37m\u001b[0m \u001b[1m0s\u001b[0m 5ms/step - accuracy: 0.6967 - loss: 0.5585 \n",
            "Epoch 220/250\n",
            "\u001b[1m7/7\u001b[0m \u001b[32m━━━━━━━━━━━━━━━━━━━━\u001b[0m\u001b[37m\u001b[0m \u001b[1m0s\u001b[0m 5ms/step - accuracy: 0.6702 - loss: 0.5404 \n",
            "Epoch 221/250\n",
            "\u001b[1m7/7\u001b[0m \u001b[32m━━━━━━━━━━━━━━━━━━━━\u001b[0m\u001b[37m\u001b[0m \u001b[1m0s\u001b[0m 4ms/step - accuracy: 0.6789 - loss: 0.5683 \n",
            "Epoch 222/250\n",
            "\u001b[1m7/7\u001b[0m \u001b[32m━━━━━━━━━━━━━━━━━━━━\u001b[0m\u001b[37m\u001b[0m \u001b[1m0s\u001b[0m 4ms/step - accuracy: 0.6677 - loss: 0.5418 \n",
            "Epoch 223/250\n",
            "\u001b[1m7/7\u001b[0m \u001b[32m━━━━━━━━━━━━━━━━━━━━\u001b[0m\u001b[37m\u001b[0m \u001b[1m0s\u001b[0m 5ms/step - accuracy: 0.7062 - loss: 0.5483 \n",
            "Epoch 224/250\n",
            "\u001b[1m7/7\u001b[0m \u001b[32m━━━━━━━━━━━━━━━━━━━━\u001b[0m\u001b[37m\u001b[0m \u001b[1m0s\u001b[0m 5ms/step - accuracy: 0.6834 - loss: 0.5424 \n",
            "Epoch 225/250\n",
            "\u001b[1m7/7\u001b[0m \u001b[32m━━━━━━━━━━━━━━━━━━━━\u001b[0m\u001b[37m\u001b[0m \u001b[1m0s\u001b[0m 5ms/step - accuracy: 0.6963 - loss: 0.5404 \n",
            "Epoch 226/250\n",
            "\u001b[1m7/7\u001b[0m \u001b[32m━━━━━━━━━━━━━━━━━━━━\u001b[0m\u001b[37m\u001b[0m \u001b[1m0s\u001b[0m 5ms/step - accuracy: 0.6933 - loss: 0.5400 \n",
            "Epoch 227/250\n",
            "\u001b[1m7/7\u001b[0m \u001b[32m━━━━━━━━━━━━━━━━━━━━\u001b[0m\u001b[37m\u001b[0m \u001b[1m0s\u001b[0m 5ms/step - accuracy: 0.7014 - loss: 0.5437 \n",
            "Epoch 228/250\n",
            "\u001b[1m7/7\u001b[0m \u001b[32m━━━━━━━━━━━━━━━━━━━━\u001b[0m\u001b[37m\u001b[0m \u001b[1m0s\u001b[0m 5ms/step - accuracy: 0.6758 - loss: 0.5557 \n",
            "Epoch 229/250\n",
            "\u001b[1m7/7\u001b[0m \u001b[32m━━━━━━━━━━━━━━━━━━━━\u001b[0m\u001b[37m\u001b[0m \u001b[1m0s\u001b[0m 5ms/step - accuracy: 0.7043 - loss: 0.5433 \n",
            "Epoch 230/250\n",
            "\u001b[1m7/7\u001b[0m \u001b[32m━━━━━━━━━━━━━━━━━━━━\u001b[0m\u001b[37m\u001b[0m \u001b[1m0s\u001b[0m 5ms/step - accuracy: 0.7009 - loss: 0.5270 \n",
            "Epoch 231/250\n",
            "\u001b[1m7/7\u001b[0m \u001b[32m━━━━━━━━━━━━━━━━━━━━\u001b[0m\u001b[37m\u001b[0m \u001b[1m0s\u001b[0m 4ms/step - accuracy: 0.7298 - loss: 0.5334 \n",
            "Epoch 232/250\n",
            "\u001b[1m7/7\u001b[0m \u001b[32m━━━━━━━━━━━━━━━━━━━━\u001b[0m\u001b[37m\u001b[0m \u001b[1m0s\u001b[0m 4ms/step - accuracy: 0.6856 - loss: 0.5491 \n",
            "Epoch 233/250\n",
            "\u001b[1m7/7\u001b[0m \u001b[32m━━━━━━━━━━━━━━━━━━━━\u001b[0m\u001b[37m\u001b[0m \u001b[1m0s\u001b[0m 4ms/step - accuracy: 0.7131 - loss: 0.5345 \n",
            "Epoch 234/250\n",
            "\u001b[1m7/7\u001b[0m \u001b[32m━━━━━━━━━━━━━━━━━━━━\u001b[0m\u001b[37m\u001b[0m \u001b[1m0s\u001b[0m 4ms/step - accuracy: 0.7030 - loss: 0.5311 \n",
            "Epoch 235/250\n",
            "\u001b[1m7/7\u001b[0m \u001b[32m━━━━━━━━━━━━━━━━━━━━\u001b[0m\u001b[37m\u001b[0m \u001b[1m0s\u001b[0m 4ms/step - accuracy: 0.7092 - loss: 0.5080 \n",
            "Epoch 236/250\n",
            "\u001b[1m7/7\u001b[0m \u001b[32m━━━━━━━━━━━━━━━━━━━━\u001b[0m\u001b[37m\u001b[0m \u001b[1m0s\u001b[0m 4ms/step - accuracy: 0.6755 - loss: 0.5392 \n",
            "Epoch 237/250\n",
            "\u001b[1m7/7\u001b[0m \u001b[32m━━━━━━━━━━━━━━━━━━━━\u001b[0m\u001b[37m\u001b[0m \u001b[1m0s\u001b[0m 4ms/step - accuracy: 0.7015 - loss: 0.5372 \n",
            "Epoch 238/250\n",
            "\u001b[1m7/7\u001b[0m \u001b[32m━━━━━━━━━━━━━━━━━━━━\u001b[0m\u001b[37m\u001b[0m \u001b[1m0s\u001b[0m 4ms/step - accuracy: 0.7130 - loss: 0.5322 \n",
            "Epoch 239/250\n",
            "\u001b[1m7/7\u001b[0m \u001b[32m━━━━━━━━━━━━━━━━━━━━\u001b[0m\u001b[37m\u001b[0m \u001b[1m0s\u001b[0m 4ms/step - accuracy: 0.7090 - loss: 0.5307 \n",
            "Epoch 240/250\n",
            "\u001b[1m7/7\u001b[0m \u001b[32m━━━━━━━━━━━━━━━━━━━━\u001b[0m\u001b[37m\u001b[0m \u001b[1m0s\u001b[0m 5ms/step - accuracy: 0.7106 - loss: 0.5472 \n",
            "Epoch 241/250\n",
            "\u001b[1m7/7\u001b[0m \u001b[32m━━━━━━━━━━━━━━━━━━━━\u001b[0m\u001b[37m\u001b[0m \u001b[1m0s\u001b[0m 5ms/step - accuracy: 0.6847 - loss: 0.5325 \n",
            "Epoch 242/250\n",
            "\u001b[1m7/7\u001b[0m \u001b[32m━━━━━━━━━━━━━━━━━━━━\u001b[0m\u001b[37m\u001b[0m \u001b[1m0s\u001b[0m 5ms/step - accuracy: 0.6920 - loss: 0.5462 \n",
            "Epoch 243/250\n",
            "\u001b[1m7/7\u001b[0m \u001b[32m━━━━━━━━━━━━━━━━━━━━\u001b[0m\u001b[37m\u001b[0m \u001b[1m0s\u001b[0m 5ms/step - accuracy: 0.7087 - loss: 0.5349 \n",
            "Epoch 244/250\n",
            "\u001b[1m7/7\u001b[0m \u001b[32m━━━━━━━━━━━━━━━━━━━━\u001b[0m\u001b[37m\u001b[0m \u001b[1m0s\u001b[0m 4ms/step - accuracy: 0.7013 - loss: 0.5394 \n",
            "Epoch 245/250\n",
            "\u001b[1m7/7\u001b[0m \u001b[32m━━━━━━━━━━━━━━━━━━━━\u001b[0m\u001b[37m\u001b[0m \u001b[1m0s\u001b[0m 4ms/step - accuracy: 0.7063 - loss: 0.5392 \n",
            "Epoch 246/250\n",
            "\u001b[1m7/7\u001b[0m \u001b[32m━━━━━━━━━━━━━━━━━━━━\u001b[0m\u001b[37m\u001b[0m \u001b[1m0s\u001b[0m 5ms/step - accuracy: 0.7295 - loss: 0.5085 \n",
            "Epoch 247/250\n",
            "\u001b[1m7/7\u001b[0m \u001b[32m━━━━━━━━━━━━━━━━━━━━\u001b[0m\u001b[37m\u001b[0m \u001b[1m0s\u001b[0m 6ms/step - accuracy: 0.7184 - loss: 0.5328 \n",
            "Epoch 248/250\n",
            "\u001b[1m7/7\u001b[0m \u001b[32m━━━━━━━━━━━━━━━━━━━━\u001b[0m\u001b[37m\u001b[0m \u001b[1m0s\u001b[0m 6ms/step - accuracy: 0.6879 - loss: 0.5647 \n",
            "Epoch 249/250\n",
            "\u001b[1m7/7\u001b[0m \u001b[32m━━━━━━━━━━━━━━━━━━━━\u001b[0m\u001b[37m\u001b[0m \u001b[1m0s\u001b[0m 5ms/step - accuracy: 0.7184 - loss: 0.5231 \n",
            "Epoch 250/250\n",
            "\u001b[1m7/7\u001b[0m \u001b[32m━━━━━━━━━━━━━━━━━━━━\u001b[0m\u001b[37m\u001b[0m \u001b[1m0s\u001b[0m 5ms/step - accuracy: 0.7192 - loss: 0.5132 \n"
          ]
        },
        {
          "output_type": "execute_result",
          "data": {
            "text/plain": [
              "<keras.src.callbacks.history.History at 0x7a1bb8cd0990>"
            ]
          },
          "metadata": {},
          "execution_count": 182
        }
      ],
      "execution_count": 182
    },
    {
      "cell_type": "markdown",
      "source": [
        "We compiled the model with an appropriate optimizer, a loss function, and an evaluation metric. After compiling the model, we fit it on the training set, and we set the epoch count to 250. We can see that the accuracy improved over the 250 epochs."
      ],
      "metadata": {
        "id": "XwP76wwiK5uw"
      }
    },
    {
      "cell_type": "markdown",
      "source": [
        "## Model Evaluation"
      ],
      "metadata": {
        "id": "w6VAo-ZNK5uw"
      }
    },
    {
      "cell_type": "code",
      "source": [
        "model.evaluate(X_train, y_train)"
      ],
      "metadata": {
        "colab": {
          "base_uri": "https://localhost:8080/"
        },
        "execution": {
          "iopub.status.busy": "2025-04-13T10:39:56.23299Z",
          "iopub.execute_input": "2025-04-13T10:39:56.233342Z",
          "iopub.status.idle": "2025-04-13T10:39:56.51361Z",
          "shell.execute_reply.started": "2025-04-13T10:39:56.23331Z",
          "shell.execute_reply": "2025-04-13T10:39:56.512602Z"
        },
        "id": "k2GEaWbtK5ux",
        "outputId": "3353ebfd-c6c2-4181-8813-64af09a953f9",
        "trusted": true
      },
      "outputs": [
        {
          "output_type": "stream",
          "name": "stdout",
          "text": [
            "\u001b[1m7/7\u001b[0m \u001b[32m━━━━━━━━━━━━━━━━━━━━\u001b[0m\u001b[37m\u001b[0m \u001b[1m0s\u001b[0m 3ms/step - accuracy: 0.7479 - loss: 0.5030  \n"
          ]
        },
        {
          "output_type": "execute_result",
          "data": {
            "text/plain": [
              "[0.4897875487804413, 0.7399103045463562]"
            ]
          },
          "metadata": {},
          "execution_count": 183
        }
      ],
      "execution_count": 183
    },
    {
      "cell_type": "code",
      "source": [
        "model.evaluate(X_test, y_test)"
      ],
      "metadata": {
        "colab": {
          "base_uri": "https://localhost:8080/"
        },
        "execution": {
          "iopub.status.busy": "2025-04-13T10:39:56.51452Z",
          "iopub.execute_input": "2025-04-13T10:39:56.514787Z",
          "iopub.status.idle": "2025-04-13T10:39:56.60645Z",
          "shell.execute_reply.started": "2025-04-13T10:39:56.514766Z",
          "shell.execute_reply": "2025-04-13T10:39:56.605591Z"
        },
        "id": "Rv1vr_EdK5ux",
        "outputId": "a86dd6d0-ddad-48e9-b8cb-a9946b72f962",
        "trusted": true
      },
      "outputs": [
        {
          "output_type": "stream",
          "name": "stdout",
          "text": [
            "\u001b[1m3/3\u001b[0m \u001b[32m━━━━━━━━━━━━━━━━━━━━\u001b[0m\u001b[37m\u001b[0m \u001b[1m0s\u001b[0m 9ms/step - accuracy: 0.7096 - loss: 0.6828 \n"
          ]
        },
        {
          "output_type": "execute_result",
          "data": {
            "text/plain": [
              "[0.6884887218475342, 0.7395833134651184]"
            ]
          },
          "metadata": {},
          "execution_count": 184
        }
      ],
      "execution_count": 184
    },
    {
      "cell_type": "markdown",
      "source": [
        "The model evaluation output shows the performance of the model on both training and test data. The accuracy was approximately 75% on the training data and 74% on the test data. Ideally, the higher the accuracy value, the better the model is performing. It's noteworthy that the training and test set accuracies are close to each other, which shows that there is consistency and that the accuracy doesn't drop too much when we test the model on unseen data."
      ],
      "metadata": {
        "id": "2vxOAc9uK5ux"
      }
    },
    {
      "cell_type": "markdown",
      "source": [
        "## Conclusion\n",
        "\n",
        "In this project, we have built Deep Learning Classification models using the deep learning framework, Keras, in TensorFlow. We used a real-world IPO dataset and built a classifier algorithm to predict whether an IPO will list at profit or not.\n",
        "\n",
        "We used the Sequential API to build the model, which is achieving a decent accuracy of 75% and 74% on training and test data, respectively. We see that the accuracy is consistent across the training and test datasets, which is a promising sign."
      ],
      "metadata": {
        "id": "M_sIj5bVK5ux"
      }
    }
  ]
}